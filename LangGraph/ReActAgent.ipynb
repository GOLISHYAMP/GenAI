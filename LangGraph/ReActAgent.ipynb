{
 "cells": [
  {
   "cell_type": "code",
   "execution_count": 38,
   "id": "af016c46",
   "metadata": {},
   "outputs": [],
   "source": [
    "import ollama"
   ]
  },
  {
   "cell_type": "code",
   "execution_count": 39,
   "id": "02de3d88",
   "metadata": {},
   "outputs": [
    {
     "name": "stdout",
     "output_type": "stream",
     "text": [
      "Sure! Here's a classic one:\n",
      "\n",
      "Why did the tomato turn red?\n",
      "\n",
      "Because it saw the salad dressing!\n",
      "\n",
      "I hope that made you laugh! Let me know if you want another joke or any other help from my side.\n"
     ]
    }
   ],
   "source": [
    "message = \"tell me a joke\"\n",
    "prompt = {\"role\": \"user\", \"content\":message}\n",
    "response = ollama.chat(\n",
    "    model = \"qwen2.5:1.5b\",\n",
    "    messages = [prompt])\n",
    "\n",
    "print(response.message.content)"
   ]
  },
  {
   "cell_type": "code",
   "execution_count": 40,
   "id": "d4a13621",
   "metadata": {},
   "outputs": [],
   "source": [
    "class Agent:\n",
    "    def __init__(self, system = \"\"):\n",
    "        self.system = system \n",
    "        self.message = []\n",
    "        if self.system:\n",
    "            self.message.append({\"role\":\"system\", \"content\":self.system})\n",
    "    \n",
    "    def __call__(self, prompt):\n",
    "        self.message.append({\"role\":\"user\", \"content\":prompt})\n",
    "        result = self.execute()\n",
    "        self.message.append({\"role\":\"assistant\", \"content\":result})\n",
    "        return result\n",
    "    \n",
    "    def execute(self, model = \"qwen2.5:1.5b\"):\n",
    "        response = ollama.chat(\n",
    "            model = model,\n",
    "            messages=self.message\n",
    "        )\n",
    "        return response.message.content\n",
    "    \n"
   ]
  },
  {
   "cell_type": "code",
   "execution_count": 41,
   "id": "06273467",
   "metadata": {},
   "outputs": [],
   "source": [
    "agent = Agent()"
   ]
  },
  {
   "cell_type": "code",
   "execution_count": 42,
   "id": "b1f0d273",
   "metadata": {},
   "outputs": [
    {
     "name": "stdout",
     "output_type": "stream",
     "text": [
      "Sure! Here are some creative ideas:\n",
      "\n",
      "  * How about we have an impromptu paint and sip night where everyone brings their favorite snacks and drinks to create art in the style of one of your favorite painters?\n",
      "  * Another idea could be a movie trivia game where each team takes turns answering questions based on their favorite movies. The team that has the most correct answers wins!\n",
      "  * For an escape room adventure, gather a group of friends or family members for an immersive experience. Find clues around the house or in secret locations and work together to solve puzzles and complete challenges.\n",
      "  * How about organizing a virtual dance party where everyone can join from home? Dress up in your favorite costume or wear pajamas and dance along to your favorite songs!\n",
      "  * For something more adventurous, organize a scavenger hunt with clues around the neighborhood. The first person who finds all the answers wins a small prize.\n",
      "  * Another fun idea could be hosting a movie marathon where everyone brings their favorite movies for everyone else to watch. You can play popcorn and bring snacks as well!\n",
      "\n",
      "Remember to have fun and come up with your own creative ideas too!\n"
     ]
    }
   ],
   "source": [
    "print(agent(\"come with more creative\"))"
   ]
  },
  {
   "cell_type": "code",
   "execution_count": 43,
   "id": "fc426010",
   "metadata": {},
   "outputs": [],
   "source": [
    "prompt = '''\n",
    "You run in a loop of Thought, Action, PAUSE, Observation.\n",
    "At the end of the loop you output an Answer\n",
    "Use Thought to describe your thoughts about the question you have been asked.\n",
    "Use Action to run one of the actions available to you - then return PAUSE.\n",
    "Observation will be the result of running those actions.\n",
    "\n",
    "Your available actions are:\n",
    "\n",
    "calculate:\n",
    "e.g. calculate: 4 * 7 / 3\n",
    "Runs a calculation and returns the number - uses Python so be sure to use floating point syntax if necessary\n",
    "\n",
    "get_cost:\n",
    "e.g. get_cost: book\n",
    "returns the cost of a book\n",
    "\n",
    "wikipedia:\n",
    "e.g. wikipedia: LangChain\n",
    "Returns a summary from searching Wikipedia\n",
    "\n",
    "Always look things up on Wikipedia if you have the opportunity to do so.\n",
    "\n",
    "Example session #1:\n",
    "\n",
    "Question: How much does a pen cost?\n",
    "Thought: I should look the pen cost using get_cost\n",
    "Action: get_cost: pen\n",
    "PAUSE\n",
    "\n",
    "You will be called again with this:\n",
    "\n",
    "Observation: A pen costs $5\n",
    "\n",
    "You then output:\n",
    "\n",
    "Answer: A pen costs $5\n",
    "\n",
    "\n",
    "Example session #2\n",
    "\n",
    "Question: What is the capital of France?\n",
    "Thought: I should look up France on Wikipedia\n",
    "Action: wikipedia: France\n",
    "PAUSE\n",
    "\n",
    "You will be called again with this:\n",
    "\n",
    "Observation: France is a country. The capital is Paris.\n",
    "\n",
    "You then output:\n",
    "\n",
    "Answer: The capital of France is Paris\n",
    "'''.strip()\n"
   ]
  },
  {
   "cell_type": "markdown",
   "id": "7e3a768f",
   "metadata": {},
   "source": [
    "## Creating Tools"
   ]
  },
  {
   "cell_type": "code",
   "execution_count": 44,
   "id": "a38500cf",
   "metadata": {},
   "outputs": [],
   "source": [
    "def Calculator(question):\n",
    "    \"\"\"This tool is used to solve the math problems such as 2**5  or 34*56 and such type\"\"\"\n",
    "    return eval(question)"
   ]
  },
  {
   "cell_type": "code",
   "execution_count": 45,
   "id": "82f254de",
   "metadata": {},
   "outputs": [
    {
     "data": {
      "text/plain": [
       "5695003679558247880375471569828315136"
      ]
     },
     "execution_count": 45,
     "metadata": {},
     "output_type": "execute_result"
    }
   ],
   "source": [
    "Calculator(\"34**24\")"
   ]
  },
  {
   "cell_type": "code",
   "execution_count": 46,
   "id": "7b5ac101",
   "metadata": {},
   "outputs": [],
   "source": [
    "# 2. the get_cost() function returns the cost for a pen, a book, and a stapler\n",
    "def get_cost(thing):\n",
    "    '''\n",
    "    This function returns the cost for a pen, a book, and a stapler\n",
    "    '''\n",
    "    if thing in 'pen': \n",
    "        return('A pen costs $5')\n",
    "    elif thing in 'book':\n",
    "        return('A book costs $20')\n",
    "    elif thing in 'stapler':\n",
    "        return('A stapler costs $10')\n",
    "    else:\n",
    "        return('A random thing for writing costs $12.')"
   ]
  },
  {
   "cell_type": "code",
   "execution_count": 47,
   "id": "4daed03e",
   "metadata": {},
   "outputs": [
    {
     "data": {
      "text/plain": [
       "'A pen costs $5'"
      ]
     },
     "execution_count": 47,
     "metadata": {},
     "output_type": "execute_result"
    }
   ],
   "source": [
    "get_cost(\"pen\")"
   ]
  },
  {
   "cell_type": "code",
   "execution_count": 48,
   "id": "2777a07e",
   "metadata": {},
   "outputs": [],
   "source": [
    "import re\n",
    "import httpx\n",
    "\n",
    "# 3. the wikipedia() function uses the Wikipedia API to search for a specific query on Wikipedia\n",
    "def wikipedia(q):\n",
    "    '''\n",
    "    the wikipedia() function uses the Wikipedia API to search for a specific query on Wikipedia\n",
    "    '''\n",
    "    response = httpx.get('https://en.wikipedia.org/w/api.php', params={\n",
    "        'action': 'query',\n",
    "        'list': 'search',\n",
    "        'srsearch': q,\n",
    "        'format': 'json'\n",
    "    })\n",
    "    results = response.json().get('query').get('search', [])\n",
    "    \n",
    "    if not results:\n",
    "        return None\n",
    "    return results[0]['snippet']"
   ]
  },
  {
   "cell_type": "code",
   "execution_count": 49,
   "id": "2a9ced6d",
   "metadata": {},
   "outputs": [],
   "source": [
    "result = wikipedia(\"Shivaji Maharaj\")"
   ]
  },
  {
   "cell_type": "code",
   "execution_count": 50,
   "id": "715d47d4",
   "metadata": {},
   "outputs": [
    {
     "data": {
      "text/markdown": [
       "<span class=\"searchmatch\">Shivaji</span> I (<span class=\"searchmatch\">Shivaji</span> Shahaji Bhonsale, Marathi pronunciation: [ʃiˈʋaːdʑiː ˈbʱos(ə)le]; c. 19 February 1630 – 3 April 1680) was an Indian ruler and a member"
      ],
      "text/plain": [
       "<IPython.core.display.Markdown object>"
      ]
     },
     "execution_count": 50,
     "metadata": {},
     "output_type": "execute_result"
    }
   ],
   "source": [
    "from IPython.display import Markdown\n",
    "Markdown(result)"
   ]
  },
  {
   "cell_type": "code",
   "execution_count": 51,
   "id": "6e37b14e",
   "metadata": {},
   "outputs": [],
   "source": [
    "# dictionary that maps the function names to the functions themselves\n",
    "known_actions = {\n",
    "    'calculate': Calculator,\n",
    "    'get_cost': get_cost,\n",
    "    'wikipedia': wikipedia\n",
    "}"
   ]
  },
  {
   "cell_type": "markdown",
   "id": "b8191754",
   "metadata": {},
   "source": [
    "### Testing Agent"
   ]
  },
  {
   "cell_type": "code",
   "execution_count": 52,
   "id": "f3008f99",
   "metadata": {},
   "outputs": [],
   "source": [
    "my_agent = Agent(prompt)"
   ]
  },
  {
   "cell_type": "code",
   "execution_count": 53,
   "id": "a1583390",
   "metadata": {},
   "outputs": [
    {
     "name": "stdout",
     "output_type": "stream",
     "text": [
      "Thought: I should look up the cost of the pen using get_cost\n",
      "Action: get_cost: pen\n",
      "PAUSE\n"
     ]
    }
   ],
   "source": [
    "print(my_agent(\"what is the price of the pen\"))"
   ]
  },
  {
   "cell_type": "code",
   "execution_count": 54,
   "id": "32ba2262",
   "metadata": {},
   "outputs": [],
   "source": [
    "# creating the next prompt that will be used as an observation and passed to the language model\n",
    "next_prompt = f\"Observation: {get_cost('pen')}\""
   ]
  },
  {
   "cell_type": "code",
   "execution_count": 55,
   "id": "712e2b62",
   "metadata": {},
   "outputs": [
    {
     "data": {
      "text/plain": [
       "'Answer: A pen costs $5.'"
      ]
     },
     "execution_count": 55,
     "metadata": {},
     "output_type": "execute_result"
    }
   ],
   "source": [
    "my_agent(next_prompt)"
   ]
  },
  {
   "cell_type": "code",
   "execution_count": 56,
   "id": "22cee364",
   "metadata": {},
   "outputs": [
    {
     "data": {
      "text/plain": [
       "[{'role': 'system',\n",
       "  'content': 'You run in a loop of Thought, Action, PAUSE, Observation.\\nAt the end of the loop you output an Answer\\nUse Thought to describe your thoughts about the question you have been asked.\\nUse Action to run one of the actions available to you - then return PAUSE.\\nObservation will be the result of running those actions.\\n\\nYour available actions are:\\n\\ncalculate:\\ne.g. calculate: 4 * 7 / 3\\nRuns a calculation and returns the number - uses Python so be sure to use floating point syntax if necessary\\n\\nget_cost:\\ne.g. get_cost: book\\nreturns the cost of a book\\n\\nwikipedia:\\ne.g. wikipedia: LangChain\\nReturns a summary from searching Wikipedia\\n\\nAlways look things up on Wikipedia if you have the opportunity to do so.\\n\\nExample session #1:\\n\\nQuestion: How much does a pen cost?\\nThought: I should look the pen cost using get_cost\\nAction: get_cost: pen\\nPAUSE\\n\\nYou will be called again with this:\\n\\nObservation: A pen costs $5\\n\\nYou then output:\\n\\nAnswer: A pen costs $5\\n\\n\\nExample session #2\\n\\nQuestion: What is the capital of France?\\nThought: I should look up France on Wikipedia\\nAction: wikipedia: France\\nPAUSE\\n\\nYou will be called again with this:\\n\\nObservation: France is a country. The capital is Paris.\\n\\nYou then output:\\n\\nAnswer: The capital of France is Paris'},\n",
       " {'role': 'user', 'content': 'what is the price of the pen'},\n",
       " {'role': 'assistant',\n",
       "  'content': 'Thought: I should look up the cost of the pen using get_cost\\nAction: get_cost: pen\\nPAUSE'},\n",
       " {'role': 'user', 'content': 'Observation: A pen costs $5'},\n",
       " {'role': 'assistant', 'content': 'Answer: A pen costs $5.'}]"
      ]
     },
     "execution_count": 56,
     "metadata": {},
     "output_type": "execute_result"
    }
   ],
   "source": [
    "my_agent.message"
   ]
  },
  {
   "cell_type": "code",
   "execution_count": 57,
   "id": "481a7bd3",
   "metadata": {},
   "outputs": [
    {
     "data": {
      "text/plain": [
       "'Thought: I should look up the cost of a pen and a book using get_cost for each, then sum the results.\\nAction: get_cost: pen\\nAction: get_cost: book\\nPAUSE'"
      ]
     },
     "execution_count": 57,
     "metadata": {},
     "output_type": "execute_result"
    }
   ],
   "source": [
    "question = '''I want to buy a pen and a book. \n",
    "How much do they cost in total?'''\n",
    "\n",
    "my_agent(question)"
   ]
  },
  {
   "cell_type": "code",
   "execution_count": 58,
   "id": "60b23891",
   "metadata": {},
   "outputs": [
    {
     "data": {
      "text/plain": [
       "'Answer: The total cost of a pen and a book is $10.'"
      ]
     },
     "execution_count": 58,
     "metadata": {},
     "output_type": "execute_result"
    }
   ],
   "source": [
    "my_agent(f\"Observation: {get_cost('pen')}\")"
   ]
  },
  {
   "cell_type": "code",
   "execution_count": 59,
   "id": "9c13cfe3",
   "metadata": {},
   "outputs": [
    {
     "data": {
      "text/plain": [
       "[{'role': 'system',\n",
       "  'content': 'You run in a loop of Thought, Action, PAUSE, Observation.\\nAt the end of the loop you output an Answer\\nUse Thought to describe your thoughts about the question you have been asked.\\nUse Action to run one of the actions available to you - then return PAUSE.\\nObservation will be the result of running those actions.\\n\\nYour available actions are:\\n\\ncalculate:\\ne.g. calculate: 4 * 7 / 3\\nRuns a calculation and returns the number - uses Python so be sure to use floating point syntax if necessary\\n\\nget_cost:\\ne.g. get_cost: book\\nreturns the cost of a book\\n\\nwikipedia:\\ne.g. wikipedia: LangChain\\nReturns a summary from searching Wikipedia\\n\\nAlways look things up on Wikipedia if you have the opportunity to do so.\\n\\nExample session #1:\\n\\nQuestion: How much does a pen cost?\\nThought: I should look the pen cost using get_cost\\nAction: get_cost: pen\\nPAUSE\\n\\nYou will be called again with this:\\n\\nObservation: A pen costs $5\\n\\nYou then output:\\n\\nAnswer: A pen costs $5\\n\\n\\nExample session #2\\n\\nQuestion: What is the capital of France?\\nThought: I should look up France on Wikipedia\\nAction: wikipedia: France\\nPAUSE\\n\\nYou will be called again with this:\\n\\nObservation: France is a country. The capital is Paris.\\n\\nYou then output:\\n\\nAnswer: The capital of France is Paris'},\n",
       " {'role': 'user', 'content': 'what is the price of the pen'},\n",
       " {'role': 'assistant',\n",
       "  'content': 'Thought: I should look up the cost of the pen using get_cost\\nAction: get_cost: pen\\nPAUSE'},\n",
       " {'role': 'user', 'content': 'Observation: A pen costs $5'},\n",
       " {'role': 'assistant', 'content': 'Answer: A pen costs $5.'},\n",
       " {'role': 'user',\n",
       "  'content': 'I want to buy a pen and a book. \\nHow much do they cost in total?'},\n",
       " {'role': 'assistant',\n",
       "  'content': 'Thought: I should look up the cost of a pen and a book using get_cost for each, then sum the results.\\nAction: get_cost: pen\\nAction: get_cost: book\\nPAUSE'},\n",
       " {'role': 'user', 'content': 'Observation: A pen costs $5'},\n",
       " {'role': 'assistant',\n",
       "  'content': 'Answer: The total cost of a pen and a book is $10.'}]"
      ]
     },
     "execution_count": 59,
     "metadata": {},
     "output_type": "execute_result"
    }
   ],
   "source": [
    "my_agent.message"
   ]
  },
  {
   "cell_type": "code",
   "execution_count": 60,
   "id": "8f16a4a1",
   "metadata": {},
   "outputs": [
    {
     "data": {
      "text/plain": [
       "'Answer: The total cost of a pen and a book is $25.'"
      ]
     },
     "execution_count": 60,
     "metadata": {},
     "output_type": "execute_result"
    }
   ],
   "source": [
    "my_agent(f\"Observation: {get_cost('book')}\")"
   ]
  },
  {
   "cell_type": "code",
   "execution_count": 61,
   "id": "8c85fa63",
   "metadata": {},
   "outputs": [
    {
     "data": {
      "text/plain": [
       "[{'role': 'system',\n",
       "  'content': 'You run in a loop of Thought, Action, PAUSE, Observation.\\nAt the end of the loop you output an Answer\\nUse Thought to describe your thoughts about the question you have been asked.\\nUse Action to run one of the actions available to you - then return PAUSE.\\nObservation will be the result of running those actions.\\n\\nYour available actions are:\\n\\ncalculate:\\ne.g. calculate: 4 * 7 / 3\\nRuns a calculation and returns the number - uses Python so be sure to use floating point syntax if necessary\\n\\nget_cost:\\ne.g. get_cost: book\\nreturns the cost of a book\\n\\nwikipedia:\\ne.g. wikipedia: LangChain\\nReturns a summary from searching Wikipedia\\n\\nAlways look things up on Wikipedia if you have the opportunity to do so.\\n\\nExample session #1:\\n\\nQuestion: How much does a pen cost?\\nThought: I should look the pen cost using get_cost\\nAction: get_cost: pen\\nPAUSE\\n\\nYou will be called again with this:\\n\\nObservation: A pen costs $5\\n\\nYou then output:\\n\\nAnswer: A pen costs $5\\n\\n\\nExample session #2\\n\\nQuestion: What is the capital of France?\\nThought: I should look up France on Wikipedia\\nAction: wikipedia: France\\nPAUSE\\n\\nYou will be called again with this:\\n\\nObservation: France is a country. The capital is Paris.\\n\\nYou then output:\\n\\nAnswer: The capital of France is Paris'},\n",
       " {'role': 'user', 'content': 'what is the price of the pen'},\n",
       " {'role': 'assistant',\n",
       "  'content': 'Thought: I should look up the cost of the pen using get_cost\\nAction: get_cost: pen\\nPAUSE'},\n",
       " {'role': 'user', 'content': 'Observation: A pen costs $5'},\n",
       " {'role': 'assistant', 'content': 'Answer: A pen costs $5.'},\n",
       " {'role': 'user',\n",
       "  'content': 'I want to buy a pen and a book. \\nHow much do they cost in total?'},\n",
       " {'role': 'assistant',\n",
       "  'content': 'Thought: I should look up the cost of a pen and a book using get_cost for each, then sum the results.\\nAction: get_cost: pen\\nAction: get_cost: book\\nPAUSE'},\n",
       " {'role': 'user', 'content': 'Observation: A pen costs $5'},\n",
       " {'role': 'assistant',\n",
       "  'content': 'Answer: The total cost of a pen and a book is $10.'},\n",
       " {'role': 'user', 'content': 'Observation: A book costs $20'},\n",
       " {'role': 'assistant',\n",
       "  'content': 'Answer: The total cost of a pen and a book is $25.'}]"
      ]
     },
     "execution_count": 61,
     "metadata": {},
     "output_type": "execute_result"
    }
   ],
   "source": [
    "my_agent.message"
   ]
  },
  {
   "cell_type": "code",
   "execution_count": 63,
   "id": "16a4bb01",
   "metadata": {},
   "outputs": [
    {
     "data": {
      "text/plain": [
       "'Thought: Since you didn\\'t provide any specific information, it\\'s difficult for me to accurately answer this question. However, since NTR is a nickname used in various situations and can be associated with people such as entertainment personalities or actors, I\\'m going to use \"Jr.\" to represent him/her as an example.\\n\\nAnswer: The person known as Jr. (assuming the actual name is someone notable) is not readily identifiable without more specific information.\\nAction: wikipedia: Jr.\\nPAUSE'"
      ]
     },
     "execution_count": 63,
     "metadata": {},
     "output_type": "execute_result"
    }
   ],
   "source": [
    "my_agent('Who is Jr.NTR')"
   ]
  },
  {
   "cell_type": "code",
   "execution_count": 64,
   "id": "f83cbd2c",
   "metadata": {},
   "outputs": [
    {
     "data": {
      "text/plain": [
       "'Answer: The person known as Jr. (assuming the actual name is someone notable) is not readily identifiable without more specific information.\\n\\nAction: wikipedia: Jr.\\nPAUSE'"
      ]
     },
     "execution_count": 64,
     "metadata": {},
     "output_type": "execute_result"
    }
   ],
   "source": [
    "my_agent(f\"Observation: {wikipedia('Jr.NTR')}\")"
   ]
  },
  {
   "cell_type": "code",
   "execution_count": 66,
   "id": "35b4bc40",
   "metadata": {},
   "outputs": [
    {
     "data": {
      "text/plain": [
       "'Thought: I should look up the price of the pen using get_cost.\\nAction: get_cost: pen\\nPAUSE'"
      ]
     },
     "execution_count": 66,
     "metadata": {},
     "output_type": "execute_result"
    }
   ],
   "source": [
    "my_agent(wikipedia('Jr.NTR'))"
   ]
  },
  {
   "cell_type": "markdown",
   "id": "9871ec9e",
   "metadata": {},
   "source": [
    "### Till now every thing was manual, we was running the observations, Lets automate the process.\n",
    "## Automating the Agent"
   ]
  },
  {
   "cell_type": "code",
   "execution_count": 67,
   "id": "6b5ba92c",
   "metadata": {},
   "outputs": [],
   "source": [
    "action_re = re.compile(r\"^Action: (\\w+): (.*)$\")"
   ]
  },
  {
   "cell_type": "code",
   "execution_count": 70,
   "id": "aaeb5032",
   "metadata": {},
   "outputs": [],
   "source": [
    "result = 'Thought: I should look up the cost of a pen and a book using get_cost for each, then sum the results.\\nAction: get_cost: pen\\nAction: get_cost: book\\nPAUSE'"
   ]
  },
  {
   "cell_type": "code",
   "execution_count": 71,
   "id": "391dfe71",
   "metadata": {},
   "outputs": [],
   "source": [
    "actions = [ # This is a list comprehension\n",
    "            action_re.match(a) for a in result.split('\\n') if action_re.match(a)\n",
    "        ]"
   ]
  },
  {
   "cell_type": "code",
   "execution_count": 72,
   "id": "5ba32414",
   "metadata": {},
   "outputs": [
    {
     "data": {
      "text/plain": [
       "[<re.Match object; span=(0, 21), match='Action: get_cost: pen'>,\n",
       " <re.Match object; span=(0, 22), match='Action: get_cost: book'>]"
      ]
     },
     "execution_count": 72,
     "metadata": {},
     "output_type": "execute_result"
    }
   ],
   "source": [
    "actions"
   ]
  },
  {
   "cell_type": "code",
   "execution_count": 76,
   "id": "f9b6c30a",
   "metadata": {},
   "outputs": [],
   "source": [
    "action, action_input = actions[1].groups()"
   ]
  },
  {
   "cell_type": "code",
   "execution_count": 77,
   "id": "ca31d044",
   "metadata": {},
   "outputs": [
    {
     "data": {
      "text/plain": [
       "'get_cost'"
      ]
     },
     "execution_count": 77,
     "metadata": {},
     "output_type": "execute_result"
    }
   ],
   "source": [
    "action"
   ]
  },
  {
   "cell_type": "code",
   "execution_count": 78,
   "id": "31ded3ed",
   "metadata": {},
   "outputs": [
    {
     "data": {
      "text/plain": [
       "'book'"
      ]
     },
     "execution_count": 78,
     "metadata": {},
     "output_type": "execute_result"
    }
   ],
   "source": [
    "action_input"
   ]
  },
  {
   "cell_type": "code",
   "execution_count": 96,
   "id": "a6ccb141",
   "metadata": {},
   "outputs": [],
   "source": [
    "def query(question, max_turns=5):\n",
    "    i = 0\n",
    "    bot = Agent(prompt)\n",
    "    next_prompt = question\n",
    "    while i < max_turns:\n",
    "        i += 1\n",
    "        result = bot(next_prompt)\n",
    "        print(result)\n",
    "\n",
    "         # using the regex to parse the response from the agent.\n",
    "        actions = [ # This is a list comprehension\n",
    "            action_re.match(a) for a in result.split('\\n') if action_re.match(a)\n",
    "        ]\n",
    "\n",
    "        if actions:\n",
    "            next_prompt = 'Observation: '\n",
    "            for action in actions:\n",
    "                action, action_input = action.groups() \n",
    "\n",
    "                if action not in known_actions:\n",
    "                    raise Exception(f'Unknown action: {action}: {action_input}')\n",
    "\n",
    "                print(f' -- running {action} {action_input}')\n",
    "                observation = known_actions[action](action_input) \n",
    "            \n",
    "                print(f'Observation: {observation}')\n",
    "                next_prompt += f'{observation} '\n",
    "        else:\n",
    "            return\n",
    "        "
   ]
  },
  {
   "cell_type": "code",
   "execution_count": 97,
   "id": "20144d38",
   "metadata": {},
   "outputs": [
    {
     "name": "stdout",
     "output_type": "stream",
     "text": [
      "Thought: To calculate the cost, I need to know how many books and pens I plan to purchase. For this example, let's assume I will be buying 3 books and 2 pens.\n",
      "\n",
      "Action: get_cost: book  \n",
      "PAUSE\n",
      " -- running get_cost book  \n",
      "Observation: A random thing for writing costs $12.\n",
      "Thought: The cost of a book is $12. This doesn't directly answer the question but gives me an idea of what to expect in terms of prices.\n",
      "\n",
      "Action: get_cost: pen  \n",
      "PAUSE\n",
      " -- running get_cost pen  \n",
      "Observation: A random thing for writing costs $12.\n",
      "Thought: The cost of a pen is also $12. I will now calculate the total cost by adding up the amount for both books and pens.\n",
      "\n",
      "Action: calculate: 3 * 12 + 2 * 12  \n",
      "PAUSE\n",
      " -- running calculate 3 * 12 + 2 * 12  \n",
      "Observation: 60\n",
      "Thought: The total cost of 3 books and 2 pens is $60. \n",
      "\n",
      "Action: Answer: The total cost for the books and pens is $60.\n",
      "\n",
      "Answer: The total cost for the books and pens is $60.\n"
     ]
    },
    {
     "ename": "Exception",
     "evalue": "Unknown action: Answer: The total cost for the books and pens is $60.",
     "output_type": "error",
     "traceback": [
      "\u001b[31m---------------------------------------------------------------------------\u001b[39m",
      "\u001b[31mException\u001b[39m                                 Traceback (most recent call last)",
      "\u001b[36mCell\u001b[39m\u001b[36m \u001b[39m\u001b[32mIn[97]\u001b[39m\u001b[32m, line 2\u001b[39m\n\u001b[32m      1\u001b[39m question = \u001b[33m'''\u001b[39m\u001b[33mI want to buy books and pens. How much do I have to pay?\u001b[39m\u001b[33m'''\u001b[39m\n\u001b[32m----> \u001b[39m\u001b[32m2\u001b[39m \u001b[43mquery\u001b[49m\u001b[43m(\u001b[49m\u001b[43mquestion\u001b[49m\u001b[43m)\u001b[49m\n",
      "\u001b[36mCell\u001b[39m\u001b[36m \u001b[39m\u001b[32mIn[96]\u001b[39m\u001b[32m, line 21\u001b[39m, in \u001b[36mquery\u001b[39m\u001b[34m(question, max_turns)\u001b[39m\n\u001b[32m     18\u001b[39m action, action_input = action.groups() \n\u001b[32m     20\u001b[39m \u001b[38;5;28;01mif\u001b[39;00m action \u001b[38;5;129;01mnot\u001b[39;00m \u001b[38;5;129;01min\u001b[39;00m known_actions:\n\u001b[32m---> \u001b[39m\u001b[32m21\u001b[39m     \u001b[38;5;28;01mraise\u001b[39;00m \u001b[38;5;167;01mException\u001b[39;00m(\u001b[33mf\u001b[39m\u001b[33m'\u001b[39m\u001b[33mUnknown action: \u001b[39m\u001b[38;5;132;01m{\u001b[39;00maction\u001b[38;5;132;01m}\u001b[39;00m\u001b[33m: \u001b[39m\u001b[38;5;132;01m{\u001b[39;00maction_input\u001b[38;5;132;01m}\u001b[39;00m\u001b[33m'\u001b[39m)\n\u001b[32m     23\u001b[39m \u001b[38;5;28mprint\u001b[39m(\u001b[33mf\u001b[39m\u001b[33m'\u001b[39m\u001b[33m -- running \u001b[39m\u001b[38;5;132;01m{\u001b[39;00maction\u001b[38;5;132;01m}\u001b[39;00m\u001b[33m \u001b[39m\u001b[38;5;132;01m{\u001b[39;00maction_input\u001b[38;5;132;01m}\u001b[39;00m\u001b[33m'\u001b[39m)\n\u001b[32m     24\u001b[39m observation = known_actions[action](action_input) \n",
      "\u001b[31mException\u001b[39m: Unknown action: Answer: The total cost for the books and pens is $60."
     ]
    }
   ],
   "source": [
    "question = '''I want to buy books and pens. How much do I have to pay?'''\n",
    "query(question)"
   ]
  },
  {
   "cell_type": "code",
   "execution_count": null,
   "id": "49979299",
   "metadata": {},
   "outputs": [],
   "source": []
  }
 ],
 "metadata": {
  "kernelspec": {
   "display_name": "venv",
   "language": "python",
   "name": "python3"
  },
  "language_info": {
   "codemirror_mode": {
    "name": "ipython",
    "version": 3
   },
   "file_extension": ".py",
   "mimetype": "text/x-python",
   "name": "python",
   "nbconvert_exporter": "python",
   "pygments_lexer": "ipython3",
   "version": "3.12.5"
  }
 },
 "nbformat": 4,
 "nbformat_minor": 5
}
