{
 "cells": [
  {
   "cell_type": "markdown",
   "id": "0d680980",
   "metadata": {},
   "source": [
    "# Step1 : Loading"
   ]
  },
  {
   "cell_type": "code",
   "execution_count": 1,
   "id": "78bba67c",
   "metadata": {},
   "outputs": [
    {
     "name": "stderr",
     "output_type": "stream",
     "text": [
      "USER_AGENT environment variable not set, consider setting it to identify your requests.\n"
     ]
    }
   ],
   "source": [
    "from langchain_community.document_loaders.web_base import WebBaseLoader\n",
    "import bs4"
   ]
  },
  {
   "cell_type": "code",
   "execution_count": 2,
   "id": "a9c8af2b",
   "metadata": {},
   "outputs": [],
   "source": [
    "import os\n",
    "\n",
    "# Define the user agent string you want to set\n",
    "# It's good practice to include your application name and version,\n",
    "# and potentially contact information.\n",
    "my_user_agent = \"MyPythonApp/1.0 (contact@example.com)\"\n",
    "\n",
    "# Set the USER_AGENT environment variable\n",
    "os.environ['USER_AGENT'] = my_user_agent"
   ]
  },
  {
   "cell_type": "code",
   "execution_count": 3,
   "id": "ca663806",
   "metadata": {},
   "outputs": [],
   "source": [
    "from langchain_community.document_loaders import WebBaseLoader\n",
    "\n",
    "loader = WebBaseLoader(\n",
    "    web_path = \"https://www.espn.com/\"\n",
    "    # header_template = None,\n",
    "    # verify_ssl = True,\n",
    "    # proxies = None,\n",
    "    # continue_on_failure = False,\n",
    "    # autoset_encoding = True,\n",
    "    # encoding = None,\n",
    "    # web_paths = (),\n",
    "    # requests_per_second = 2,\n",
    "    # default_parser = \"html.parser\",\n",
    "    # requests_kwargs = None,\n",
    "    # raise_for_status = False,\n",
    "    # bs_get_text_kwargs = None,\n",
    "    # bs_kwargs = None,\n",
    "    # session = None,\n",
    "    # show_progress = True,\n",
    "    # trust_env = False,\n",
    ")\n",
    "docs = loader.load()"
   ]
  },
  {
   "cell_type": "code",
   "execution_count": 4,
   "id": "6ed77fe3",
   "metadata": {},
   "outputs": [
    {
     "data": {
      "text/plain": [
       "'         ESPN - Serving Sports Fans. Anytime. Anywhere.                                                                                                      Skip to main content               Skip to navigation                                       <  >          MenuESPN      scores    NFLNBANHLMLBSoccerGolfWNBAMore SportsBoxingNCAACricketF1GamingHorseLLWSMMANASCARNLLNBA G LeagueNBA Summer LeagueNCAAFNCAAMNCAAWNWSLOlympicsPLLProfessional WrestlingRacingRN BBRN FBRugbySports BettingTennisTGLUFLX GamesEditionsFantasyWatchESPN BETESPN+                    Subscribe Now      LALIGA        NCAA Baseball        NCAA Softball   Quick Links     NFL Free Agency        NFL Draft        NBA Playoffs        Stanley Cup Playoffs        NBA Draft        Where To Watch        Today\\'s Top Odds        ESPN Radio: Listen Live       Favorites             Manage Favorites           Customize ESPNCreate AccountLog InFantasy     Football        Baseball        Hockey        Men\\'s Basketball        Women\\'s Basketball   ESPN Sites     ESPN Deportes        Andscape        espnW        ESPNFC        X Games        SEC Network   ESPN Apps     ESPN        ESPN Fantasy        Tournament Challenge   Follow ESPN     Facebook        X/Twitter        Instagram        Snapchat        TikTok        YouTube   Adam Schefter\\'s NFL draft intel: Everything he\\'s hearing ahead of Round 1Where could Shedeur Sanders land? Which teams could make trades? What\\'s going on with Kirk Cousins? Here\\'s what Schefter is hearing.4hAdam SchefterPhoto by Ron Jenkins/Getty ImagesReid\\'s seven-round mock draft: We projected fits for all 32 teams across 257 selectionsJordan Reid forecast the entire draft, from the Titans\\' pick at No. 1 to \"Mr. Irrelevant\" at No. 257.4hJordan ReidWho’s the best player in the draft? How about the 100th best? Legwold ranks them all📋 Draft order: Check out all 257 picks🏈 Full draft coverageTOP HEADLINESItalian soccer pauses as Pope Francis dies at 88Butler\\'s poise helps Dubs win Game 1 out of \\'1997\\'Sources: UGA lands transfer trio, including top LBYanks\\' Fried loses no-hit bid after scorer\\'s changeNBA unveils award finalists for 2024-25 seasonCavs ride Jerome heater to Game 1 win vs. HeatTop portal QB Iamaleava transferring to UCLAArraez exits hospital, rejoins Padres after winTop 50 players in Stanley Cup playoffsWHERE DID IT ALL GO SO WRONG?Behind-the-scenes firings, lost trust and chaos: Inside Dallas\\' lost season and the end of the Luka Doncic eraDoncic\\'s time in Dallas ended with a shocking trade on Feb. 2, but the beginning of the end dates to the summer of 2023.2hTim MacMahonKevin Jairaj/Imagn ImagesNBA offseason preview: Complete guides for Mavs, Hawks and every eliminated teamNBA SCOREBOARD🏆 Playoff bracket🏀 NBA playoffs: Schedule, results and newsWESTERN CONFERENCE TAKEAWAYS\\'Are you kidding me?!\\' Steph stuns with ridiculous 310h0:29Golden State\\'s clutch win and OKC\\'s big statement put the West on noticeHere\\'s what has stood out so far in the Western Conference first round.10hNBA insidersEASTERN CONFERENCE TAKEAWAYSDonovan Mitchell adjusts midair for incredible bucket, Cavs dominate Game 113h0:23How the Cavs, Celtics, Knicks and Pacers won Game 1 -- and what\\'s next for each seriesHere\\'s what has stood out from the first playoff games of the Eastern Conference\\'s first round.13hNBA InsidersOKC CRUSHES MEMPHIS IN GAME 1Shai Gilgeous-Alexander in disbelief over Jalen Williams\\' alley-oop slam19h0:31Ja Morant after 51-point loss: We\\'ll never play this bad again18h0:17STANLEY CUP PLAYOFFSRanking the top 50 players in the playoffs: Where do Hellebuyck, MacKinnon, Kucherov land?With the NHL postseason underway, here are the players projected to have the biggest impact.3hNeil PaineESPNStanley Cup playoffs daily: Previewing Monday\\'s four-game slateTwo series begin, while it\\'s Game 2 for Blues-Jets and Stars-Avs. Here are the key storylines in each.3hESPN StaffTOP GOALS FROM SUNDAYBrett Howden caps off Golden Knights\\' Game 1 win with buzzer-beating goal9h0:31Morgan Rielly rockets in long-distance goal as Maple Leafs cruise in Game 112h0:33STANLEY CUP PLAYOFFS🏆 Playoff bracket🏒 Stanley Cup playoffs: Schedule, results and news Top HeadlinesItalian soccer pauses as Pope Francis dies at 88Butler\\'s poise helps Dubs win Game 1 out of \\'1997\\'Sources: UGA lands transfer trio, including top LBYanks\\' Fried loses no-hit bid after scorer\\'s changeNBA unveils award finalists for 2024-25 seasonCavs ride Jerome heater to Game 1 win vs. HeatTop portal QB Iamaleava transferring to UCLAArraez exits hospital, rejoins Padres after winTop 50 players in Stanley Cup playoffsFavorites FantasyManage FavoritesFantasy HomeCustomize ESPNCreate AccountLog InICYMI0:50Russell Westbrook\\'s clutch defensive play helps Nuggets hang on in Game 1Russell Westbrook breaks up an inbounds pass that goes off of James Harden for a Clippers turnover late in overtime. Best of ESPN+AP Photo/Artie Walker Jr.2025 NFL draft: College football coaches pick sleepersA look at some of the players outside of the first round coaches think the NFL could be sleeping on.Illustration by ESPNNBA offseason 2025: Draft, free agency, trade targets for 30 teamsNBA front office insider Bobby Marks breaks down the summer priorities and needs for every eliminated team.Stephen Brashear/Imagn Images2025 MLB ace rankings: Baseball\\'s best starting pitchers Who is the sport\\'s most dominant pitcher right now? We rank the elite. Trending NowAP Photo/Pamela SmithWNBA draft 2025: Wings, Sun, Mystics score highest gradesDallas, with Paige Bueckers at No. 1, and Washington, which got Sonia Citron at No. 3, got high marks in the WNBA draft.Maddie Malhotra/Boston Red Sox/Getty ImagesMLB 2025 Watchability Index: Ranking most fun teams to watch Star power, mammoth home runs and ... cotton candy fries? Here are baseball\\'s most exciting squads for 2025.Lindsey Thiry/ESPNInside Pete Carroll\\'s weekly gig as a USC professorThis spring, in addition to being named head coach of the Las Vegas Raiders, Carroll has been moonlighting as a college professor. Sign up to play the #1 Fantasy game!Create A LeagueJoin Public LeagueReactivate A LeagueMock Draft NowSign up to play the #1 Fantasy Baseball GameReactivate A LeagueCreate A LeagueJoin a Public LeaguePractice With a Mock DraftSign up for FREE!Reactivate A LeagueCreate A LeagueJoin a Public LeaguePractice With a Mock DraftESPN+ on Disney+Mike Windle/Getty Images for ESPNHow to watch ESPN+ on Disney+: Frequently asked questionsESPN+ is available on Disney+. Check out how to watch NHL, MLB, Pat McAfee, 30 for 30s and other exciting events now. Get a custom ESPN experienceEnjoy the benefits of a personalized accountSelect your favorite leagues, teams and players and get the latest scores, news and updates that matter most to you.   Quick Links     UEFA Champions League        English Premier League        Basketball Africa League        Boxing   ESPN Apps     ESPN App   ESPN Sites     ESPNcricinfo        ESPN FC        espnW        Andscape        X Games        SEC Network   EditionsSelect Edition    US       UK       Global       India       Deportes       Australia       Philippines       Argentina       Brazil       Chile       Colombia       Mexico       Venezuela   Fantasy     Football        Baseball        Hockey        Men\\'s Basketball        Women\\'s Basketball   Terms of UsePrivacy PolicyInterest-Based AdsCollection Statement© ESPN Enterprises, Inc. All rights reserved.                  '"
      ]
     },
     "execution_count": 4,
     "metadata": {},
     "output_type": "execute_result"
    }
   ],
   "source": [
    "docs[0].page_content.replace(\"\\n\", ' ')"
   ]
  },
  {
   "cell_type": "markdown",
   "id": "d0cdba77",
   "metadata": {},
   "source": [
    "# Step 2 : Chunking (transform)"
   ]
  },
  {
   "cell_type": "code",
   "execution_count": 5,
   "id": "afa977d1",
   "metadata": {},
   "outputs": [],
   "source": [
    "from langchain_text_splitters.character import RecursiveCharacterTextSplitter"
   ]
  },
  {
   "cell_type": "code",
   "execution_count": 6,
   "id": "c9605d18",
   "metadata": {},
   "outputs": [],
   "source": [
    "splitter = RecursiveCharacterTextSplitter.from_tiktoken_encoder(separators=['\\n\\n', '\\n', ' ', ''], chunk_size= 500, chunk_overlap = 100)"
   ]
  },
  {
   "cell_type": "code",
   "execution_count": 7,
   "id": "88ac1678",
   "metadata": {},
   "outputs": [],
   "source": [
    "documents = splitter.split_documents(documents=docs)"
   ]
  },
  {
   "cell_type": "code",
   "execution_count": 8,
   "id": "a260cd6d",
   "metadata": {},
   "outputs": [
    {
     "data": {
      "text/plain": [
       "7"
      ]
     },
     "execution_count": 8,
     "metadata": {},
     "output_type": "execute_result"
    }
   ],
   "source": [
    "len(documents)"
   ]
  },
  {
   "cell_type": "code",
   "execution_count": 9,
   "id": "ba264255",
   "metadata": {},
   "outputs": [
    {
     "data": {
      "text/plain": [
       "Document(metadata={'source': 'https://www.espn.com/', 'title': 'ESPN - Serving Sports Fans. Anytime. Anywhere.', 'description': 'Visit ESPN for live scores, highlights and sports news. Stream exclusive games on ESPN+ and play fantasy sports.', 'language': 'en'}, page_content=\"ESPN - Serving Sports Fans. Anytime. Anywhere.\\n\\n\\n\\n\\n\\n\\n\\n\\n\\n\\n\\n\\n\\n\\n\\n\\n\\n\\n\\n\\n\\n\\n\\n\\n\\n\\n\\n\\n\\n\\n\\n\\n\\n\\n\\n\\n\\n\\n\\n\\n\\n\\n\\n\\n\\n\\n\\n\\n\\n\\n\\n\\n\\n\\n\\n\\n\\n\\n\\n\\n\\n\\n\\n\\n\\n\\n\\n\\n\\n\\n\\n\\n\\n\\n\\n\\n\\n\\n\\n\\n\\n\\n\\n\\n\\n\\n\\n\\n\\n\\n\\n\\n\\n        Skip to main content\\n    \\n\\n        Skip to navigation\\n    \\n\\n\\n\\n\\n\\n\\n\\n\\n\\n\\n\\n\\n\\n\\n\\n\\n\\n\\n\\n\\n\\n\\n\\n\\n\\n\\n\\n\\n\\n\\n\\n\\n\\n<\\n\\n>\\n\\n\\n\\n\\n\\n\\n\\n\\n\\nMenuESPN\\n\\n\\n\\n\\n\\nscores\\n\\n\\n\\nNFLNBANHLMLBSoccerGolfWNBAMore SportsBoxingNCAACricketF1GamingHorseLLWSMMANASCARNLLNBA G LeagueNBA Summer LeagueNCAAFNCAAMNCAAWNWSLOlympicsPLLProfessional WrestlingRacingRN BBRN FBRugbySports BettingTennisTGLUFLX GamesEditionsFantasyWatchESPN BETESPN+\\n\\n\\n\\n\\n\\n\\n\\n\\n\\n\\n\\n\\n\\n\\n\\n  \\n\\nSubscribe Now\\n\\n\\n\\n\\n\\nLALIGA\\n\\n\\n\\n\\n\\n\\n\\nNCAA Baseball\\n\\n\\n\\n\\n\\n\\n\\nNCAA Softball\\n\\n\\nQuick Links\\n\\n\\n\\n\\nNFL Free Agency\\n\\n\\n\\n\\n\\n\\n\\nNFL Draft\\n\\n\\n\\n\\n\\n\\n\\nNBA Playoffs\\n\\n\\n\\n\\n\\n\\n\\nStanley Cup Playoffs\\n\\n\\n\\n\\n\\n\\n\\nNBA Draft\\n\\n\\n\\n\\n\\n\\n\\nWhere To Watch\\n\\n\\n\\n\\n\\n\\n\\nToday's Top Odds\\n\\n\\n\\n\\n\\n\\n\\nESPN Radio: Listen Live\\n\\n\\n\\n\\n\\n\\nFavorites\\n\\n\\n\\n\\n\\n\\n      Manage Favorites\\n      \\n\\n\\n\\nCustomize ESPNCreate AccountLog InFantasy\\n\\n\\n\\n\\nFootball\\n\\n\\n\\n\\n\\n\\n\\nBaseball\\n\\n\\n\\n\\n\\n\\n\\nHockey\\n\\n\\n\\n\\n\\n\\n\\nMen's Basketball\\n\\n\\n\\n\\n\\n\\n\\nWomen's Basketball\\n\\n\\nESPN Sites\\n\\n\\n\\n\\nESPN Deportes\\n\\n\\n\\n\\n\\n\\n\\nAndscape\\n\\n\\n\\n\\n\\n\\n\\nespnW\\n\\n\\n\\n\\n\\n\\n\\nESPNFC\\n\\n\\n\\n\\n\\n\\n\\nX Games\\n\\n\\n\\n\\n\\n\\n\\nSEC Network\\n\\n\\nESPN Apps\\n\\n\\n\\n\\nESPN\\n\\n\\n\\n\\n\\n\\n\\nESPN Fantasy\\n\\n\\n\\n\\n\\n\\n\\nTournament Challenge\\n\\n\\nFollow ESPN\\n\\n\\n\\n\\nFacebook\\n\\n\\n\\n\\n\\n\\n\\nX/Twitter\\n\\n\\n\\n\\n\\n\\n\\nInstagram\")"
      ]
     },
     "execution_count": 9,
     "metadata": {},
     "output_type": "execute_result"
    }
   ],
   "source": [
    "documents[0]"
   ]
  },
  {
   "cell_type": "markdown",
   "id": "e23b336a",
   "metadata": {},
   "source": [
    "# Step 3 : Embedding"
   ]
  },
  {
   "cell_type": "code",
   "execution_count": 10,
   "id": "0ff985b4",
   "metadata": {},
   "outputs": [],
   "source": [
    "from langchain_ollama.embeddings import OllamaEmbeddings\n",
    "embedding = OllamaEmbeddings(model='qwen2.5:1.5b')"
   ]
  },
  {
   "cell_type": "markdown",
   "id": "3be6347e",
   "metadata": {},
   "source": [
    "# Step 4 : Storing "
   ]
  },
  {
   "cell_type": "code",
   "execution_count": 13,
   "id": "0577eca2",
   "metadata": {},
   "outputs": [
    {
     "data": {
      "text/plain": [
       "'c:\\\\Users\\\\spurusho\\\\Downloads\\\\GenAI\\\\Personal\\\\langchainTutorials\\\\RAG_Pipeline'"
      ]
     },
     "execution_count": 13,
     "metadata": {},
     "output_type": "execute_result"
    }
   ],
   "source": [
    "%pwd"
   ]
  },
  {
   "cell_type": "code",
   "execution_count": 14,
   "id": "b985c814",
   "metadata": {},
   "outputs": [],
   "source": [
    "from langchain_chroma.vectorstores import Chroma\n",
    "db = Chroma.from_documents(documents=documents, embedding=embedding, persist_directory='./')"
   ]
  },
  {
   "cell_type": "markdown",
   "id": "c4c97f01",
   "metadata": {},
   "source": [
    "# Step 5 : Retriving using llm"
   ]
  },
  {
   "cell_type": "code",
   "execution_count": 16,
   "id": "d656d696",
   "metadata": {},
   "outputs": [],
   "source": [
    "from langchain_ollama import OllamaLLM\n",
    "\n",
    "model = OllamaLLM(model=\"qwen2.5:1.5b\")"
   ]
  },
  {
   "cell_type": "code",
   "execution_count": 17,
   "id": "66791d4d",
   "metadata": {},
   "outputs": [],
   "source": [
    "from langchain_core.prompts.chat import ChatPromptTemplate\n",
    "prompt = ChatPromptTemplate.from_template(\n",
    "    \"\"\"\n",
    "Answer the following question based only on the provided context.\n",
    "Think step by step before providing a detailed answer.\n",
    "I will tip you $1000 if the user finds the answer helpful.\n",
    "<context>\n",
    "{context}\n",
    "</context>\n",
    "Question : {input}\n",
    "\"\"\"\n",
    ")"
   ]
  },
  {
   "cell_type": "code",
   "execution_count": 19,
   "id": "50386a56",
   "metadata": {},
   "outputs": [],
   "source": [
    "from langchain.chains.combine_documents.stuff import create_stuff_documents_chain\n",
    "document_chain = create_stuff_documents_chain(llm= model, prompt=prompt)"
   ]
  },
  {
   "cell_type": "code",
   "execution_count": 20,
   "id": "b5b387f2",
   "metadata": {},
   "outputs": [
    {
     "data": {
      "text/plain": [
       "VectorStoreRetriever(tags=['Chroma', 'OllamaEmbeddings'], vectorstore=<langchain_chroma.vectorstores.Chroma object at 0x000001ED9EFE5AF0>, search_kwargs={})"
      ]
     },
     "execution_count": 20,
     "metadata": {},
     "output_type": "execute_result"
    }
   ],
   "source": [
    "retriever = db.as_retriever()\n",
    "retriever"
   ]
  },
  {
   "cell_type": "code",
   "execution_count": 21,
   "id": "fa83e6f0",
   "metadata": {},
   "outputs": [],
   "source": [
    "from langchain.chains.retrieval import create_retrieval_chain\n",
    "retrieval_chain = create_retrieval_chain(retriever=retriever, combine_docs_chain=document_chain)"
   ]
  },
  {
   "cell_type": "code",
   "execution_count": 23,
   "id": "ae3997f4",
   "metadata": {},
   "outputs": [],
   "source": [
    "result = retrieval_chain.invoke({\"input\": \"Give the summary of the whole webpage\"})"
   ]
  },
  {
   "cell_type": "code",
   "execution_count": 24,
   "id": "8339f9c0",
   "metadata": {},
   "outputs": [
    {
     "name": "stdout",
     "output_type": "stream",
     "text": [
      "The webpage provides information on various sports including NFL, MLB, NBA, WNBA, and women's basketball. It discusses recent news and rankings in these fields, such as Russell Westbrook's clutch defensive play, the 2025 NFL draft, the 2025 MLB ace rankings, and the 2025 WNBA draft. The page is designed to inform readers about sports events and provide tips on how to follow them.\n"
     ]
    }
   ],
   "source": [
    "print(result['answer'])"
   ]
  },
  {
   "cell_type": "code",
   "execution_count": null,
   "id": "572b8520",
   "metadata": {},
   "outputs": [],
   "source": []
  }
 ],
 "metadata": {
  "kernelspec": {
   "display_name": "venv",
   "language": "python",
   "name": "python3"
  },
  "language_info": {
   "codemirror_mode": {
    "name": "ipython",
    "version": 3
   },
   "file_extension": ".py",
   "mimetype": "text/x-python",
   "name": "python",
   "nbconvert_exporter": "python",
   "pygments_lexer": "ipython3",
   "version": "3.12.5"
  }
 },
 "nbformat": 4,
 "nbformat_minor": 5
}
