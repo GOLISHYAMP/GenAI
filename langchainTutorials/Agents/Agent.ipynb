{
 "cells": [
  {
   "cell_type": "code",
   "execution_count": 8,
   "id": "3ff71ca9",
   "metadata": {},
   "outputs": [],
   "source": [
    "from langchain_community.tools.arxiv.tool import ArxivQueryRun\n",
    "from langchain_community.utilities.arxiv import ArxivAPIWrapper"
   ]
  },
  {
   "cell_type": "code",
   "execution_count": 9,
   "id": "061b55e5",
   "metadata": {},
   "outputs": [],
   "source": [
    "Arxiv_API_Wrapper = ArxivAPIWrapper(top_k_results=1, doc_content_chars_max=200)\n",
    "Arxiv_tool = ArxivQueryRun(api_wrapper=Arxiv_API_Wrapper)"
   ]
  },
  {
   "cell_type": "code",
   "execution_count": 5,
   "id": "19e19141",
   "metadata": {},
   "outputs": [],
   "source": [
    "from langchain_community.tools.wikipedia.tool import WikipediaQueryRun\n",
    "from langchain_community.utilities.wikipedia import WikipediaAPIWrapper"
   ]
  },
  {
   "cell_type": "code",
   "execution_count": 69,
   "id": "f19183d2",
   "metadata": {},
   "outputs": [],
   "source": [
    "# Set up Wikipedia tool\n",
    "wiki = WikipediaQueryRun(api_wrapper=WikipediaAPIWrapper())"
   ]
  },
  {
   "cell_type": "code",
   "execution_count": null,
   "id": "d2ccf8a2",
   "metadata": {},
   "outputs": [],
   "source": [
    "from langchain_core.tools.retriever import create_retriever_tool\n",
    "from langchain_text_splitters.character import RecursiveCharacterTextSplitter\n",
    "from langchain_community.document_loaders.web_base import WebBaseLoader\n",
    "from langchain_ollama import OllamaLLM\n",
    "from langchain_ollama.embeddings import OllamaEmbeddings\n",
    "from langchain_chroma.vectorstores import Chroma\n",
    "import os\n",
    "import bs4\n",
    "# os.environ['USER_AGENT'] = \"MyPythonApp/1.0\"\n",
    "# headers = {\n",
    "#     'User-Agent': \"MyPythonApp/1.0\"\n",
    "# }\n",
    "# url = \"https://langchain-ai.github.io/langgraph/\"\n",
    "# loader = WebBaseLoader(\n",
    "#     web_path=url,\n",
    "#     requests_kwargs={\n",
    "#         'headers': headers,\n",
    "#         'verify': False # <--- Disables SSL verification\n",
    "#     }\n",
    "# )\n",
    "# docs = loader.load()\n",
    "# splitter = RecursiveCharacterTextSplitter(chunk_size = 500, chunk_overlap = 200)\n",
    "# documents = splitter.split_documents(documents=docs)\n",
    "\n",
    "# embedding = OllamaEmbeddings(model='qwen2.5:1.5b')\n",
    "# db = Chroma.from_documents(documents=documents, embedding=embedding, persist_directory=\"./\")\n",
    "# retriever = db.as_retriever()\n",
    "# LG_tool = create_retriever_tool(retriever=retriever, name = \"LangGraph_Tool\", description=\"This tool contains all the data related to the langgraph related topics.\")"
   ]
  },
  {
   "cell_type": "code",
   "execution_count": 96,
   "id": "db80e68f",
   "metadata": {},
   "outputs": [],
   "source": [
    "# embedding = OllamaEmbeddings(model='qwen2.5:1.5b')\n",
    "# db = Chroma(persist_directory=\"./\", embedding_function=embedding)\n",
    "# retriever = db.as_retriever()"
   ]
  },
  {
   "cell_type": "code",
   "execution_count": null,
   "id": "3f0b2de3",
   "metadata": {},
   "outputs": [
    {
     "data": {
      "text/plain": [
       "[Document(id='e6ffa507-6dde-44be-b53e-a064e003cec1', metadata={'description': 'Build language agents as graphs', 'language': 'en', 'source': 'https://langchain-ai.github.io/langgraph/', 'title': 'LangGraph'}, page_content='LangGraph\\n\\n\\n\\n\\n\\n\\n\\n\\n\\n\\n\\n\\n\\n\\n\\n\\n\\n\\n\\n          Skip to content\\n        \\n\\n\\n\\n\\n\\n\\n\\nJoin us at  Interrupt: The Agent AI Conference by LangChain on May 13 & 14 in San Francisco!\\n\\n\\n\\n\\n\\n\\n\\n\\n\\n\\n\\n\\n\\n\\n\\n\\n\\n\\n\\n\\n\\n            \\n              LangGraph\\n            \\n          \\n\\n\\n\\n\\n\\n\\n\\n\\n\\n\\n\\n\\n\\n\\n\\n\\n\\n\\n\\n\\n\\n\\n\\n\\n\\n\\n\\n\\n\\n\\n\\n\\n\\n\\n\\n\\n\\n\\n\\n\\n            Initializing search\\n          \\n\\n\\n\\n\\n\\n\\n\\n\\n\\n\\n\\n\\n    GitHub\\n  \\n\\n\\n\\n\\n\\n\\n\\n\\n\\n\\n          \\n  \\n    \\n  \\n  LangGraph\\n\\n        \\n\\n\\n\\n          \\n  \\n    \\n  \\n  Agents'),\n",
       " Document(id='77b16772-67a0-4ee7-a230-751746b4a80a', metadata={'description': 'Build language agents as graphs', 'language': 'en', 'source': 'https://langchain-ai.github.io/langgraph/', 'title': 'LangGraph'}, page_content='Was this page helpful?\\n      \\n\\n\\n\\n\\n\\n\\n\\n\\n\\n\\n\\n              \\n              \\n                \\n              \\n              Thanks for your feedback!\\n            \\n\\n              \\n              \\n                \\n              \\n              Thanks for your feedback! Please help us improve this page by adding to the discussion below.\\n            \\n\\n\\n\\n\\n\\n\\n\\n\\n\\n\\n\\n  Back to top\\n\\n\\n\\n\\n\\n\\n\\n                Next\\n              \\n\\n                Learn the basics'),\n",
       " Document(id='f2ec0e1c-c8bc-4318-a9af-0a9642e403f5', metadata={'description': 'Build language agents as graphs', 'language': 'en', 'source': 'https://langchain-ai.github.io/langgraph/', 'title': 'LangGraph'}, page_content='LangGraph\\n  \\n\\n    \\n  \\n\\n\\n\\n\\n\\n\\n\\n\\n            \\n  \\n    LangGraph\\n  \\n\\n          \\n\\n\\n\\n\\n\\n    \\n  \\n    Get started\\n  \\n\\n    \\n  \\n\\n\\n\\n\\n\\n            \\n  \\n    Get started\\n  \\n\\n          \\n\\n\\n\\n\\n    \\n  \\n    Learn the basics\\n  \\n\\n    \\n  \\n\\n\\n\\n\\n\\n    \\n  \\n    Deployment\\n  \\n\\n    \\n  \\n\\n\\n\\n\\n\\n\\n\\n\\n\\n\\n    \\n  \\n    Guides\\n  \\n\\n    \\n  \\n\\n\\n\\n\\n\\n            \\n  \\n    Guides\\n  \\n\\n          \\n\\n\\n\\n\\n    \\n  \\n    How-to Guides\\n  \\n\\n    \\n  \\n\\n\\n\\n\\n\\n\\n    \\n  \\n    Concepts\\n  \\n\\n    \\n  \\n\\n\\n\\n\\n\\n\\n    \\n  \\n    Tutorials'),\n",
       " Document(id='f38ea98e-924f-4a8f-a17b-9808ac686cb6', metadata={'description': 'Build language agents as graphs', 'language': 'en', 'source': 'https://langchain-ai.github.io/langgraph/', 'title': 'LangGraph'}, page_content='Back to top\\n\\n\\n\\n\\n\\n\\n\\n                Next\\n              \\n\\n                Learn the basics\\n              \\n\\n\\n\\n\\n\\n\\n\\n\\n\\n\\n      Copyright © 2025 LangChain, Inc | Consent Preferences\\n\\n  \\n  \\n    Made with\\n    \\n      Material for MkDocs Insiders')]"
      ]
     },
     "execution_count": 95,
     "metadata": {},
     "output_type": "execute_result"
    }
   ],
   "source": [
    "# retriever.invoke(\"what is LangGraph\")"
   ]
  },
  {
   "cell_type": "code",
   "execution_count": 97,
   "id": "790233d8",
   "metadata": {},
   "outputs": [],
   "source": [
    "from langchain_core.tools.simple import Tool\n",
    "def retriever_tool(query : str) -> str:\n",
    "    embedding = OllamaEmbeddings(model='qwen2.5:1.5b')\n",
    "    db = Chroma(persist_directory=\"./\", embedding_function=embedding)\n",
    "    retriever = db.as_retriever()\n",
    "    results = retriever.invoke(query)\n",
    "    print(results)\n",
    "\n",
    "LG_tool = Tool(\n",
    "    name = 'LangGraph_Tool',\n",
    "    func=retriever_tool,\n",
    "    description=\"This tool contains all the data related to the langgraph related topics.\"\n",
    ")"
   ]
  },
  {
   "cell_type": "code",
   "execution_count": 105,
   "id": "fb5ca219",
   "metadata": {},
   "outputs": [
    {
     "data": {
      "text/plain": [
       "[WikipediaQueryRun(api_wrapper=WikipediaAPIWrapper(wiki_client=<module 'wikipedia' from 'c:\\\\Users\\\\spurusho\\\\Downloads\\\\GenAI\\\\Personal\\\\langchainTutorials\\\\venv\\\\Lib\\\\site-packages\\\\wikipedia\\\\__init__.py'>, top_k_results=3, lang='en', load_all_available_meta=False, doc_content_chars_max=4000)),\n",
       " Tool(name='LangGraph_Tool', description='This tool contains all the data related to the langgraph related topics.', func=<function retriever_tool at 0x00000230620E7600>),\n",
       " ArxivQueryRun(api_wrapper=ArxivAPIWrapper(arxiv_search=<class 'arxiv.Search'>, arxiv_exceptions=(<class 'arxiv.ArxivError'>, <class 'arxiv.UnexpectedEmptyPageError'>, <class 'arxiv.HTTPError'>), top_k_results=1, ARXIV_MAX_QUERY_LENGTH=300, continue_on_failure=False, load_max_docs=100, load_all_available_meta=False, doc_content_chars_max=200))]"
      ]
     },
     "execution_count": 105,
     "metadata": {},
     "output_type": "execute_result"
    }
   ],
   "source": [
    "tools = [wiki, LG_tool, Arxiv_tool]\n",
    "tools"
   ]
  },
  {
   "cell_type": "code",
   "execution_count": 106,
   "id": "de249f79",
   "metadata": {},
   "outputs": [
    {
     "name": "stderr",
     "output_type": "stream",
     "text": [
      "c:\\Users\\spurusho\\Downloads\\GenAI\\Personal\\langchainTutorials\\venv\\Lib\\site-packages\\langsmith\\client.py:277: LangSmithMissingAPIKeyWarning: API key must be provided when using hosted LangSmith API\n",
      "  warnings.warn(\n"
     ]
    },
    {
     "data": {
      "text/plain": [
       "PromptTemplate(input_variables=['agent_scratchpad', 'input', 'tool_names', 'tools'], input_types={}, partial_variables={}, metadata={'lc_hub_owner': 'hwchase17', 'lc_hub_repo': 'react', 'lc_hub_commit_hash': 'd15fe3c426f1c4b3f37c9198853e4a86e20c425ca7f4752ec0c9b0e97ca7ea4d'}, template='Answer the following questions as best you can. You have access to the following tools:\\n\\n{tools}\\n\\nUse the following format:\\n\\nQuestion: the input question you must answer\\nThought: you should always think about what to do\\nAction: the action to take, should be one of [{tool_names}]\\nAction Input: the input to the action\\nObservation: the result of the action\\n... (this Thought/Action/Action Input/Observation can repeat N times)\\nThought: I now know the final answer\\nFinal Answer: the final answer to the original input question\\n\\nBegin!\\n\\nQuestion: {input}\\nThought:{agent_scratchpad}')"
      ]
     },
     "execution_count": 106,
     "metadata": {},
     "output_type": "execute_result"
    }
   ],
   "source": [
    "from langchain import hub\n",
    "# prompt = hub.pull('hwchase17/openai-functions-agent')\n",
    "prompt = hub.pull(\"hwchase17/react\") \n",
    "prompt"
   ]
  },
  {
   "cell_type": "code",
   "execution_count": 107,
   "id": "bc91857c",
   "metadata": {},
   "outputs": [],
   "source": [
    "from langchain_ollama.chat_models import ChatOllama\n",
    "llm = ChatOllama(model='qwen2.5:1.5b', temperature=0.2)\n",
    "\n",
    "# from langchain.agents.react.agent import create_react_agent\n",
    "# from langchain.agents.agent import AgentExecutor\n",
    "\n",
    "# agent = create_react_agent(llm = llm, tools = tools ,prompt=prompt)\n",
    "# # Initialize the AgentExecutor, passing handle_parsing_errors=True\n",
    "# agent_executor = AgentExecutor(\n",
    "#     agent=agent,\n",
    "#     tools=tools,\n",
    "#     verbose=True, # Often useful for debugging\n",
    "#     handle_parsing_errors=True # <-- Add this line\n",
    "# )\n",
    "# agent_executor.invoke({\"input\": \"Tell me about obama\"})\n"
   ]
  },
  {
   "cell_type": "code",
   "execution_count": 108,
   "id": "2af3c5b1",
   "metadata": {},
   "outputs": [],
   "source": [
    "from langchain.agents.initialize import initialize_agent\n",
    "from langchain.agents.agent_types import AgentType\n",
    "agent = initialize_agent(\n",
    "    tools=tools,\n",
    "    llm=llm,\n",
    "    agent=AgentType.ZERO_SHOT_REACT_DESCRIPTION,\n",
    "    handle_parsing_errors=True,\n",
    "    verbose=True\n",
    ")"
   ]
  },
  {
   "cell_type": "code",
   "execution_count": 109,
   "id": "694be549",
   "metadata": {},
   "outputs": [
    {
     "name": "stdout",
     "output_type": "stream",
     "text": [
      "\n",
      "\n",
      "\u001b[1m> Entering new AgentExecutor chain...\u001b[0m\n",
      "\u001b[32;1m\u001b[1;3mI need to find a specific quote by Mahatma Gandhi.\n",
      "Action: LangGraph_Tool\u001b[0m\n",
      "Observation: Invalid Format: Missing 'Action Input:' after 'Action:'\n",
      "Thought:\u001b[32;1m\u001b[1;3mI should use the arxiv tool instead of LangGraph_Tool for this question. I will search for quotes related to Mahatma Gandhi on Arxiv.org.\n",
      "Action: arxiv\n",
      "Action Input: quotes by mahatma gandhi\u001b[0m\n",
      "Observation: \u001b[38;5;200m\u001b[1;3mPublished: 2000-05-10\n",
      "Title: Solutions to Cosmological Problems with Energy Conservation and Varying c, G and Lambda\n",
      "Authors: P. Gopakumar, G. V. Vijayagovindan\n",
      "Summary: The flatness and cosmological \u001b[0m\n",
      "Thought:\u001b[32;1m\u001b[1;3mFinal Answer: Mahatma Gandhi is a well-known figure in the history of India and the world. He was a prominent leader who advocated for non-violent resistance against British colonial rule. One of his most famous quotes is \"Be the change you wish to see in the world.\" This quote emphasizes the importance of personal responsibility and the power of individual action to create positive change.\n",
      "\n",
      "Another well-known quote by Gandhi is \"The weak can never forgive; they are caught in the iron cage of their desires which consigns them to humiliation. The strong don't forgive because they're not bound by the past, but because forgiveness would alter the course of history.\" This quote highlights the importance of forgiveness and how it can lead to personal growth and societal progress.\n",
      "\n",
      "Gandhi's philosophy was based on the idea that people should be free from suffering and oppression, and his teachings were centered around non-violence, truth, and compassion. He believed in the power of peaceful resistance and encouraged individuals to work towards creating a better world through their actions and words.\u001b[0m\n",
      "\n",
      "\u001b[1m> Finished chain.\u001b[0m\n",
      "Mahatma Gandhi is a well-known figure in the history of India and the world. He was a prominent leader who advocated for non-violent resistance against British colonial rule. One of his most famous quotes is \"Be the change you wish to see in the world.\" This quote emphasizes the importance of personal responsibility and the power of individual action to create positive change.\n",
      "\n",
      "Another well-known quote by Gandhi is \"The weak can never forgive; they are caught in the iron cage of their desires which consigns them to humiliation. The strong don't forgive because they're not bound by the past, but because forgiveness would alter the course of history.\" This quote highlights the importance of forgiveness and how it can lead to personal growth and societal progress.\n",
      "\n",
      "Gandhi's philosophy was based on the idea that people should be free from suffering and oppression, and his teachings were centered around non-violence, truth, and compassion. He believed in the power of peaceful resistance and encouraged individuals to work towards creating a better world through their actions and words.\n"
     ]
    }
   ],
   "source": [
    "print(agent.run(\"tell me about mahatma gandhi famous quote\"))"
   ]
  },
  {
   "cell_type": "code",
   "execution_count": null,
   "id": "71767dee",
   "metadata": {},
   "outputs": [],
   "source": []
  }
 ],
 "metadata": {
  "kernelspec": {
   "display_name": "venv",
   "language": "python",
   "name": "python3"
  },
  "language_info": {
   "codemirror_mode": {
    "name": "ipython",
    "version": 3
   },
   "file_extension": ".py",
   "mimetype": "text/x-python",
   "name": "python",
   "nbconvert_exporter": "python",
   "pygments_lexer": "ipython3",
   "version": "3.12.5"
  }
 },
 "nbformat": 4,
 "nbformat_minor": 5
}
