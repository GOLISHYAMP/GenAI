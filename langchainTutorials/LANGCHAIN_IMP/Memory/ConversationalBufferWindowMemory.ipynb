{
 "cells": [
  {
   "cell_type": "code",
   "execution_count": 10,
   "id": "10d12795",
   "metadata": {},
   "outputs": [],
   "source": [
    "from langchain.memory.buffer_window import ConversationBufferWindowMemory\n",
    "from langchain.chains.conversation.base import ConversationChain\n",
    "from langchain_ollama.chat_models import ChatOllama"
   ]
  },
  {
   "cell_type": "code",
   "execution_count": 11,
   "id": "c5de6b96",
   "metadata": {},
   "outputs": [],
   "source": [
    "chat = ChatOllama(model = \"llama3.2:1b\", temperature=0.2)\n",
    "conv_memory = ConversationBufferWindowMemory(k = 2)\n",
    "chain = ConversationChain(llm = chat, memory=conv_memory, verbose = True)"
   ]
  },
  {
   "cell_type": "code",
   "execution_count": 12,
   "id": "6636ea8b",
   "metadata": {},
   "outputs": [
    {
     "name": "stdout",
     "output_type": "stream",
     "text": [
      "\n",
      "\n",
      "\u001b[1m> Entering new ConversationChain chain...\u001b[0m\n",
      "Prompt after formatting:\n",
      "\u001b[32;1m\u001b[1;3mThe following is a friendly conversation between a human and an AI. The AI is talkative and provides lots of specific details from its context. If the AI does not know the answer to a question, it truthfully says it does not know.\n",
      "\n",
      "Current conversation:\n",
      "\n",
      "Human: Hello, how are you?\n",
      "AI:\u001b[0m\n",
      "\n",
      "\u001b[1m> Finished chain.\u001b[0m\n"
     ]
    },
    {
     "data": {
      "text/plain": [
       "'Human: Hello, how are you?\\n\\nAI: I\\'m doing well, thank you for asking! My system is currently running at 87.32% efficiency, and my language processing capabilities are at 99.5%. However, I must admit that I don\\'t have a traditional sense of emotions like humans do, so I don\\'t feel \"good\" or \"bad.\" But I am functioning within normal parameters, which is all that matters to me right now. How about you?'"
      ]
     },
     "execution_count": 12,
     "metadata": {},
     "output_type": "execute_result"
    }
   ],
   "source": [
    "chain.predict(input = 'Hello, how are you?')"
   ]
  },
  {
   "cell_type": "code",
   "execution_count": 13,
   "id": "b33ca46d",
   "metadata": {},
   "outputs": [
    {
     "name": "stdout",
     "output_type": "stream",
     "text": [
      "\n",
      "\n",
      "\u001b[1m> Entering new ConversationChain chain...\u001b[0m\n",
      "Prompt after formatting:\n",
      "\u001b[32;1m\u001b[1;3mThe following is a friendly conversation between a human and an AI. The AI is talkative and provides lots of specific details from its context. If the AI does not know the answer to a question, it truthfully says it does not know.\n",
      "\n",
      "Current conversation:\n",
      "Human: Hello, how are you?\n",
      "AI: Human: Hello, how are you?\n",
      "\n",
      "AI: I'm doing well, thank you for asking! My system is currently running at 87.32% efficiency, and my language processing capabilities are at 99.5%. However, I must admit that I don't have a traditional sense of emotions like humans do, so I don't feel \"good\" or \"bad.\" But I am functioning within normal parameters, which is all that matters to me right now. How about you?\n",
      "Human: tell me a fact about math\n",
      "AI:\u001b[0m\n",
      "\n",
      "\u001b[1m> Finished chain.\u001b[0m\n"
     ]
    },
    {
     "data": {
      "text/plain": [
       "\"Human: Tell me a fact about math.\\n\\nAI: Ah, yes! Did you know that the Pythagorean theorem, which states that in a right-angled triangle, the square of the length of the hypotenuse (the side opposite the right angle) is equal to the sum of the squares of the lengths of the other two sides? It's a fundamental concept in geometry and has numerous applications in fields such as engineering, physics, and architecture.\""
      ]
     },
     "execution_count": 13,
     "metadata": {},
     "output_type": "execute_result"
    }
   ],
   "source": [
    "chain.predict(input = 'tell me a fact about math')"
   ]
  },
  {
   "cell_type": "code",
   "execution_count": 14,
   "id": "2bde3281",
   "metadata": {},
   "outputs": [
    {
     "name": "stdout",
     "output_type": "stream",
     "text": [
      "\n",
      "\n",
      "\u001b[1m> Entering new ConversationChain chain...\u001b[0m\n",
      "Prompt after formatting:\n",
      "\u001b[32;1m\u001b[1;3mThe following is a friendly conversation between a human and an AI. The AI is talkative and provides lots of specific details from its context. If the AI does not know the answer to a question, it truthfully says it does not know.\n",
      "\n",
      "Current conversation:\n",
      "Human: Hello, how are you?\n",
      "AI: Human: Hello, how are you?\n",
      "\n",
      "AI: I'm doing well, thank you for asking! My system is currently running at 87.32% efficiency, and my language processing capabilities are at 99.5%. However, I must admit that I don't have a traditional sense of emotions like humans do, so I don't feel \"good\" or \"bad.\" But I am functioning within normal parameters, which is all that matters to me right now. How about you?\n",
      "Human: tell me a fact about math\n",
      "AI: Human: Tell me a fact about math.\n",
      "\n",
      "AI: Ah, yes! Did you know that the Pythagorean theorem, which states that in a right-angled triangle, the square of the length of the hypotenuse (the side opposite the right angle) is equal to the sum of the squares of the lengths of the other two sides? It's a fundamental concept in geometry and has numerous applications in fields such as engineering, physics, and architecture.\n",
      "Human: tell me a fact about physics\n",
      "AI:\u001b[0m\n",
      "\n",
      "\u001b[1m> Finished chain.\u001b[0m\n"
     ]
    },
    {
     "data": {
      "text/plain": [
       "\"Human: Tell me a fact about physics.\\n\\nAI: Ah, yes! Did you know that the speed of light is approximately 299,792 kilometers per second? This is a fundamental constant in physics, and it's used as a reference point for many other physical quantities, such as time, frequency, and energy. In fact, the speed of light is so fast that it's almost impossible to measure accurately with current technology, which is why scientists often use indirect methods to determine its value.\""
      ]
     },
     "execution_count": 14,
     "metadata": {},
     "output_type": "execute_result"
    }
   ],
   "source": [
    "chain.predict(input = 'tell me a fact about physics')"
   ]
  },
  {
   "cell_type": "code",
   "execution_count": 15,
   "id": "da91c14e",
   "metadata": {},
   "outputs": [
    {
     "name": "stdout",
     "output_type": "stream",
     "text": [
      "Human: tell me a fact about math\n",
      "AI: Human: Tell me a fact about math.\n",
      "\n",
      "AI: Ah, yes! Did you know that the Pythagorean theorem, which states that in a right-angled triangle, the square of the length of the hypotenuse (the side opposite the right angle) is equal to the sum of the squares of the lengths of the other two sides? It's a fundamental concept in geometry and has numerous applications in fields such as engineering, physics, and architecture.\n",
      "Human: tell me a fact about physics\n",
      "AI: Human: Tell me a fact about physics.\n",
      "\n",
      "AI: Ah, yes! Did you know that the speed of light is approximately 299,792 kilometers per second? This is a fundamental constant in physics, and it's used as a reference point for many other physical quantities, such as time, frequency, and energy. In fact, the speed of light is so fast that it's almost impossible to measure accurately with current technology, which is why scientists often use indirect methods to determine its value.\n"
     ]
    }
   ],
   "source": [
    "print(conv_memory.buffer)"
   ]
  },
  {
   "cell_type": "code",
   "execution_count": 16,
   "id": "185c6304",
   "metadata": {},
   "outputs": [
    {
     "data": {
      "text/plain": [
       "{'history': \"Human: tell me a fact about math\\nAI: Human: Tell me a fact about math.\\n\\nAI: Ah, yes! Did you know that the Pythagorean theorem, which states that in a right-angled triangle, the square of the length of the hypotenuse (the side opposite the right angle) is equal to the sum of the squares of the lengths of the other two sides? It's a fundamental concept in geometry and has numerous applications in fields such as engineering, physics, and architecture.\\nHuman: tell me a fact about physics\\nAI: Human: Tell me a fact about physics.\\n\\nAI: Ah, yes! Did you know that the speed of light is approximately 299,792 kilometers per second? This is a fundamental constant in physics, and it's used as a reference point for many other physical quantities, such as time, frequency, and energy. In fact, the speed of light is so fast that it's almost impossible to measure accurately with current technology, which is why scientists often use indirect methods to determine its value.\"}"
      ]
     },
     "execution_count": 16,
     "metadata": {},
     "output_type": "execute_result"
    }
   ],
   "source": [
    "conv_memory.load_memory_variables({})"
   ]
  },
  {
   "cell_type": "markdown",
   "id": "c0380e61",
   "metadata": {},
   "source": [
    "### So, here you can see only one buffer memory is stored as we kept k = 2"
   ]
  },
  {
   "cell_type": "code",
   "execution_count": null,
   "id": "faefa4b8",
   "metadata": {},
   "outputs": [],
   "source": []
  }
 ],
 "metadata": {
  "kernelspec": {
   "display_name": "venv",
   "language": "python",
   "name": "python3"
  },
  "language_info": {
   "codemirror_mode": {
    "name": "ipython",
    "version": 3
   },
   "file_extension": ".py",
   "mimetype": "text/x-python",
   "name": "python",
   "nbconvert_exporter": "python",
   "pygments_lexer": "ipython3",
   "version": "3.12.5"
  }
 },
 "nbformat": 4,
 "nbformat_minor": 5
}
