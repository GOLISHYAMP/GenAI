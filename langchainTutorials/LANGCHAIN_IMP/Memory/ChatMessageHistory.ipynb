{
 "cells": [
  {
   "cell_type": "code",
   "execution_count": 13,
   "id": "b4a6587c",
   "metadata": {},
   "outputs": [],
   "source": [
    "from langchain_core.chat_history import InMemoryChatMessageHistory"
   ]
  },
  {
   "cell_type": "code",
   "execution_count": 14,
   "id": "0df9e4f9",
   "metadata": {},
   "outputs": [],
   "source": [
    "history = InMemoryChatMessageHistory()"
   ]
  },
  {
   "cell_type": "code",
   "execution_count": 15,
   "id": "7be2fdbd",
   "metadata": {},
   "outputs": [],
   "source": [
    "history.add_user_message(\"hii how are you?\")\n",
    "history.add_ai_message(\"I am fine, how are you?\")"
   ]
  },
  {
   "cell_type": "code",
   "execution_count": 16,
   "id": "c8bf2800",
   "metadata": {},
   "outputs": [
    {
     "data": {
      "text/plain": [
       "[HumanMessage(content='hii how are you?', additional_kwargs={}, response_metadata={}),\n",
       " AIMessage(content='I am fine, how are you?', additional_kwargs={}, response_metadata={})]"
      ]
     },
     "execution_count": 16,
     "metadata": {},
     "output_type": "execute_result"
    }
   ],
   "source": [
    "history.messages"
   ]
  },
  {
   "cell_type": "code",
   "execution_count": null,
   "id": "fada4f6a",
   "metadata": {},
   "outputs": [],
   "source": []
  }
 ],
 "metadata": {
  "kernelspec": {
   "display_name": "venv",
   "language": "python",
   "name": "python3"
  },
  "language_info": {
   "codemirror_mode": {
    "name": "ipython",
    "version": 3
   },
   "file_extension": ".py",
   "mimetype": "text/x-python",
   "name": "python",
   "nbconvert_exporter": "python",
   "pygments_lexer": "ipython3",
   "version": "3.12.5"
  }
 },
 "nbformat": 4,
 "nbformat_minor": 5
}
