{
 "cells": [
  {
   "cell_type": "markdown",
   "id": "bcded1a6-2430-4707-a78c-c82f4c5ee6fc",
   "metadata": {},
   "source": [
    "<a href = \"https://www.pieriantraining.com\"><img src=\"../PT Centered Purple.png\"> </a>\n",
    "\n",
    "<em style=\"text-align:center\">Copyrighted by Pierian Training</em>"
   ]
  },
  {
   "cell_type": "markdown",
   "id": "728f1747-b8fc-4d31-96c2-047fc83c079d",
   "metadata": {},
   "source": [
    "#  Chains Exercise \n",
    "\n",
    "## TASK:\n",
    "Fill out the function below that takes in a string input Customer Support email that could be written in any language. The function will then detect the language, translate the email, and provide a summary.\n",
    "\n",
    "Fill out the function below using a Sequential Chain, the function should do the following:\n",
    "\n",
    "1. Detect the language the email is written in\n",
    "2. Translate the email from detected language to English\n",
    "3. Return a summary of the translated email\n",
    "\n",
    "Note: The Function should return a dictionary that contains all three of these outputs!"
   ]
  },
  {
   "cell_type": "markdown",
   "id": "1e10f522-2a0f-44c0-9e37-934639609bdf",
   "metadata": {},
   "source": [
    "## Reading in our example Email Text File:"
   ]
  },
  {
   "cell_type": "code",
   "execution_count": 1,
   "id": "f5cec8e4-c2cf-4adc-b589-322cd45d8dfa",
   "metadata": {},
   "outputs": [],
   "source": [
    "spanish_email = open('spanish_customer_email.txt').read()"
   ]
  },
  {
   "cell_type": "code",
   "execution_count": 2,
   "id": "d93c70a5-951e-4c40-a08d-6ad7a978e35b",
   "metadata": {},
   "outputs": [
    {
     "name": "stdout",
     "output_type": "stream",
     "text": [
      "Asunto: Reporte de Problemas Técnicos - Funcionalidad del Panel SAAS\n",
      "\n",
      "Estimado Equipo de Soporte al Cliente,\n",
      "\n",
      "Espero que este mensaje les encuentre bien. Les escribo para informarles sobre un problema técnico que he encontrado mientras utilizo su producto de panel SAAS. Como cliente leal, aprecio el valor que su producto aporta a mi negocio, pero actualmente me enfrento a un desafío que requiere su experiencia.\n",
      "\n",
      "Me gustaría describir detalladamente el problema que estoy experimentando:\n",
      "\n",
      "1. Problema Gráfico: Al iniciar sesión en el panel SAAS, he notado que los gráficos y las tablas en la página principal del panel no se renderizan correctamente. Los puntos de datos aparecen distorsionados y algunos elementos se superponen, lo que dificulta la interpretación precisa de la información.\n",
      "\n",
      "2. Fallo en la Función de Exportación: Además, no he podido exportar informes y datos desde el panel. Cada vez que intento exportar un informe en formato CSV o PDF, recibo un mensaje de error que indica que la exportación ha fallado. Esta funcionalidad es crucial para compartir información con mi equipo y partes interesadas externas, por lo que es imperativo que se resuelva rápidamente.\n",
      "\n",
      "3. Lentitud en la Carga: Durante la última semana, he notado una disminución significativa en la velocidad de carga del panel SAAS. Las páginas tardan un tiempo inusualmente largo en cargarse, lo que afecta mi productividad y genera frustración. Tengo una conexión a internet confiable, por lo que creo que el problema radica en el panel mismo.\n",
      "\n",
      "Ya he realizado los siguientes pasos para solucionar el problema:\n",
      "\n",
      "1. Limpieza de Cache: Limpié la memoria caché y las cookies de mi navegador para asegurarme de que los datos desactualizados no estén causando conflictos. Sin embargo, los problemas persisten incluso después de realizar esta acción.\n",
      "\n",
      "2. Varios Navegadores: Probé el panel SAAS en diferentes navegadores web (Chrome, Firefox y Safari) para determinar si el problema era específico del navegador. Desafortunadamente, los problemas gráficos, los fallos en la exportación y la lentitud en la carga persistieron en todos los navegadores.\n",
      "\n",
      "Les solicito amablemente su ayuda para resolver estos problemas, ya que están obstaculizando mi capacidad de aprovechar todo el potencial de su panel SAAS. Aquí están las acciones específicas que agradecería:\n",
      "\n",
      "1. Solución para Problemas Gráficos: Por favor, investiguen y corrijan los problemas gráficos presentes en la página principal del panel para garantizar una visualización precisa de los datos.\n",
      "\n",
      "2. Solución para la Función de Exportación: Identifiquen y solucionen el problema con la exportación de informes en formatos CSV y PDF, permitiéndome compartir datos con mi equipo y partes interesadas de manera fluida.\n",
      "\n",
      "3. Optimización del Rendimiento: Por favor, aborden la lentitud en la carga del panel SAAS para mejorar la experiencia general del usuario y aumentar la productividad.\n",
      "\n",
      "Entiendo que los problemas técnicos pueden surgir de vez en cuando y aprecio su pronta atención a este asunto. Si requieren información adicional o ayuda de mi parte, no duden en contactarme. Espero su pronta respuesta y una pronta resolución a estos desafíos.\n",
      "\n",
      "Gracias por su comprensión y apoyo.\n",
      "\n",
      "Atentamente,\n",
      "\n",
      "María Rodríguez\n",
      "ID de Cliente: 123456789\n",
      "Información de la Cuenta: Empresa Ejemplo S.A.\n"
     ]
    }
   ],
   "source": [
    "print(spanish_email)"
   ]
  },
  {
   "cell_type": "markdown",
   "id": "d4270b75-ce4e-4a76-b069-6cb94eb74318",
   "metadata": {},
   "source": [
    "## Function to fill out:"
   ]
  },
  {
   "cell_type": "code",
   "execution_count": 41,
   "id": "3e4447f6",
   "metadata": {},
   "outputs": [],
   "source": [
    "from langchain_ollama.chat_models import ChatOllama\n",
    "from langchain_core.prompts.chat import ChatPromptTemplate\n",
    "from langchain_core.runnables.base import RunnableLambda\n",
    "from langchain_core.prompts.chat import SystemMessagePromptTemplate\n",
    "from langchain_core.prompts.chat import AIMessagePromptTemplate\n",
    "from langchain_core.prompts.chat import HumanMessagePromptTemplate"
   ]
  },
  {
   "cell_type": "code",
   "execution_count": 75,
   "id": "67513a28-5643-4387-9462-02adda8ca3bc",
   "metadata": {},
   "outputs": [],
   "source": [
    "def translate_and_summarize(email):\n",
    "    \"\"\"\n",
    "    Translates an email written in a detected language to English and generates a summary.\n",
    "\n",
    "    Args:\n",
    "        email (str): The email to be processed and translated.\n",
    "\n",
    "    Returns:\n",
    "        dict: A dictionary containing the following keys:\n",
    "            - 'language': The language the email was written in.\n",
    "            - 'translated_email': The translated version of the email in English.\n",
    "            - 'summary': A short summary of the translated email.\n",
    "\n",
    "    Raises:\n",
    "        Exception: If any error occurs during the LLM chain execution.\n",
    "\n",
    "    Example:\n",
    "        email = \"Hola, ¿cómo estás? Espero que todo vaya bien.\"\n",
    "        result = translate_and_summarize(email)\n",
    "        print(result)\n",
    "        # Output:\n",
    "        # {\n",
    "        #     'language': 'Spanish',\n",
    "        #     'translated_email': 'Hello, how are you? I hope everything is going well.',\n",
    "        #     'summary': 'A friendly greeting and a wish for well-being.'\n",
    "        # }\n",
    "    \"\"\"\n",
    "    output = {}\n",
    "    output['email'] = email\n",
    "    chat= ChatOllama(model= 'llama3.2:1b', temperature= 0)\n",
    "        # Step 1: Detect language\n",
    "    detect_prompt = ChatPromptTemplate.from_template(\n",
    "        \"Identify the language of this email:\\n\\n{email}\\n\\nOnly respond with the language name in English.\"\n",
    "    )\n",
    "    detect_chain = detect_prompt | chat\n",
    "    detect_result = detect_chain.invoke({\"email\": email})\n",
    "\n",
    "    # Step 2: Clean up the language output\n",
    "    langPrompt = ChatPromptTemplate.from_messages([\n",
    "        SystemMessagePromptTemplate.from_template(\"Extract the language name from this sentence, return only a single word.\"),\n",
    "        HumanMessagePromptTemplate.from_template(\"The language of this email is Spanish, specifically a variant of the Castilian Spanish dialect.\"),\n",
    "        AIMessagePromptTemplate.from_template(\"Spanish\"),\n",
    "        HumanMessagePromptTemplate.from_template(\"{sentence}\")\n",
    "    ])\n",
    "    lang_chain = langPrompt | chat\n",
    "\n",
    "    # Clean up the result from the detection step\n",
    "    language_result = lang_chain.invoke({\"sentence\": detect_result.content})\n",
    "    language = language_result.content.strip()\n",
    "    output[\"language\"] = language\n",
    "\n",
    "    # Step 3: Translate\n",
    "\n",
    "    # translate_prompt = ChatPromptTemplate.from_template(\n",
    "    #     \"The email is written in {language} language, translate the given email into english language\\n\\n {email} .\"\n",
    "    # )\n",
    "    translate_prompt = ChatPromptTemplate.from_messages([\n",
    "        SystemMessagePromptTemplate.from_template(\"You are a AI translator, An email is written in certain language you need translate it to another langauge\"),\n",
    "        HumanMessagePromptTemplate.from_template(\"The email is written in spanish language, translate the given email into english language\\n\\n Hola, ¿cómo estás? Espero que todo vaya bien. \"),\n",
    "        AIMessagePromptTemplate.from_template('Hello, how are you? I hope everything is going well.'),\n",
    "        HumanMessagePromptTemplate.from_template(\"The email is written in {language} language, translate the given email into english language\\n\\n {email} .\")\n",
    "    ])\n",
    "\n",
    "    translate_chain = translate_prompt | chat\n",
    "\n",
    "    # Run final translation\n",
    "    result = translate_chain.invoke({\"language\": language, \"email\": email})\n",
    "    output[\"translated_email\"] = result.content.split(\"English:\\n\\n\")[-1]\n",
    "\n",
    "    # Step 3: Summary\n",
    "\n",
    "    summaryPrompt = ChatPromptTemplate.from_template(template=\"Give the summary of the given text\\n\\n {text}\")\n",
    "    summaryChain = summaryPrompt | chat\n",
    "    output['summary'] = summaryChain.invoke({'text' : output[\"translated_email\"]}).content\n",
    "\n",
    "    return output"
   ]
  },
  {
   "cell_type": "markdown",
   "id": "36df92ca-a03e-49a0-b0bf-c15ce5644fec",
   "metadata": {},
   "source": [
    "## Example Usage and Outputs"
   ]
  },
  {
   "cell_type": "code",
   "execution_count": 76,
   "id": "8f7dc228-285f-49d3-a4ef-f870ac44c061",
   "metadata": {},
   "outputs": [],
   "source": [
    "result = translate_and_summarize(spanish_email)"
   ]
  },
  {
   "cell_type": "code",
   "execution_count": 77,
   "id": "90b09c5f-6e32-4718-be7d-51e83d81ce9d",
   "metadata": {},
   "outputs": [
    {
     "data": {
      "text/plain": [
       "dict_keys(['email', 'language', 'translated_email', 'summary'])"
      ]
     },
     "execution_count": 77,
     "metadata": {},
     "output_type": "execute_result"
    }
   ],
   "source": [
    "result.keys()"
   ]
  },
  {
   "cell_type": "code",
   "execution_count": 81,
   "id": "87909431",
   "metadata": {},
   "outputs": [
    {
     "name": "stdout",
     "output_type": "stream",
     "text": [
      "Asunto: Reporte de Problemas Técnicos - Funcionalidad del Panel SAAS\n",
      "\n",
      "Estimado Equipo de Soporte al Cliente,\n",
      "\n",
      "Espero que este mensaje les encuentre bien. Les escribo para informarles sobre un problema técnico que he encontrado mientras utilizo su producto de panel SAAS. Como cliente leal, aprecio el valor que su producto aporta a mi negocio, pero actualmente me enfrento a un desafío que requiere su experiencia.\n",
      "\n",
      "Me gustaría describir detalladamente el problema que estoy experimentando:\n",
      "\n",
      "1. Problema Gráfico: Al iniciar sesión en el panel SAAS, he notado que los gráficos y las tablas en la página principal del panel no se renderizan correctamente. Los puntos de datos aparecen distorsionados y algunos elementos se superponen, lo que dificulta la interpretación precisa de la información.\n",
      "\n",
      "2. Fallo en la Función de Exportación: Además, no he podido exportar informes y datos desde el panel. Cada vez que intento exportar un informe en formato CSV o PDF, recibo un mensaje de error que indica que la exportación ha fallado. Esta funcionalidad es crucial para compartir información con mi equipo y partes interesadas externas, por lo que es imperativo que se resuelva rápidamente.\n",
      "\n",
      "3. Lentitud en la Carga: Durante la última semana, he notado una disminución significativa en la velocidad de carga del panel SAAS. Las páginas tardan un tiempo inusualmente largo en cargarse, lo que afecta mi productividad y genera frustración. Tengo una conexión a internet confiable, por lo que creo que el problema radica en el panel mismo.\n",
      "\n",
      "Ya he realizado los siguientes pasos para solucionar el problema:\n",
      "\n",
      "1. Limpieza de Cache: Limpié la memoria caché y las cookies de mi navegador para asegurarme de que los datos desactualizados no estén causando conflictos. Sin embargo, los problemas persisten incluso después de realizar esta acción.\n",
      "\n",
      "2. Varios Navegadores: Probé el panel SAAS en diferentes navegadores web (Chrome, Firefox y Safari) para determinar si el problema era específico del navegador. Desafortunadamente, los problemas gráficos, los fallos en la exportación y la lentitud en la carga persistieron en todos los navegadores.\n",
      "\n",
      "Les solicito amablemente su ayuda para resolver estos problemas, ya que están obstaculizando mi capacidad de aprovechar todo el potencial de su panel SAAS. Aquí están las acciones específicas que agradecería:\n",
      "\n",
      "1. Solución para Problemas Gráficos: Por favor, investiguen y corrijan los problemas gráficos presentes en la página principal del panel para garantizar una visualización precisa de los datos.\n",
      "\n",
      "2. Solución para la Función de Exportación: Identifiquen y solucionen el problema con la exportación de informes en formatos CSV y PDF, permitiéndome compartir datos con mi equipo y partes interesadas de manera fluida.\n",
      "\n",
      "3. Optimización del Rendimiento: Por favor, aborden la lentitud en la carga del panel SAAS para mejorar la experiencia general del usuario y aumentar la productividad.\n",
      "\n",
      "Entiendo que los problemas técnicos pueden surgir de vez en cuando y aprecio su pronta atención a este asunto. Si requieren información adicional o ayuda de mi parte, no duden en contactarme. Espero su pronta respuesta y una pronta resolución a estos desafíos.\n",
      "\n",
      "Gracias por su comprensión y apoyo.\n",
      "\n",
      "Atentamente,\n",
      "\n",
      "María Rodríguez\n",
      "ID de Cliente: 123456789\n",
      "Información de la Cuenta: Empresa Ejemplo S.A.\n"
     ]
    }
   ],
   "source": [
    "print(result['email'])"
   ]
  },
  {
   "cell_type": "code",
   "execution_count": 78,
   "id": "530a286f-05f7-4740-bc23-2a0506a2741d",
   "metadata": {},
   "outputs": [
    {
     "name": "stdout",
     "output_type": "stream",
     "text": [
      "Castilian\n"
     ]
    }
   ],
   "source": [
    "print(result['language'])"
   ]
  },
  {
   "cell_type": "code",
   "execution_count": 79,
   "id": "7f9982b0-0628-41a8-9ede-894d3d512717",
   "metadata": {},
   "outputs": [
    {
     "name": "stdout",
     "output_type": "stream",
     "text": [
      "Subject: Technical Report - Panel SAAS Functionality\n",
      "\n",
      "Dear Customer Support Team,\n",
      "\n",
      "I hope this message finds you well. I am writing to inform you about a technical issue that I have encountered while using your SAAS product. As a loyal customer, I appreciate the value that your product brings to my business, but currently, I am facing an obstacle that requires your expertise.\n",
      "\n",
      "I would like to describe in detail the problem I am experiencing:\n",
      "\n",
      "1. Graphics Issue: When logging into the SAAS panel, I have noticed that the graphics and tables on the main page do not render correctly. The data points appear distorted, and some elements overlap, making it difficult to interpret the information accurately.\n",
      "\n",
      "2. Export Functionality Issue: Additionally, I have been unable to export reports and data from the panel. Each time I try to export a report in CSV or PDF format, I receive an error message indicating that the export failed. This functionality is crucial for sharing information with my team and external parties, as it would greatly improve our collaboration.\n",
      "\n",
      "3. Slow Loading Issue: Over the past week, I have noticed a significant decrease in the panel SAAS's loading speed. The pages take an unusually long time to load, which affects my productivity and generates frustration. Given that I have a reliable internet connection, I believe that the problem lies within the panel itself.\n",
      "\n",
      "I have taken the following steps to resolve the issue:\n",
      "\n",
      "1. Cache Clearing: I have cleared the browser cache and cookies in my browser to ensure that outdated data is not causing conflicts. However, the problems persist even after this action.\n",
      "\n",
      "2. Multiple Browsers: I have tested the SAAS panel on different web browsers (Chrome, Firefox, and Safari) to determine if the issue was specific to a particular browser. Unfortunately, the graphics issues, export functionality problems, and slow loading persisted in all browsers.\n",
      "\n",
      "I kindly request your assistance in resolving these issues, as they are hindering my ability to fully utilize the SAAS panel's potential. Here are the specific actions I would appreciate:\n",
      "\n",
      "1. Graphics Issue: Please investigate and correct the graphics problems present on the main page of the panel to ensure accurate visualization of data.\n",
      "\n",
      "2. Export Functionality Issue: Identify and resolve the export functionality issue, allowing me to share data with my team and external parties in a fluid manner.\n",
      "\n",
      "3. Performance Optimization: Please address the slow loading issue to improve the user experience and increase productivity.\n",
      "\n",
      "I appreciate your prompt attention to this matter. If you require any additional information or need help from my side, please do not hesitate to contact me. I look forward to receiving your response and resolving these technical issues as soon as possible.\n",
      "\n",
      "Thank you for your understanding and support.\n",
      "\n",
      "Sincerely,\n",
      "\n",
      "Maria Rodriguez\n",
      "Customer ID: 123456789\n",
      "Account Information: Company Example S.A.\n"
     ]
    }
   ],
   "source": [
    "print(result['translated_email'])"
   ]
  },
  {
   "cell_type": "code",
   "execution_count": 80,
   "id": "670b9635-a245-40f2-a67d-32c8c707d736",
   "metadata": {},
   "outputs": [
    {
     "name": "stdout",
     "output_type": "stream",
     "text": [
      "The customer, Maria Rodriguez, is experiencing several technical issues with the SAAS (Software as a Service) panel of their company's software product. Specifically, she is facing:\n",
      "\n",
      "1. Graphics issues on the main page, where data points appear distorted and elements overlap.\n",
      "2. Export functionality problems, which prevent her from exporting reports in CSV or PDF format.\n",
      "3. Slow loading times, which affect her productivity.\n",
      "\n",
      "Maria has tried clearing browser cache and cookies, testing the panel with different browsers, but these issues persist. She is requesting assistance from the customer support team to resolve these technical issues, including:\n",
      "\n",
      "1. Correcting the graphics problems on the main page.\n",
      "2. Resolving the export functionality issue.\n",
      "3. Optimizing the performance of the SAAS panel.\n",
      "\n",
      "Maria appreciates prompt attention and looks forward to receiving a response and resolving these technical issues as soon as possible.\n"
     ]
    }
   ],
   "source": [
    "print(result['summary'])"
   ]
  },
  {
   "cell_type": "code",
   "execution_count": null,
   "id": "c8c804c6",
   "metadata": {},
   "outputs": [],
   "source": []
  }
 ],
 "metadata": {
  "kernelspec": {
   "display_name": "venv",
   "language": "python",
   "name": "python3"
  },
  "language_info": {
   "codemirror_mode": {
    "name": "ipython",
    "version": 3
   },
   "file_extension": ".py",
   "mimetype": "text/x-python",
   "name": "python",
   "nbconvert_exporter": "python",
   "pygments_lexer": "ipython3",
   "version": "3.12.5"
  }
 },
 "nbformat": 4,
 "nbformat_minor": 5
}
