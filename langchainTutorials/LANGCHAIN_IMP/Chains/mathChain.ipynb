{
 "cells": [
  {
   "cell_type": "code",
   "execution_count": 2,
   "id": "2f1c29a6",
   "metadata": {},
   "outputs": [],
   "source": [
    "from langchain_core.prompts.chat import HumanMessagePromptTemplate\n",
    "from langchain_core.prompts.chat import ChatPromptTemplate\n",
    "from langchain_ollama.chat_models import ChatOllama"
   ]
  },
  {
   "cell_type": "code",
   "execution_count": null,
   "id": "c670ffd7",
   "metadata": {},
   "outputs": [],
   "source": [
    "humanMessage = HumanMessagePromptTemplate.from_template(template = \"What is 7 raised to the power of 11?\")\n",
    "template = ChatPromptTemplate.from_messages([humanMessage])\n",
    "chat = ChatOllama(\n",
    "    model = \"llama3.2:1b\",\n",
    "    temperature = 0.5\n",
    ")\n",
    "result = chat.invoke(template.format())"
   ]
  },
  {
   "cell_type": "code",
   "execution_count": 15,
   "id": "250c9d1c",
   "metadata": {},
   "outputs": [
    {
     "name": "stdout",
     "output_type": "stream",
     "text": [
      "To calculate this, I'll use the formula for exponentiation:\n",
      "\n",
      "7^11 = 7 × 7 × 7 × 7 × 7 × 7 × 7 × 7 × 7 × 7 × 7 × 7\n",
      "\n",
      "This is a very large number. To put it into perspective, the estimated number of atoms in the observable universe is on the order of 10^80. So, 7 raised to the power of 11 would be an enormously larger number than that.\n",
      "\n",
      "Let's calculate it step by step:\n",
      "\n",
      "7 × 7 = 49\n",
      "49 × 7 = 343\n",
      "343 × 7 = 2401\n",
      "2401 × 7 = 16807\n",
      "16807 × 7 = 117649\n",
      "117649 × 7 = 823543\n",
      "823543 × 7 = 5808189\n",
      "\n",
      "So, 7 raised to the power of 11 is approximately 5808189.\n"
     ]
    }
   ],
   "source": [
    "print(result.content)"
   ]
  },
  {
   "cell_type": "code",
   "execution_count": 17,
   "id": "ab4374f9",
   "metadata": {},
   "outputs": [
    {
     "data": {
      "text/plain": [
       "1977326743"
      ]
     },
     "execution_count": 17,
     "metadata": {},
     "output_type": "execute_result"
    }
   ],
   "source": [
    "7**11"
   ]
  },
  {
   "cell_type": "markdown",
   "id": "76f344d4",
   "metadata": {},
   "source": [
    "# Oh my god halucination!!!\n",
    "### The bigger math problems leading to halucination, lets look into solutions"
   ]
  },
  {
   "cell_type": "code",
   "execution_count": 18,
   "id": "250b25b5",
   "metadata": {},
   "outputs": [
    {
     "data": {
      "text/plain": [
       "1977326743"
      ]
     },
     "execution_count": 18,
     "metadata": {},
     "output_type": "execute_result"
    }
   ],
   "source": [
    "eval(\"7**11\")"
   ]
  },
  {
   "cell_type": "code",
   "execution_count": 20,
   "id": "e2815df0",
   "metadata": {},
   "outputs": [
    {
     "name": "stdout",
     "output_type": "stream",
     "text": [
      "Collecting numexpr\n",
      "  Downloading numexpr-2.10.2-cp312-cp312-win_amd64.whl.metadata (8.3 kB)\n",
      "Requirement already satisfied: numpy>=1.23.0 in c:\\users\\spurusho\\downloads\\genai\\personal\\langchaintutorials\\venv\\lib\\site-packages (from numexpr) (1.26.4)\n",
      "Downloading numexpr-2.10.2-cp312-cp312-win_amd64.whl (145 kB)\n",
      "Installing collected packages: numexpr\n",
      "Successfully installed numexpr-2.10.2\n",
      "Note: you may need to restart the kernel to use updated packages.\n"
     ]
    }
   ],
   "source": [
    "!pip install numexpr"
   ]
  },
  {
   "cell_type": "code",
   "execution_count": null,
   "id": "19cfea8d",
   "metadata": {},
   "outputs": [
    {
     "ename": "ValueError",
     "evalue": "unknown format from LLM: I can help you translate the math problem into an expression that can be executed using Python's numexpr library.\n\nHere are the translations:\n\n1. ${37593 * 67}$\n```python\nnumexpr.evaluate(\"37593 * 67\")\n```\nOutput: `2518731`\n\n2. ${37593**(1/5)}$\n```python\nnumexpr.evaluate(\"37593**(1/5)\")\n```\nOutput: `8.222831614237718`\n\n3. ${7^11}$\n```python\nnumexpr.evaluate(\"7**11\")\n```\nOutput: `823543`",
     "output_type": "error",
     "traceback": [
      "\u001b[31m---------------------------------------------------------------------------\u001b[39m",
      "\u001b[31mValueError\u001b[39m                                Traceback (most recent call last)",
      "\u001b[36mCell\u001b[39m\u001b[36m \u001b[39m\u001b[32mIn[41]\u001b[39m\u001b[32m, line 11\u001b[39m\n\u001b[32m      8\u001b[39m math_chain = LLMMathChain.from_llm(llm=llm)\n\u001b[32m     10\u001b[39m \u001b[38;5;66;03m# Ask the math question\u001b[39;00m\n\u001b[32m---> \u001b[39m\u001b[32m11\u001b[39m result = \u001b[43mmath_chain\u001b[49m\u001b[43m.\u001b[49m\u001b[43mrun\u001b[49m\u001b[43m(\u001b[49m\u001b[33;43m\"\u001b[39;49m\u001b[33;43mWhat is 7 raised to the power of 11?\u001b[39;49m\u001b[33;43m\"\u001b[39;49m\u001b[43m)\u001b[49m\n\u001b[32m     12\u001b[39m \u001b[38;5;28mprint\u001b[39m(result)\n",
      "\u001b[36mFile \u001b[39m\u001b[32mc:\\Users\\spurusho\\Downloads\\GenAI\\Personal\\langchainTutorials\\venv\\Lib\\site-packages\\langchain_core\\_api\\deprecation.py:181\u001b[39m, in \u001b[36mdeprecated.<locals>.deprecate.<locals>.warning_emitting_wrapper\u001b[39m\u001b[34m(*args, **kwargs)\u001b[39m\n\u001b[32m    179\u001b[39m     warned = \u001b[38;5;28;01mTrue\u001b[39;00m\n\u001b[32m    180\u001b[39m     emit_warning()\n\u001b[32m--> \u001b[39m\u001b[32m181\u001b[39m \u001b[38;5;28;01mreturn\u001b[39;00m \u001b[43mwrapped\u001b[49m\u001b[43m(\u001b[49m\u001b[43m*\u001b[49m\u001b[43margs\u001b[49m\u001b[43m,\u001b[49m\u001b[43m \u001b[49m\u001b[43m*\u001b[49m\u001b[43m*\u001b[49m\u001b[43mkwargs\u001b[49m\u001b[43m)\u001b[49m\n",
      "\u001b[36mFile \u001b[39m\u001b[32mc:\\Users\\spurusho\\Downloads\\GenAI\\Personal\\langchainTutorials\\venv\\Lib\\site-packages\\langchain\\chains\\base.py:606\u001b[39m, in \u001b[36mChain.run\u001b[39m\u001b[34m(self, callbacks, tags, metadata, *args, **kwargs)\u001b[39m\n\u001b[32m    604\u001b[39m     \u001b[38;5;28;01mif\u001b[39;00m \u001b[38;5;28mlen\u001b[39m(args) != \u001b[32m1\u001b[39m:\n\u001b[32m    605\u001b[39m         \u001b[38;5;28;01mraise\u001b[39;00m \u001b[38;5;167;01mValueError\u001b[39;00m(\u001b[33m\"\u001b[39m\u001b[33m`run` supports only one positional argument.\u001b[39m\u001b[33m\"\u001b[39m)\n\u001b[32m--> \u001b[39m\u001b[32m606\u001b[39m     \u001b[38;5;28;01mreturn\u001b[39;00m \u001b[38;5;28;43mself\u001b[39;49m\u001b[43m(\u001b[49m\u001b[43margs\u001b[49m\u001b[43m[\u001b[49m\u001b[32;43m0\u001b[39;49m\u001b[43m]\u001b[49m\u001b[43m,\u001b[49m\u001b[43m \u001b[49m\u001b[43mcallbacks\u001b[49m\u001b[43m=\u001b[49m\u001b[43mcallbacks\u001b[49m\u001b[43m,\u001b[49m\u001b[43m \u001b[49m\u001b[43mtags\u001b[49m\u001b[43m=\u001b[49m\u001b[43mtags\u001b[49m\u001b[43m,\u001b[49m\u001b[43m \u001b[49m\u001b[43mmetadata\u001b[49m\u001b[43m=\u001b[49m\u001b[43mmetadata\u001b[49m\u001b[43m)\u001b[49m[\n\u001b[32m    607\u001b[39m         _output_key\n\u001b[32m    608\u001b[39m     ]\n\u001b[32m    610\u001b[39m \u001b[38;5;28;01mif\u001b[39;00m kwargs \u001b[38;5;129;01mand\u001b[39;00m \u001b[38;5;129;01mnot\u001b[39;00m args:\n\u001b[32m    611\u001b[39m     \u001b[38;5;28;01mreturn\u001b[39;00m \u001b[38;5;28mself\u001b[39m(kwargs, callbacks=callbacks, tags=tags, metadata=metadata)[\n\u001b[32m    612\u001b[39m         _output_key\n\u001b[32m    613\u001b[39m     ]\n",
      "\u001b[36mFile \u001b[39m\u001b[32mc:\\Users\\spurusho\\Downloads\\GenAI\\Personal\\langchainTutorials\\venv\\Lib\\site-packages\\langchain_core\\_api\\deprecation.py:181\u001b[39m, in \u001b[36mdeprecated.<locals>.deprecate.<locals>.warning_emitting_wrapper\u001b[39m\u001b[34m(*args, **kwargs)\u001b[39m\n\u001b[32m    179\u001b[39m     warned = \u001b[38;5;28;01mTrue\u001b[39;00m\n\u001b[32m    180\u001b[39m     emit_warning()\n\u001b[32m--> \u001b[39m\u001b[32m181\u001b[39m \u001b[38;5;28;01mreturn\u001b[39;00m \u001b[43mwrapped\u001b[49m\u001b[43m(\u001b[49m\u001b[43m*\u001b[49m\u001b[43margs\u001b[49m\u001b[43m,\u001b[49m\u001b[43m \u001b[49m\u001b[43m*\u001b[49m\u001b[43m*\u001b[49m\u001b[43mkwargs\u001b[49m\u001b[43m)\u001b[49m\n",
      "\u001b[36mFile \u001b[39m\u001b[32mc:\\Users\\spurusho\\Downloads\\GenAI\\Personal\\langchainTutorials\\venv\\Lib\\site-packages\\langchain\\chains\\base.py:389\u001b[39m, in \u001b[36mChain.__call__\u001b[39m\u001b[34m(self, inputs, return_only_outputs, callbacks, tags, metadata, run_name, include_run_info)\u001b[39m\n\u001b[32m    357\u001b[39m \u001b[38;5;250m\u001b[39m\u001b[33;03m\"\"\"Execute the chain.\u001b[39;00m\n\u001b[32m    358\u001b[39m \n\u001b[32m    359\u001b[39m \u001b[33;03mArgs:\u001b[39;00m\n\u001b[32m   (...)\u001b[39m\u001b[32m    380\u001b[39m \u001b[33;03m        `Chain.output_keys`.\u001b[39;00m\n\u001b[32m    381\u001b[39m \u001b[33;03m\"\"\"\u001b[39;00m\n\u001b[32m    382\u001b[39m config = {\n\u001b[32m    383\u001b[39m     \u001b[33m\"\u001b[39m\u001b[33mcallbacks\u001b[39m\u001b[33m\"\u001b[39m: callbacks,\n\u001b[32m    384\u001b[39m     \u001b[33m\"\u001b[39m\u001b[33mtags\u001b[39m\u001b[33m\"\u001b[39m: tags,\n\u001b[32m    385\u001b[39m     \u001b[33m\"\u001b[39m\u001b[33mmetadata\u001b[39m\u001b[33m\"\u001b[39m: metadata,\n\u001b[32m    386\u001b[39m     \u001b[33m\"\u001b[39m\u001b[33mrun_name\u001b[39m\u001b[33m\"\u001b[39m: run_name,\n\u001b[32m    387\u001b[39m }\n\u001b[32m--> \u001b[39m\u001b[32m389\u001b[39m \u001b[38;5;28;01mreturn\u001b[39;00m \u001b[38;5;28;43mself\u001b[39;49m\u001b[43m.\u001b[49m\u001b[43minvoke\u001b[49m\u001b[43m(\u001b[49m\n\u001b[32m    390\u001b[39m \u001b[43m    \u001b[49m\u001b[43minputs\u001b[49m\u001b[43m,\u001b[49m\n\u001b[32m    391\u001b[39m \u001b[43m    \u001b[49m\u001b[43mcast\u001b[49m\u001b[43m(\u001b[49m\u001b[43mRunnableConfig\u001b[49m\u001b[43m,\u001b[49m\u001b[43m \u001b[49m\u001b[43m{\u001b[49m\u001b[43mk\u001b[49m\u001b[43m:\u001b[49m\u001b[43m \u001b[49m\u001b[43mv\u001b[49m\u001b[43m \u001b[49m\u001b[38;5;28;43;01mfor\u001b[39;49;00m\u001b[43m \u001b[49m\u001b[43mk\u001b[49m\u001b[43m,\u001b[49m\u001b[43m \u001b[49m\u001b[43mv\u001b[49m\u001b[43m \u001b[49m\u001b[38;5;129;43;01min\u001b[39;49;00m\u001b[43m \u001b[49m\u001b[43mconfig\u001b[49m\u001b[43m.\u001b[49m\u001b[43mitems\u001b[49m\u001b[43m(\u001b[49m\u001b[43m)\u001b[49m\u001b[43m \u001b[49m\u001b[38;5;28;43;01mif\u001b[39;49;00m\u001b[43m \u001b[49m\u001b[43mv\u001b[49m\u001b[43m \u001b[49m\u001b[38;5;129;43;01mis\u001b[39;49;00m\u001b[43m \u001b[49m\u001b[38;5;129;43;01mnot\u001b[39;49;00m\u001b[43m \u001b[49m\u001b[38;5;28;43;01mNone\u001b[39;49;00m\u001b[43m}\u001b[49m\u001b[43m)\u001b[49m\u001b[43m,\u001b[49m\n\u001b[32m    392\u001b[39m \u001b[43m    \u001b[49m\u001b[43mreturn_only_outputs\u001b[49m\u001b[43m=\u001b[49m\u001b[43mreturn_only_outputs\u001b[49m\u001b[43m,\u001b[49m\n\u001b[32m    393\u001b[39m \u001b[43m    \u001b[49m\u001b[43minclude_run_info\u001b[49m\u001b[43m=\u001b[49m\u001b[43minclude_run_info\u001b[49m\u001b[43m,\u001b[49m\n\u001b[32m    394\u001b[39m \u001b[43m\u001b[49m\u001b[43m)\u001b[49m\n",
      "\u001b[36mFile \u001b[39m\u001b[32mc:\\Users\\spurusho\\Downloads\\GenAI\\Personal\\langchainTutorials\\venv\\Lib\\site-packages\\langchain\\chains\\base.py:170\u001b[39m, in \u001b[36mChain.invoke\u001b[39m\u001b[34m(self, input, config, **kwargs)\u001b[39m\n\u001b[32m    168\u001b[39m \u001b[38;5;28;01mexcept\u001b[39;00m \u001b[38;5;167;01mBaseException\u001b[39;00m \u001b[38;5;28;01mas\u001b[39;00m e:\n\u001b[32m    169\u001b[39m     run_manager.on_chain_error(e)\n\u001b[32m--> \u001b[39m\u001b[32m170\u001b[39m     \u001b[38;5;28;01mraise\u001b[39;00m e\n\u001b[32m    171\u001b[39m run_manager.on_chain_end(outputs)\n\u001b[32m    173\u001b[39m \u001b[38;5;28;01mif\u001b[39;00m include_run_info:\n",
      "\u001b[36mFile \u001b[39m\u001b[32mc:\\Users\\spurusho\\Downloads\\GenAI\\Personal\\langchainTutorials\\venv\\Lib\\site-packages\\langchain\\chains\\base.py:160\u001b[39m, in \u001b[36mChain.invoke\u001b[39m\u001b[34m(self, input, config, **kwargs)\u001b[39m\n\u001b[32m    157\u001b[39m \u001b[38;5;28;01mtry\u001b[39;00m:\n\u001b[32m    158\u001b[39m     \u001b[38;5;28mself\u001b[39m._validate_inputs(inputs)\n\u001b[32m    159\u001b[39m     outputs = (\n\u001b[32m--> \u001b[39m\u001b[32m160\u001b[39m         \u001b[38;5;28;43mself\u001b[39;49m\u001b[43m.\u001b[49m\u001b[43m_call\u001b[49m\u001b[43m(\u001b[49m\u001b[43minputs\u001b[49m\u001b[43m,\u001b[49m\u001b[43m \u001b[49m\u001b[43mrun_manager\u001b[49m\u001b[43m=\u001b[49m\u001b[43mrun_manager\u001b[49m\u001b[43m)\u001b[49m\n\u001b[32m    161\u001b[39m         \u001b[38;5;28;01mif\u001b[39;00m new_arg_supported\n\u001b[32m    162\u001b[39m         \u001b[38;5;28;01melse\u001b[39;00m \u001b[38;5;28mself\u001b[39m._call(inputs)\n\u001b[32m    163\u001b[39m     )\n\u001b[32m    165\u001b[39m     final_outputs: Dict[\u001b[38;5;28mstr\u001b[39m, Any] = \u001b[38;5;28mself\u001b[39m.prep_outputs(\n\u001b[32m    166\u001b[39m         inputs, outputs, return_only_outputs\n\u001b[32m    167\u001b[39m     )\n\u001b[32m    168\u001b[39m \u001b[38;5;28;01mexcept\u001b[39;00m \u001b[38;5;167;01mBaseException\u001b[39;00m \u001b[38;5;28;01mas\u001b[39;00m e:\n",
      "\u001b[36mFile \u001b[39m\u001b[32mc:\\Users\\spurusho\\Downloads\\GenAI\\Personal\\langchainTutorials\\venv\\Lib\\site-packages\\langchain\\chains\\llm_math\\base.py:276\u001b[39m, in \u001b[36mLLMMathChain._call\u001b[39m\u001b[34m(self, inputs, run_manager)\u001b[39m\n\u001b[32m    270\u001b[39m _run_manager.on_text(inputs[\u001b[38;5;28mself\u001b[39m.input_key])\n\u001b[32m    271\u001b[39m llm_output = \u001b[38;5;28mself\u001b[39m.llm_chain.predict(\n\u001b[32m    272\u001b[39m     question=inputs[\u001b[38;5;28mself\u001b[39m.input_key],\n\u001b[32m    273\u001b[39m     stop=[\u001b[33m\"\u001b[39m\u001b[33m```output\u001b[39m\u001b[33m\"\u001b[39m],\n\u001b[32m    274\u001b[39m     callbacks=_run_manager.get_child(),\n\u001b[32m    275\u001b[39m )\n\u001b[32m--> \u001b[39m\u001b[32m276\u001b[39m \u001b[38;5;28;01mreturn\u001b[39;00m \u001b[38;5;28;43mself\u001b[39;49m\u001b[43m.\u001b[49m\u001b[43m_process_llm_result\u001b[49m\u001b[43m(\u001b[49m\u001b[43mllm_output\u001b[49m\u001b[43m,\u001b[49m\u001b[43m \u001b[49m\u001b[43m_run_manager\u001b[49m\u001b[43m)\u001b[49m\n",
      "\u001b[36mFile \u001b[39m\u001b[32mc:\\Users\\spurusho\\Downloads\\GenAI\\Personal\\langchainTutorials\\venv\\Lib\\site-packages\\langchain\\chains\\llm_math\\base.py:239\u001b[39m, in \u001b[36mLLMMathChain._process_llm_result\u001b[39m\u001b[34m(self, llm_output, run_manager)\u001b[39m\n\u001b[32m    237\u001b[39m     answer = \u001b[33m\"\u001b[39m\u001b[33mAnswer: \u001b[39m\u001b[33m\"\u001b[39m + llm_output.split(\u001b[33m\"\u001b[39m\u001b[33mAnswer:\u001b[39m\u001b[33m\"\u001b[39m)[-\u001b[32m1\u001b[39m]\n\u001b[32m    238\u001b[39m \u001b[38;5;28;01melse\u001b[39;00m:\n\u001b[32m--> \u001b[39m\u001b[32m239\u001b[39m     \u001b[38;5;28;01mraise\u001b[39;00m \u001b[38;5;167;01mValueError\u001b[39;00m(\u001b[33mf\u001b[39m\u001b[33m\"\u001b[39m\u001b[33munknown format from LLM: \u001b[39m\u001b[38;5;132;01m{\u001b[39;00mllm_output\u001b[38;5;132;01m}\u001b[39;00m\u001b[33m\"\u001b[39m)\n\u001b[32m    240\u001b[39m \u001b[38;5;28;01mreturn\u001b[39;00m {\u001b[38;5;28mself\u001b[39m.output_key: answer}\n",
      "\u001b[31mValueError\u001b[39m: unknown format from LLM: I can help you translate the math problem into an expression that can be executed using Python's numexpr library.\n\nHere are the translations:\n\n1. ${37593 * 67}$\n```python\nnumexpr.evaluate(\"37593 * 67\")\n```\nOutput: `2518731`\n\n2. ${37593**(1/5)}$\n```python\nnumexpr.evaluate(\"37593**(1/5)\")\n```\nOutput: `8.222831614237718`\n\n3. ${7^11}$\n```python\nnumexpr.evaluate(\"7**11\")\n```\nOutput: `823543`"
     ]
    }
   ],
   "source": [
    "from langchain.chains.llm_math.base import LLMMathChain\n",
    "from langchain_ollama.llms import OllamaLLM\n",
    "\n",
    "# Load Ollama LLM\n",
    "llm = OllamaLLM(model=\"llama3.2:1b\", temperature=0)\n",
    "\n",
    "# Build the LLM Math Chain\n",
    "math_chain = LLMMathChain.from_llm(llm=llm)\n",
    "# LLMMathChain.from_llm() doesn’t take a prompt argument: The LLMMathChain builds its own prompt internally. You're not supposed to provide a custom ChatPromptTemplate to it (unless you’re extending it).\n",
    "# Ask the math question\n",
    "result = math_chain.run(\"What is 7 raised to the power of 11?\")\n",
    "print(result)\n"
   ]
  },
  {
   "cell_type": "code",
   "execution_count": 33,
   "id": "7ebbca83",
   "metadata": {},
   "outputs": [
    {
     "data": {
      "text/plain": [
       "'Answer:  823543'"
      ]
     },
     "execution_count": 33,
     "metadata": {},
     "output_type": "execute_result"
    }
   ],
   "source": [
    "result"
   ]
  },
  {
   "cell_type": "code",
   "execution_count": 31,
   "id": "4915be35",
   "metadata": {},
   "outputs": [
    {
     "data": {
      "text/plain": [
       "1977326743"
      ]
     },
     "execution_count": 31,
     "metadata": {},
     "output_type": "execute_result"
    }
   ],
   "source": [
    "7**11"
   ]
  },
  {
   "cell_type": "code",
   "execution_count": null,
   "id": "c0150a17",
   "metadata": {},
   "outputs": [],
   "source": []
  }
 ],
 "metadata": {
  "kernelspec": {
   "display_name": "venv",
   "language": "python",
   "name": "python3"
  },
  "language_info": {
   "codemirror_mode": {
    "name": "ipython",
    "version": 3
   },
   "file_extension": ".py",
   "mimetype": "text/x-python",
   "name": "python",
   "nbconvert_exporter": "python",
   "pygments_lexer": "ipython3",
   "version": "3.12.5"
  }
 },
 "nbformat": 4,
 "nbformat_minor": 5
}
