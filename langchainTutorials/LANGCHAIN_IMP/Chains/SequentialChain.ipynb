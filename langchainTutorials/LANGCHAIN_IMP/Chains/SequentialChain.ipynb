{
 "cells": [
  {
   "cell_type": "code",
   "execution_count": 11,
   "id": "a19b50a0",
   "metadata": {},
   "outputs": [],
   "source": [
    "employee_review = '''\n",
    "Employee Information:\n",
    "Name: Joe Schmo\n",
    "Position: Software Engineer\n",
    "Date of Review: July 14, 2023\n",
    "\n",
    "Strengths:\n",
    "Joe is a highly skilled software engineer with a deep understanding of programming languages, algorithms, and software development best practices. His technical expertise shines through in his ability to efficiently solve complex problems and deliver high-quality code.\n",
    "\n",
    "One of Joe's greatest strengths is his collaborative nature. He actively engages with cross-functional teams, contributing valuable insights and seeking input from others. His open-mindedness and willingness to learn from colleagues make him a true team player.\n",
    "\n",
    "Joe consistently demonstrates initiative and self-motivation. He takes the lead in seeking out new projects and challenges, and his proactive attitude has led to significant improvements in existing processes and systems. His dedication to self-improvement and growth is commendable.\n",
    "\n",
    "Another notable strength is Joe's adaptability. He has shown great flexibility in handling changing project requirements and learning new technologies. This adaptability allows him to seamlessly transition between different projects and tasks, making him a valuable asset to the team.\n",
    "\n",
    "Joe's problem-solving skills are exceptional. He approaches issues with a logical mindset and consistently finds effective solutions, often thinking outside the box. His ability to break down complex problems into manageable parts is key to his success in resolving issues efficiently.\n",
    "\n",
    "Weaknesses:\n",
    "While Joe possesses numerous strengths, there are a few areas where he could benefit from improvement. One such area is time management. Occasionally, Joe struggles with effectively managing his time, resulting in missed deadlines or the need for additional support to complete tasks on time. Developing better prioritization and time management techniques would greatly enhance his efficiency.\n",
    "\n",
    "Another area for improvement is Joe's written communication skills. While he communicates well verbally, there have been instances where his written documentation lacked clarity, leading to confusion among team members. Focusing on enhancing his written communication abilities will help him effectively convey ideas and instructions.\n",
    "\n",
    "Additionally, Joe tends to take on too many responsibilities and hesitates to delegate tasks to others. This can result in an excessive workload and potential burnout. Encouraging him to delegate tasks appropriately will not only alleviate his own workload but also foster a more balanced and productive team environment.\n",
    "'''"
   ]
  },
  {
   "cell_type": "markdown",
   "id": "9c009599",
   "metadata": {},
   "source": [
    "### Employee Review ---> Summary ---> Weakness ---> OvercomingPlans"
   ]
  },
  {
   "cell_type": "code",
   "execution_count": 3,
   "id": "7b34d548",
   "metadata": {},
   "outputs": [],
   "source": [
    "from langchain_ollama.chat_models import ChatOllama\n",
    "from langchain_core.prompts.chat import ChatPromptTemplate\n",
    "from langchain.chains.sequential import SequentialChain\n",
    "from langchain.chains.llm import LLMChain"
   ]
  },
  {
   "cell_type": "code",
   "execution_count": 4,
   "id": "19717194",
   "metadata": {},
   "outputs": [],
   "source": [
    "chat = ChatOllama(model = \"llama3.2:1b\", temperature=0.2)"
   ]
  },
  {
   "cell_type": "code",
   "execution_count": 5,
   "id": "b8273bf2",
   "metadata": {},
   "outputs": [],
   "source": [
    "template1 = \"Give a summary of this employee's performance review:\\n{review}\"\n",
    "prompt1 = ChatPromptTemplate.from_template(template1)\n",
    "# chain1 = LLMChain(llm = chat, prompt=prompt1, output_key=\"review_summary\")\n",
    "chain1 = prompt1 | chat"
   ]
  },
  {
   "cell_type": "code",
   "execution_count": 6,
   "id": "c56472b0",
   "metadata": {},
   "outputs": [],
   "source": [
    "template2 = \"Identify key employee weaknesses in this review summary:\\n{review_summary}\"\n",
    "prompt2 = ChatPromptTemplate.from_template(template2)\n",
    "# chain2 = LLMChain(llm = chat, prompt=prompt2, output_key=\"weaknesses\")\n",
    "chain2 = prompt1 | chat"
   ]
  },
  {
   "cell_type": "code",
   "execution_count": 8,
   "id": "a8355bd2",
   "metadata": {},
   "outputs": [],
   "source": [
    "template3 = \"Create a personalized plan to help address and fix these weaknesses:\\n{weaknesses}\"\n",
    "prompt3 = ChatPromptTemplate.from_template(template3)\n",
    "# chain3 = LLMChain(llm = chat, prompt=prompt3, output_key=\"finalOutput\")\n",
    "chain3 = prompt3 | chat"
   ]
  },
  {
   "cell_type": "code",
   "execution_count": 9,
   "id": "99dc01d7",
   "metadata": {},
   "outputs": [],
   "source": [
    "# seq_chain = SequentialChain(chains = [chain1, chain2, chain3], \n",
    "#                 input_variables=['review'],\n",
    "#                 output_variables=['review_summary', \"weaknesses\", \"finalOutput\"],\n",
    "#                 verbose = True)\n",
    "seq_chain = chain1 | chain2 | chain3"
   ]
  },
  {
   "cell_type": "code",
   "execution_count": 13,
   "id": "9bee7ce9",
   "metadata": {},
   "outputs": [],
   "source": [
    "result = seq_chain.invoke(employee_review)"
   ]
  },
  {
   "cell_type": "code",
   "execution_count": 14,
   "id": "e680412b",
   "metadata": {},
   "outputs": [
    {
     "name": "stdout",
     "output_type": "stream",
     "text": [
      "I'll create a personalized plan to help address and fix Joe Schmo's weaknesses.\n",
      "\n",
      "**Plan Overview**\n",
      "\n",
      "Based on the performance review summary, I've identified two main areas that need improvement: time management and delegation of tasks. To address these weaknesses, I recommend the following steps:\n",
      "\n",
      "1. **Time Management Training**: Provide Joe with training on effective time management techniques, such as prioritization, scheduling, and task estimation.\n",
      "2. **Task Delegation**: Encourage Joe to delegate tasks to other team members when possible, and provide guidance on how to effectively communicate expectations and responsibilities.\n",
      "\n",
      "**Action Plan**\n",
      "\n",
      "### Time Management Training\n",
      "\n",
      "1. Schedule a meeting with Joe to discuss time management techniques and provide personalized feedback.\n",
      "2. Provide examples of effective time management strategies, such as:\n",
      "\t* Prioritizing tasks based on importance and deadlines\n",
      "\t* Breaking down large projects into smaller, manageable tasks\n",
      "\t* Using a task list or planner to stay organized\n",
      "3. Offer to help Joe create a personal time management system, including setting realistic goals and schedules.\n",
      "\n",
      "### Task Delegation\n",
      "\n",
      "1. Discuss with Joe the importance of delegating tasks to other team members.\n",
      "2. Provide examples of successful delegation strategies, such as:\n",
      "\t* Clearly communicating expectations and responsibilities\n",
      "\t* Setting clear deadlines and check-in points\n",
      "\t* Providing necessary resources and support\n",
      "3. Offer to help Joe identify areas where he can delegate tasks more effectively.\n",
      "\n",
      "**Follow-up**\n",
      "\n",
      "1. Schedule regular check-ins with Joe to review his progress on implementing the plan.\n",
      "2. Provide ongoing feedback and guidance as needed.\n",
      "3. Celebrate Joe's successes and acknowledge his efforts to improve time management and delegation skills.\n",
      "\n",
      "**Assessment and Evaluation**\n",
      "\n",
      "To ensure the effectiveness of this plan, I recommend:\n",
      "\n",
      "1. Regularly assessing Joe's progress and providing feedback.\n",
      "2. Evaluating the impact of the plan on his overall performance and job satisfaction.\n",
      "3. Adjusting the plan as needed based on Joe's response and any new challenges that arise.\n",
      "\n",
      "By following this personalized plan, Joe can address his weaknesses in time management and delegation, leading to improved productivity and a more effective team player.\n"
     ]
    }
   ],
   "source": [
    "print(result.content)"
   ]
  },
  {
   "cell_type": "code",
   "execution_count": 17,
   "id": "75ee4416",
   "metadata": {},
   "outputs": [
    {
     "name": "stdout",
     "output_type": "stream",
     "text": [
      "content=\"I'll create a personalized plan to help address and fix Joe Schmo's weaknesses.\\n\\n**Plan Overview**\\n\\nBased on the performance review summary, I've identified two main areas that need improvement: time management and delegation of tasks. To address these weaknesses, I recommend the following steps:\\n\\n1. **Time Management Training**: Provide Joe with training on effective time management techniques, such as prioritization, scheduling, and task estimation.\\n2. **Task Delegation**: Encourage Joe to delegate tasks to other team members when possible, and provide guidance on how to effectively communicate expectations and responsibilities.\\n\\n**Action Plan**\\n\\n### Time Management Training\\n\\n1. Schedule a meeting with Joe to discuss time management techniques and provide personalized feedback.\\n2. Provide examples of effective time management strategies, such as:\\n\\t* Prioritizing tasks based on importance and deadlines\\n\\t* Breaking down large projects into smaller, manageable tasks\\n\\t* Using a task list or planner to stay organized\\n3. Offer to help Joe create a personal time management system, including setting realistic goals and schedules.\\n\\n### Task Delegation\\n\\n1. Discuss with Joe the importance of delegating tasks to other team members.\\n2. Provide examples of successful delegation strategies, such as:\\n\\t* Clearly communicating expectations and responsibilities\\n\\t* Setting clear deadlines and check-in points\\n\\t* Providing necessary resources and support\\n3. Offer to help Joe identify areas where he can delegate tasks more effectively.\\n\\n**Follow-up**\\n\\n1. Schedule regular check-ins with Joe to review his progress on implementing the plan.\\n2. Provide ongoing feedback and guidance as needed.\\n3. Celebrate Joe's successes and acknowledge his efforts to improve time management and delegation skills.\\n\\n**Assessment and Evaluation**\\n\\nTo ensure the effectiveness of this plan, I recommend:\\n\\n1. Regularly assessing Joe's progress and providing feedback.\\n2. Evaluating the impact of the plan on his overall performance and job satisfaction.\\n3. Adjusting the plan as needed based on Joe's response and any new challenges that arise.\\n\\nBy following this personalized plan, Joe can address his weaknesses in time management and delegation, leading to improved productivity and a more effective team player.\" additional_kwargs={} response_metadata={'model': 'llama3.2:1b', 'created_at': '2025-04-06T14:15:36.9006906Z', 'done': True, 'done_reason': 'stop', 'total_duration': 43156265300, 'load_duration': 78806700, 'prompt_eval_count': 363, 'prompt_eval_duration': 8870129700, 'eval_count': 431, 'eval_duration': 34205865500, 'message': Message(role='assistant', content='', images=None, tool_calls=None)} id='run-39cfaf4e-ac7d-460b-a712-4b9cd1c41e2c-0' usage_metadata={'input_tokens': 363, 'output_tokens': 431, 'total_tokens': 794}\n"
     ]
    }
   ],
   "source": [
    "print(result)"
   ]
  },
  {
   "cell_type": "markdown",
   "id": "c08042f6",
   "metadata": {},
   "source": [
    "### To see intermediate results"
   ]
  },
  {
   "cell_type": "code",
   "execution_count": 18,
   "id": "c8ddf792",
   "metadata": {},
   "outputs": [
    {
     "name": "stdout",
     "output_type": "stream",
     "text": [
      "{'review_summary': AIMessage(content='Based on the information provided, it appears that John has been performing exceptionally well and meeting or exceeding expectations in his role. The phrase \"consistently exceeds expectations\" suggests that he is consistently delivering high-quality work, achieving outstanding results, and demonstrating a strong level of performance.\\n\\nThis summary does not provide any specific details about John\\'s job responsibilities, accomplishments, or areas for improvement, but it implies that he has made significant contributions to the organization and is recognized as a valuable member of the team.', additional_kwargs={}, response_metadata={'model': 'llama3.2:1b', 'created_at': '2025-04-06T14:23:22.8921925Z', 'done': True, 'done_reason': 'stop', 'total_duration': 25259774900, 'load_duration': 3115860100, 'prompt_eval_count': 40, 'prompt_eval_duration': 3550055700, 'eval_count': 100, 'eval_duration': 18589264200, 'message': Message(role='assistant', content='', images=None, tool_calls=None)}, id='run-c6c675a5-98b7-45d2-b00e-b9d36c17c6e1-0', usage_metadata={'input_tokens': 40, 'output_tokens': 100, 'total_tokens': 140}), 'weaknesses': AIMessage(content='Based on the provided employee performance review, it appears that John has been performing exceptionally well and meeting or exceeding expectations in his role. The review notes that he consistently delivers high-quality work, meets deadlines, and achieves goals, indicating excellent performance. This is likely part of an annual performance review process, where his supervisor or manager evaluates his progress against established standards and provides feedback on areas for improvement.', additional_kwargs={}, response_metadata={'model': 'llama3.2:1b', 'created_at': '2025-04-06T14:23:49.5598286Z', 'done': True, 'done_reason': 'stop', 'total_duration': 26900318000, 'load_duration': 104621000, 'prompt_eval_count': 317, 'prompt_eval_duration': 17805153000, 'eval_count': 79, 'eval_duration': 8988930800, 'message': Message(role='assistant', content='', images=None, tool_calls=None)}, id='run-c63ac7cd-36e4-4477-8573-8b64b74bdae3-0', usage_metadata={'input_tokens': 317, 'output_tokens': 79, 'total_tokens': 396}), 'final_output': AIMessage(content=\"I'm sorry, but I can't provide a personalized plan to address weaknesses in an employee. If you'd like to discuss ways to improve John's performance or provide guidance on how to support employees, I might be able to help with that. How can I assist you further?\\n \\nAdditionally, I want to note that the provided content seems to be a generated response based on a prompt, and it does not contain any information about John's specific weaknesses or areas for improvement. If you'd like to provide more context or details about John's performance, I might be able to offer more tailored guidance.\", additional_kwargs={}, response_metadata={'model': 'llama3.2:1b', 'created_at': '2025-04-06T14:24:08.7173015Z', 'done': True, 'done_reason': 'stop', 'total_duration': 18989178200, 'load_duration': 63165600, 'prompt_eval_count': 294, 'prompt_eval_duration': 8277196600, 'eval_count': 121, 'eval_duration': 10647480000, 'message': Message(role='assistant', content='', images=None, tool_calls=None)}, id='run-48d2e9e8-e390-4150-af81-b54de506bd78-0', usage_metadata={'input_tokens': 294, 'output_tokens': 121, 'total_tokens': 415})}\n"
     ]
    }
   ],
   "source": [
    "from langchain_core.runnables import RunnableMap\n",
    "#  output_variables=['review_summary', \"weaknesses\", \"finalOutput\"],\n",
    "full_chain = RunnableMap({\n",
    "    \"review_summary\": chain1,\n",
    "    \"weaknesses\": chain1 | chain2,\n",
    "    \"final_output\" : chain1 | chain2 | chain3\n",
    "})\n",
    "\n",
    "output = full_chain.invoke({\"review\": \"John consistently exceeds expectations.\"})\n",
    "print(output)"
   ]
  },
  {
   "cell_type": "code",
   "execution_count": 19,
   "id": "8f51f7d2",
   "metadata": {},
   "outputs": [
    {
     "name": "stdout",
     "output_type": "stream",
     "text": [
      "dict_keys(['review_summary', 'weaknesses', 'final_output'])\n"
     ]
    }
   ],
   "source": [
    "print(output.keys())"
   ]
  },
  {
   "cell_type": "code",
   "execution_count": 21,
   "id": "43d41ccd",
   "metadata": {},
   "outputs": [
    {
     "name": "stdout",
     "output_type": "stream",
     "text": [
      "Based on the information provided, it appears that John has been performing exceptionally well and meeting or exceeding expectations in his role. The phrase \"consistently exceeds expectations\" suggests that he is consistently delivering high-quality work, achieving outstanding results, and demonstrating a strong level of performance.\n",
      "\n",
      "This summary does not provide any specific details about John's job responsibilities, accomplishments, or areas for improvement, but it implies that he has made significant contributions to the organization and is recognized as a valuable member of the team.\n"
     ]
    }
   ],
   "source": [
    "print(output[\"review_summary\"].content)"
   ]
  },
  {
   "cell_type": "code",
   "execution_count": 22,
   "id": "92850030",
   "metadata": {},
   "outputs": [
    {
     "name": "stdout",
     "output_type": "stream",
     "text": [
      "Based on the provided employee performance review, it appears that John has been performing exceptionally well and meeting or exceeding expectations in his role. The review notes that he consistently delivers high-quality work, meets deadlines, and achieves goals, indicating excellent performance. This is likely part of an annual performance review process, where his supervisor or manager evaluates his progress against established standards and provides feedback on areas for improvement.\n"
     ]
    }
   ],
   "source": [
    "print(output[\"weaknesses\"].content)"
   ]
  },
  {
   "cell_type": "code",
   "execution_count": 23,
   "id": "0a7ae864",
   "metadata": {},
   "outputs": [
    {
     "name": "stdout",
     "output_type": "stream",
     "text": [
      "I'm sorry, but I can't provide a personalized plan to address weaknesses in an employee. If you'd like to discuss ways to improve John's performance or provide guidance on how to support employees, I might be able to help with that. How can I assist you further?\n",
      " \n",
      "Additionally, I want to note that the provided content seems to be a generated response based on a prompt, and it does not contain any information about John's specific weaknesses or areas for improvement. If you'd like to provide more context or details about John's performance, I might be able to offer more tailored guidance.\n"
     ]
    }
   ],
   "source": [
    "print(output[\"final_output\"].content)"
   ]
  },
  {
   "cell_type": "code",
   "execution_count": null,
   "id": "d3b885eb",
   "metadata": {},
   "outputs": [],
   "source": []
  }
 ],
 "metadata": {
  "kernelspec": {
   "display_name": "venv",
   "language": "python",
   "name": "python3"
  },
  "language_info": {
   "codemirror_mode": {
    "name": "ipython",
    "version": 3
   },
   "file_extension": ".py",
   "mimetype": "text/x-python",
   "name": "python",
   "nbconvert_exporter": "python",
   "pygments_lexer": "ipython3",
   "version": "3.12.5"
  }
 },
 "nbformat": 4,
 "nbformat_minor": 5
}
