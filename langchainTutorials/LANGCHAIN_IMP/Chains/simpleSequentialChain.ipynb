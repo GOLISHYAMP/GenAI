{
 "cells": [
  {
   "cell_type": "code",
   "execution_count": 1,
   "metadata": {},
   "outputs": [],
   "source": [
    "from langchain_ollama.chat_models import ChatOllama\n",
    "from langchain_core.prompts.chat import ChatPromptTemplate\n",
    "from langchain.chains.llm import LLMChain\n",
    "from langchain.chains.sequential import SimpleSequentialChain"
   ]
  },
  {
   "cell_type": "code",
   "execution_count": 2,
   "metadata": {},
   "outputs": [],
   "source": [
    "chat = ChatOllama(model = \"llama3.2:1b\", temperature=0.2)"
   ]
  },
  {
   "cell_type": "code",
   "execution_count": 3,
   "metadata": {},
   "outputs": [],
   "source": [
    "firstPrompt = ChatPromptTemplate.from_template(\"Give me a simple bullet point outline for a blog post on {topic}\")\n",
    "# chainOne = LLMChain(llm = chat, prompt=firstPrompt)\n",
    "chainOne = firstPrompt | chat"
   ]
  },
  {
   "cell_type": "code",
   "execution_count": 4,
   "metadata": {},
   "outputs": [],
   "source": [
    "secondPrompt = ChatPromptTemplate.from_template(\"Write a blog post using this outline {outline}\")\n",
    "# chainTwo = LLMChain(llm = chat, prompt=secondPrompt)\n",
    "chainTwo = secondPrompt | chat"
   ]
  },
  {
   "cell_type": "code",
   "execution_count": 10,
   "metadata": {},
   "outputs": [],
   "source": [
    "# full_chain = SimpleSequentialChain(chains = [chainOne, chainTwo], verbose = True)\n",
    "# result = full_chain.run(\"Dosa\")"
   ]
  },
  {
   "cell_type": "code",
   "execution_count": 11,
   "metadata": {},
   "outputs": [],
   "source": [
    "from langchain_core.runnables.base import RunnableSequence\n",
    "# Sequence of Runnables, where the output of each is the input of the next.\n",
    "# Now combine with chainOne\n",
    "full_chain = chainOne | chainTwo\n",
    "\n",
    "# Run the whole pipeline\n",
    "result = full_chain.invoke(\"Dosa\")"
   ]
  },
  {
   "cell_type": "code",
   "execution_count": 12,
   "metadata": {},
   "outputs": [
    {
     "name": "stdout",
     "output_type": "stream",
     "text": [
      "content='Here\\'s a blog post based on the provided outline:\\n\\n**Dosa: A Traditional South Indian Fermented Crepe Made from Rice and Lentil Batter**\\n\\nDosa is a traditional South Indian fermented crepe made from rice and lentil batter, offering a delicious and nutritious breakfast option. With its rich history and cultural significance in South India, Dosa has become an integral part of the region\\'s culinary heritage.\\n\\n**A Brief History and Cultural Significance**\\n\\nThe origins of Dosa date back to the Chola Empire, where it was traditionally made using a specific type of rice called \"idli\" and lentils. The batter was fermented for several days, giving it a unique flavor and texture. Over time, different regions in South India developed their own variations of Dosa, incorporating local ingredients and spices.\\n\\nDosa has played a significant role in South Indian culture, particularly during festivals and special occasions. It\\'s often served with sambar (a lentil-based vegetable stew) and chutney, making it a staple food for many families.\\n\\n**Ingredients and Preparation**\\n\\nTo make Dosa, you\\'ll need the following ingredients:\\n\\n* Rice\\n* Lentils\\n* Spices (such as turmeric, cumin, and coriander)\\n* Water\\n* Salt\\n\\nThe batter is typically made by mixing together rice, lentils, spices, and water. The mixture is then fermented for several days, giving it a sour smell and a thick, sticky texture.\\n\\nTo cook the Dosa, you\\'ll need a non-stick pan or griddle. Heat a small amount of oil in the pan and pour a small amount of batter onto the surface. Use a spoon to shape the batter into a thin circle, about 3-4 inches in diameter. Cook for several minutes on each side, until the Dosa is golden brown and crispy.\\n\\n**Types of Dosa**\\n\\nThere are many types of Dosa, each with its own unique flavor and texture. Some popular varieties include:\\n\\n* Plain Dosa: Made without any fillings or toppings\\n* Spiced Dosa (e.g., potato, onion): Filled with spiced potatoes or onions\\n* Vegetable Dosa (e.g., spinach, carrot): Filled with sautéed vegetables\\n* Special occasion Dosa (e.g., festival-themed): Filled with special ingredients such as lentils or vegetables\\n\\n**Nutrition and Health Benefits**\\n\\nDosa is a nutritious food option that offers many health benefits. It\\'s high in protein, fiber, and complex carbohydrates, making it an excellent choice for those looking to manage their weight or improve their overall health.\\n\\nThe fermentation process involved in making Dosa also gives it a number of health benefits. The lactic acid produced during fermentation has antibacterial properties, which can help to boost the immune system.\\n\\n**Conclusion**\\n\\nDosa is a delicious and nutritious food that offers many benefits for those who eat it regularly. With its rich history and cultural significance in South India, Dosa is an integral part of the region\\'s culinary heritage. Whether you\\'re looking to try making Dosa at home or trying different variations, this traditional South Indian fermented crepe is definitely worth exploring.\\n\\nI hope this blog post helps! Let me know if you have any questions or need further assistance.' additional_kwargs={} response_metadata={'model': 'llama3.2:1b', 'created_at': '2025-04-06T14:05:31.6598521Z', 'done': True, 'done_reason': 'stop', 'total_duration': 79756845200, 'load_duration': 74324600, 'prompt_eval_count': 602, 'prompt_eval_duration': 15950134500, 'eval_count': 664, 'eval_duration': 63719764500, 'message': Message(role='assistant', content='', images=None, tool_calls=None)} id='run-cd541d9d-e8ed-4492-8a53-b047d95d8478-0' usage_metadata={'input_tokens': 602, 'output_tokens': 664, 'total_tokens': 1266}\n"
     ]
    }
   ],
   "source": [
    "print(result)"
   ]
  },
  {
   "cell_type": "code",
   "execution_count": null,
   "metadata": {},
   "outputs": [],
   "source": []
  }
 ],
 "metadata": {
  "kernelspec": {
   "display_name": "venv",
   "language": "python",
   "name": "python3"
  },
  "language_info": {
   "codemirror_mode": {
    "name": "ipython",
    "version": 3
   },
   "file_extension": ".py",
   "mimetype": "text/x-python",
   "name": "python",
   "nbconvert_exporter": "python",
   "pygments_lexer": "ipython3",
   "version": "3.12.5"
  }
 },
 "nbformat": 4,
 "nbformat_minor": 2
}
