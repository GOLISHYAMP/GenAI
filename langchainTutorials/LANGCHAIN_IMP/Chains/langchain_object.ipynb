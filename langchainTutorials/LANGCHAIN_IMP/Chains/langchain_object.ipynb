{
 "cells": [
  {
   "cell_type": "code",
   "execution_count": 1,
   "metadata": {},
   "outputs": [],
   "source": [
    "from langchain.chains.llm import LLMChain"
   ]
  },
  {
   "cell_type": "code",
   "execution_count": 8,
   "metadata": {},
   "outputs": [],
   "source": [
    "from langchain_core.prompts.chat import HumanMessagePromptTemplate\n",
    "from langchain_core.prompts.chat import ChatPromptTemplate\n",
    "from langchain_ollama.chat_models import ChatOllama\n",
    "\n",
    "humanTemplate = HumanMessagePromptTemplate.from_template(template=\"Create a funny {thing} name\")\n",
    "template = ChatPromptTemplate.from_messages([humanTemplate])\n",
    "chat = ChatOllama(model = \"llama3.2:1b\", temperature = 1)\n",
    "# chain = LLMChain(llm=chat, prompt=template)\n",
    "chain = template | chat\n",
    "result = chain.invoke(input=\"computer\")"
   ]
  },
  {
   "cell_type": "code",
   "execution_count": 9,
   "metadata": {},
   "outputs": [
    {
     "name": "stdout",
     "output_type": "stream",
     "text": [
      "I'd be happy to help you come up with a funny computer name. Here are a few ideas:\n",
      "\n",
      "1. Lord McPixel\n",
      "2. ByteyMcByteface\n",
      "3. Sir Ctrl-Alt-Sillypants\n",
      "4. NinjaTuxedon\n",
      "5. ZorbX (get it?)\n",
      "6. CommodoreCrabby\n",
      "7. Program Pecan\n",
      "8. PixelPerfecta (a bit of a mouthful, I know!)\n",
      "9. RAMRIDER3000 (for those who like a good pun)\n",
      "10. CtrlAltSarcastic\n",
      "\n",
      "Which one do you think is the most hilarious?\n"
     ]
    }
   ],
   "source": [
    "# print(result['text'])\n",
    "print(result.content)"
   ]
  },
  {
   "cell_type": "markdown",
   "metadata": {},
   "source": [
    "# Learning\n",
    "Here i observed that run needs only one compulsory input variable<br>\n",
    "whereas invoke can take empty or any number of input variables,<br>\n",
    "It is better to use the invoke most of the times<br>\n",
    "### run() gives direct result where as invoke() gives the dictionary results"
   ]
  },
  {
   "cell_type": "code",
   "execution_count": null,
   "metadata": {},
   "outputs": [],
   "source": []
  }
 ],
 "metadata": {
  "kernelspec": {
   "display_name": "venv",
   "language": "python",
   "name": "python3"
  },
  "language_info": {
   "codemirror_mode": {
    "name": "ipython",
    "version": 3
   },
   "file_extension": ".py",
   "mimetype": "text/x-python",
   "name": "python",
   "nbconvert_exporter": "python",
   "pygments_lexer": "ipython3",
   "version": "3.12.5"
  }
 },
 "nbformat": 4,
 "nbformat_minor": 2
}
