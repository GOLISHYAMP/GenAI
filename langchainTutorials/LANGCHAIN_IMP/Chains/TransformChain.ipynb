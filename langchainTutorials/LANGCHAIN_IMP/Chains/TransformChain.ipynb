{
 "cells": [
  {
   "cell_type": "code",
   "execution_count": 17,
   "id": "9adad769",
   "metadata": {},
   "outputs": [],
   "source": [
    "from langchain.chains.transform import TransformChain\n",
    "from langchain_core.prompts.chat import ChatPromptTemplate\n",
    "from langchain_ollama.chat_models import ChatOllama"
   ]
  },
  {
   "cell_type": "code",
   "execution_count": null,
   "id": "5c254473",
   "metadata": {},
   "outputs": [],
   "source": [
    "# Note here the input and ouput of the transform func is always dictionary\n",
    "def transformFun(input : dict) -> dict:\n",
    "    text = input['text']\n",
    "    only_review_text = text.split(\"Review:\")[-1]\n",
    "    lower_case_text = only_review_text.lower()\n",
    "    return {'review_text' : lower_case_text}"
   ]
  },
  {
   "cell_type": "code",
   "execution_count": 19,
   "id": "9c4e7f4e",
   "metadata": {},
   "outputs": [],
   "source": [
    "yelp_review = open('yelp_review.txt').read()"
   ]
  },
  {
   "cell_type": "code",
   "execution_count": 20,
   "id": "641e1aeb",
   "metadata": {},
   "outputs": [
    {
     "data": {
      "text/plain": [
       "\"TITLE: AN ABSOLUTE DELIGHT! A CULINARY HAVEN!\\n\\nREVIEW:\\nOH MY GOODNESS, WHERE DO I BEGIN? THIS RESTAURANT IS ABSOLUTELY PHENOMENAL! I WENT THERE LAST NIGHT WITH MY FRIENDS, AND WE WERE BLOWN AWAY BY THE EXPERIENCE!\\n\\nFIRST OF ALL, THE AMBIANCE IS OUT OF THIS WORLD! THE MOMENT YOU STEP INSIDE, YOU'RE GREETED WITH A WARM AND INVITING ATMOSPHERE. THE DECOR IS STUNNING, AND IT IMMEDIATELY SETS THE TONE FOR AN UNFORGETTABLE DINING EXPERIENCE.\\n\\nNOW, LET'S TALK ABOUT THE FOOD! WOW, JUST WOW! THE MENU IS A PARADISE FOR FOOD LOVERS. EVERY DISH WE ORDERED WAS A MASTERPIECE. THE FLAVORS WERE BOLD, VIBRANT, AND EXPLODED IN OUR MOUTHS. FROM STARTERS TO DESSERTS, EVERY BITE WAS PURE BLISS!\\n\\nTHEIR SEAFOOD PLATTER IS A MUST-TRY! THE FRESHNESS OF THE SEAFOOD IS UNMATCHED, AND THE PRESENTATION IS SIMPLY STUNNING. I HAVE NEVER TASTED SUCH DELICIOUS AND PERFECTLY COOKED SEAFOOD IN MY LIFE. IT'S A SEAFOOD LOVER'S DREAM COME TRUE!\\n\\nTHE SERVICE WAS EXEMPLARY. THE STAFF WAS ATTENTIVE, FRIENDLY, AND EXTREMELY KNOWLEDGEABLE ABOUT THE MENU. THEY WENT ABOVE AND BEYOND TO ENSURE THAT WE HAD THE BEST DINING EXPERIENCE POSSIBLE.\\n\\nAND LET'S NOT FORGET ABOUT THE DESSERTS! OH MY, OH MY! I HAD THEIR SIGNATURE CHOCOLATE LAVA CAKE, AND IT WAS PURE HEAVEN. THE CAKE WAS MOIST, AND WHEN I CUT INTO IT, THE WARM CHOCOLATE OOOZED OUT, CREATING AN EXPLOSION OF FLAVOR IN MY MOUTH. IT WAS LIKE A SYMPHONY OF CHOCOLATEY GOODNESS!\\n\\nIN CONCLUSION, THIS RESTAURANT IS A HIDDEN GEM! IF YOU WANT TO INDULGE IN A MEMORABLE DINING EXPERIENCE, DO YOURSELF A FAVOR AND VISIT THIS PLACE. YOU WON'T REGRET IT! I CAN'T WAIT TO GO BACK AND TRY MORE OF THEIR DELECTABLE DISHES. KUDOS TO THE ENTIRE TEAM FOR CREATING SUCH A CULINARY HAVEN!\\n\\nALL I CAN SAY IS... WOOHOO!\""
      ]
     },
     "execution_count": 20,
     "metadata": {},
     "output_type": "execute_result"
    }
   ],
   "source": [
    "yelp_review"
   ]
  },
  {
   "cell_type": "code",
   "execution_count": 21,
   "id": "e74b10d4",
   "metadata": {},
   "outputs": [],
   "source": [
    "transformChain = TransformChain(input_variables=['text'],\n",
    "                                output_variables=['review_text'],\n",
    "                                transform=transformFun)"
   ]
  },
  {
   "cell_type": "code",
   "execution_count": 22,
   "id": "85812b9f",
   "metadata": {},
   "outputs": [],
   "source": [
    "chat = ChatOllama(\n",
    "    model = \"llama3.2:1b\",\n",
    "    temperature = 0.5\n",
    ")"
   ]
  },
  {
   "cell_type": "code",
   "execution_count": 23,
   "id": "13299cd2",
   "metadata": {},
   "outputs": [],
   "source": [
    "template = \"Create a one sentence summary of this review:\\n{review_text}\""
   ]
  },
  {
   "cell_type": "code",
   "execution_count": 24,
   "id": "07c0408d",
   "metadata": {},
   "outputs": [],
   "source": [
    "prompt = ChatPromptTemplate.from_template(template= template)"
   ]
  },
  {
   "cell_type": "code",
   "execution_count": 25,
   "id": "4df6c321",
   "metadata": {},
   "outputs": [],
   "source": [
    "summaryChain = prompt | chat"
   ]
  },
  {
   "cell_type": "code",
   "execution_count": 26,
   "id": "a118c9bf",
   "metadata": {},
   "outputs": [],
   "source": [
    "finalChain = transformChain | summaryChain"
   ]
  },
  {
   "cell_type": "code",
   "execution_count": 28,
   "id": "585e36a5",
   "metadata": {},
   "outputs": [],
   "source": [
    "result = finalChain.invoke(yelp_review)"
   ]
  },
  {
   "cell_type": "code",
   "execution_count": 29,
   "id": "f8e1d180",
   "metadata": {},
   "outputs": [
    {
     "name": "stdout",
     "output_type": "stream",
     "text": [
      "This restaurant is an absolute delight, offering an unforgettable dining experience with stunning ambiance, bold and vibrant flavors, attentive service, and decadent desserts that will leave you in awe.\n"
     ]
    }
   ],
   "source": [
    "print(result.content)"
   ]
  },
  {
   "cell_type": "code",
   "execution_count": null,
   "id": "c57a4b04",
   "metadata": {},
   "outputs": [],
   "source": []
  }
 ],
 "metadata": {
  "kernelspec": {
   "display_name": "venv",
   "language": "python",
   "name": "python3"
  },
  "language_info": {
   "codemirror_mode": {
    "name": "ipython",
    "version": 3
   },
   "file_extension": ".py",
   "mimetype": "text/x-python",
   "name": "python",
   "nbconvert_exporter": "python",
   "pygments_lexer": "ipython3",
   "version": "3.12.5"
  }
 },
 "nbformat": 4,
 "nbformat_minor": 5
}
