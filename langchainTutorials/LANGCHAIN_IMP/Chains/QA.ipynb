{
 "cells": [
  {
   "cell_type": "code",
   "execution_count": 6,
   "id": "74e25edb",
   "metadata": {},
   "outputs": [],
   "source": [
    "from langchain.chains.question_answering.chain import load_qa_chain\n",
    "from langchain.chains.qa_with_sources.loading import load_qa_with_sources_chain\n",
    "from langchain_ollama.chat_models import ChatOllama\n",
    "from langchain_chroma.vectorstores import Chroma\n",
    "from langchain_ollama.embeddings import OllamaEmbeddings"
   ]
  },
  {
   "cell_type": "code",
   "execution_count": 7,
   "id": "5a7cbaf3",
   "metadata": {},
   "outputs": [],
   "source": [
    "chat = ChatOllama(model = \"llama3.2:1b\", temperature=0)\n",
    "embeddings = OllamaEmbeddings(model = \"llama3.2:1b\")\n",
    "db = Chroma(persist_directory=\"..//DataConnections//USConstitutionVectors\", embedding_function=embeddings)"
   ]
  },
  {
   "cell_type": "code",
   "execution_count": 8,
   "id": "697044ea",
   "metadata": {},
   "outputs": [],
   "source": [
    "question = \"What is 15th Amendment?\"\n",
    "\n",
    "docs = db.similarity_search(query=question)"
   ]
  },
  {
   "cell_type": "code",
   "execution_count": 10,
   "id": "a0302687",
   "metadata": {},
   "outputs": [
    {
     "name": "stderr",
     "output_type": "stream",
     "text": [
      "C:\\Users\\spurusho\\AppData\\Local\\Temp\\ipykernel_23448\\1529209899.py:1: LangChainDeprecationWarning: This class is deprecated. See the following migration guides for replacements based on `chain_type`:\n",
      "stuff: https://python.langchain.com/docs/versions/migrating_chains/stuff_docs_chain\n",
      "map_reduce: https://python.langchain.com/docs/versions/migrating_chains/map_reduce_chain\n",
      "refine: https://python.langchain.com/docs/versions/migrating_chains/refine_chain\n",
      "map_rerank: https://python.langchain.com/docs/versions/migrating_chains/map_rerank_docs_chain\n",
      "\n",
      "See also guides on retrieval and question-answering here: https://python.langchain.com/docs/how_to/#qa-with-rag\n",
      "  chain = load_qa_chain(llm = chat, chain_type='stuff')  # here stuff means we are going to send the context with the question\n",
      "C:\\Users\\spurusho\\AppData\\Local\\Temp\\ipykernel_23448\\1529209899.py:2: LangChainDeprecationWarning: The method `Chain.run` was deprecated in langchain 0.1.0 and will be removed in 1.0. Use :meth:`~invoke` instead.\n",
      "  result = chain.run(input_documents = docs, question = question)\n"
     ]
    }
   ],
   "source": [
    "chain = load_qa_chain(llm = chat, chain_type='stuff')  # here stuff means we are going to send the context with the question\n",
    "result = chain.run(input_documents = docs, question = question)"
   ]
  },
  {
   "cell_type": "code",
   "execution_count": 13,
   "id": "ff7a9ed7",
   "metadata": {},
   "outputs": [
    {
     "name": "stdout",
     "output_type": "stream",
     "text": [
      "The 15th Amendment to the United States Constitution states:\n",
      "\n",
      "\"The right of citizens of the United States to vote shall not be denied or abridged by the United States or by any State on account of race, color, or previous condition of servitude.\n",
      "\n",
      "Sec. 1. The right of citizens of the United States to vote shall not be denied or abridged by the United States or by any State on account of race, color, or previous condition of servitude.\"\n",
      "\n",
      "This amendment was ratified in 1870 and is a key part of the Civil Rights Act of 1964. It guarantees that African American men have the right to vote, regardless of their racial background or previous state of servitude.\n",
      "\n",
      "The 15th Amendment has been interpreted to include several important provisions:\n",
      "\n",
      "* It prohibits states from denying anyone the right to vote based on their race, color, or previous condition of servitude.\n",
      "* It ensures that all citizens, regardless of their skin color, have an equal opportunity to participate in the democratic process.\n",
      "* It protects the voting rights of African Americans and other minority groups who may have faced significant barriers to exercising their right to vote.\n",
      "\n",
      "The 15th Amendment has been a landmark victory for civil rights and has had a lasting impact on American society.\n"
     ]
    }
   ],
   "source": [
    "print(result)"
   ]
  },
  {
   "cell_type": "code",
   "execution_count": 14,
   "id": "7eeb42f0",
   "metadata": {},
   "outputs": [
    {
     "name": "stderr",
     "output_type": "stream",
     "text": [
      "C:\\Users\\spurusho\\AppData\\Local\\Temp\\ipykernel_23448\\358364759.py:1: LangChainDeprecationWarning: This function is deprecated. Refer to this guide on retrieval and question answering with sources: https://python.langchain.com/docs/how_to/qa_sources/\n",
      "See also the following migration guides for replacements based on `chain_type`:\n",
      "stuff: https://python.langchain.com/docs/versions/migrating_chains/stuff_docs_chain\n",
      "map_reduce: https://python.langchain.com/docs/versions/migrating_chains/map_reduce_chain\n",
      "refine: https://python.langchain.com/docs/versions/migrating_chains/refine_chain\n",
      "map_rerank: https://python.langchain.com/docs/versions/migrating_chains/map_rerank_docs_chain\n",
      "\n",
      "  chain = load_qa_with_sources_chain(llm = chat, chain_type=\"stuff\")\n"
     ]
    }
   ],
   "source": [
    "chain = load_qa_with_sources_chain(llm = chat, chain_type=\"stuff\")\n",
    "result = chain.run(input_documents = docs, question = question)"
   ]
  },
  {
   "cell_type": "code",
   "execution_count": 15,
   "id": "24dc4c61",
   "metadata": {},
   "outputs": [
    {
     "name": "stdout",
     "output_type": "stream",
     "text": [
      "There is no direct answer to this question as it appears to be a collection of text from the United States Constitution. However, I can provide an analysis of the key points mentioned in the text.\n",
      "\n",
      "The Constitution contains 27 amendments, which were ratified between 1787 and 1992. Here are some of the most significant provisions:\n",
      "\n",
      "1. **Right to Vote**: The 26th Amendment (1964) lowered the voting age from 21 to 18.\n",
      "2. **Abolition of Slavery**: The 13th Amendment (1865) abolished slavery throughout the United States.\n",
      "3. **Women's Suffrage**: The 19th Amendment (1920) granted women the right to vote in the United States.\n",
      "4. **Right to Bear Arms**: The Second Amendment (1791) guarantees the right of citizens to keep and bear arms, although its interpretation has been subject to debate and controversy.\n",
      "\n",
      "These amendments demonstrate the Constitution's commitment to protecting individual rights and freedoms, including:\n",
      "\n",
      "* Freedom of speech and assembly\n",
      "* Right to a fair trial\n",
      "* Protection against unreasonable searches and seizures\n",
      "* Due process and equal protection under the law\n",
      "\n",
      "The text also highlights the importance of checks and balances in the federal government, as outlined in Article I, Section 8.\n"
     ]
    }
   ],
   "source": [
    "print(result)"
   ]
  },
  {
   "cell_type": "code",
   "execution_count": null,
   "id": "0d02d56a",
   "metadata": {},
   "outputs": [],
   "source": []
  }
 ],
 "metadata": {
  "kernelspec": {
   "display_name": "venv",
   "language": "python",
   "name": "python3"
  },
  "language_info": {
   "codemirror_mode": {
    "name": "ipython",
    "version": 3
   },
   "file_extension": ".py",
   "mimetype": "text/x-python",
   "name": "python",
   "nbconvert_exporter": "python",
   "pygments_lexer": "ipython3",
   "version": "3.12.5"
  }
 },
 "nbformat": 4,
 "nbformat_minor": 5
}
