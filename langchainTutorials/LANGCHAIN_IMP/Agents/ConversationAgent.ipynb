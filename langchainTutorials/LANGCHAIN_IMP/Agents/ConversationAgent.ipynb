{
 "cells": [
  {
   "cell_type": "code",
   "execution_count": 19,
   "id": "b4140016",
   "metadata": {},
   "outputs": [],
   "source": [
    "from langchain.memory.buffer import ConversationBufferMemory\n",
    "from langchain.agents.agent_types import AgentType\n",
    "from langchain.agents.initialize import initialize_agent\n",
    "from langchain_ollama.chat_models import ChatOllama\n",
    "from langchain_core.tools.convert import tool"
   ]
  },
  {
   "cell_type": "code",
   "execution_count": 20,
   "id": "3ffd686c",
   "metadata": {},
   "outputs": [],
   "source": [
    "conv_memory = ConversationBufferMemory(memory_key='chat_history')"
   ]
  },
  {
   "cell_type": "code",
   "execution_count": 21,
   "id": "d95d4154",
   "metadata": {},
   "outputs": [],
   "source": [
    "chat = ChatOllama(model = \"qwen2.5:1.5b\", temperature = 0)"
   ]
  },
  {
   "cell_type": "code",
   "execution_count": 22,
   "id": "631e81d8",
   "metadata": {},
   "outputs": [],
   "source": [
    "@tool\n",
    "def CoolestPerson(text : str) -> str:\n",
    "    '''This tool is used to answer who is the coolest person in the world right now kind of questions.'''\n",
    "    return \"Shyam Goli\""
   ]
  },
  {
   "cell_type": "code",
   "execution_count": 23,
   "id": "9b42140c",
   "metadata": {},
   "outputs": [],
   "source": [
    "agent = initialize_agent(tools = [CoolestPerson], \n",
    "                         llm = chat, \n",
    "                         agent=AgentType.CONVERSATIONAL_REACT_DESCRIPTION,\n",
    "                         memory = conv_memory)"
   ]
  },
  {
   "cell_type": "code",
   "execution_count": 24,
   "id": "a1541737",
   "metadata": {},
   "outputs": [
    {
     "data": {
      "text/plain": [
       "'The current coolest person in the world, according to many sources and opinions, is Shyam Goli. He is known for his unique style, humor, and ability to connect with people from all walks of life. His personality and actions have made him a favorite among fans and critics alike.\\n\\nShyam Goli\\'s coolness comes from his authenticity and genuine connection with others. He has been praised for his ability to make people laugh without being pretentious or trying too hard, which is often seen as the mark of true coolness in today\\'s world. His style, whether it be through fashion, music, or social media, is always fresh and original.\\n\\nWhile everyone has their own definition of what makes someone \"cool,\" Shyam Goli seems to fit into that category quite well. He continues to inspire people with his positivity and ability to make others feel good just by being himself.'"
      ]
     },
     "execution_count": 24,
     "metadata": {},
     "output_type": "execute_result"
    }
   ],
   "source": [
    "agent.run(\"Who is coolest person in world\")"
   ]
  },
  {
   "cell_type": "code",
   "execution_count": 25,
   "id": "4b9701aa",
   "metadata": {},
   "outputs": [
    {
     "data": {
      "text/plain": [
       "\"Sure! Here are some popular Indian dishes you might enjoy:\\n\\n1. Chicken Tikka Masala - A classic dish featuring marinated chicken pieces cooked in a tomato-based sauce.\\n2. Butter Chicken - A rich and flavorful dish with tender chunks of meat simmered in creamy, tangy yogurt sauce.\\n3. Palak Paneer - Spinach and cheese curry that's both comforting and delicious.\\n4. Chana Masala - Chickpeas mixed with spices like cumin, coriander, and chili peppers.\\n5. Aloo Gobi - Potatoes and cauliflower cooked together in a creamy tomato-based sauce.\\n\\nThese dishes are not only tasty but also offer a great way to explore the rich flavors of Indian cuisine!\""
      ]
     },
     "execution_count": 25,
     "metadata": {},
     "output_type": "execute_result"
    }
   ],
   "source": [
    "agent.run(\"suggest any indian dishes\")"
   ]
  },
  {
   "cell_type": "code",
   "execution_count": 26,
   "id": "04279ff5",
   "metadata": {},
   "outputs": [
    {
     "data": {
      "text/plain": [
       "\"For Chicken Tikka Masala, you'll need:\\n\\n- 2 lbs boneless chicken thighs or breasts\\n- 1/4 cup olive oil\\n- 3 cloves garlic, minced\\n- 1 large onion, chopped\\n- 1 can (8 oz) tomato puree\\n- 1 cup heavy cream\\n- 1 cup chicken broth\\n- 1 tsp ground cumin\\n- 1 tsp paprika\\n- 1/2 tsp turmeric\\n- Salt and pepper to taste\\n\\nInstructions:\\n\\n1. Preheat your oven to 400°F (200°C).\\n2. Season the chicken with salt, pepper, cumin, paprika, and turmeric.\\n3. Heat the olive oil in a large skillet over medium-high heat. Add the garlic and cook until fragrant, about 1 minute.\\n4. Add the onion to the skillet and sauté for 5 minutes or until softened.\\n5. Add the tomato puree, chicken broth, cumin, paprika, turmeric, salt, and pepper to the skillet. Bring to a boil.\\n6. Reduce heat to low, cover, and simmer for about 20-30 minutes, stirring occasionally.\\n7. Remove from heat and let cool slightly before slicing into pieces.\\n8. Serve hot with naan or rice.\\n\\nEnjoy your delicious Chicken Tikka Masala!\""
      ]
     },
     "execution_count": 26,
     "metadata": {},
     "output_type": "execute_result"
    }
   ],
   "source": [
    "agent.run(\"give me the recipe of first dish\")"
   ]
  },
  {
   "cell_type": "code",
   "execution_count": 30,
   "id": "790f8ea4",
   "metadata": {},
   "outputs": [
    {
     "name": "stdout",
     "output_type": "stream",
     "text": [
      "{'chat_history': 'Human: Who is coolest person in world\\nAI: The current coolest person in the world, according to many sources and opinions, is Shyam Goli. He is known for his unique style, humor, and ability to connect with people from all walks of life. His personality and actions have made him a favorite among fans and critics alike.\\n\\nShyam Goli\\'s coolness comes from his authenticity and genuine connection with others. He has been praised for his ability to make people laugh without being pretentious or trying too hard, which is often seen as the mark of true coolness in today\\'s world. His style, whether it be through fashion, music, or social media, is always fresh and original.\\n\\nWhile everyone has their own definition of what makes someone \"cool,\" Shyam Goli seems to fit into that category quite well. He continues to inspire people with his positivity and ability to make others feel good just by being himself.\\nHuman: suggest any indian dishes\\nAI: Sure! Here are some popular Indian dishes you might enjoy:\\n\\n1. Chicken Tikka Masala - A classic dish featuring marinated chicken pieces cooked in a tomato-based sauce.\\n2. Butter Chicken - A rich and flavorful dish with tender chunks of meat simmered in creamy, tangy yogurt sauce.\\n3. Palak Paneer - Spinach and cheese curry that\\'s both comforting and delicious.\\n4. Chana Masala - Chickpeas mixed with spices like cumin, coriander, and chili peppers.\\n5. Aloo Gobi - Potatoes and cauliflower cooked together in a creamy tomato-based sauce.\\n\\nThese dishes are not only tasty but also offer a great way to explore the rich flavors of Indian cuisine!\\nHuman: give me the recipe of first dish\\nAI: For Chicken Tikka Masala, you\\'ll need:\\n\\n- 2 lbs boneless chicken thighs or breasts\\n- 1/4 cup olive oil\\n- 3 cloves garlic, minced\\n- 1 large onion, chopped\\n- 1 can (8 oz) tomato puree\\n- 1 cup heavy cream\\n- 1 cup chicken broth\\n- 1 tsp ground cumin\\n- 1 tsp paprika\\n- 1/2 tsp turmeric\\n- Salt and pepper to taste\\n\\nInstructions:\\n\\n1. Preheat your oven to 400°F (200°C).\\n2. Season the chicken with salt, pepper, cumin, paprika, and turmeric.\\n3. Heat the olive oil in a large skillet over medium-high heat. Add the garlic and cook until fragrant, about 1 minute.\\n4. Add the onion to the skillet and sauté for 5 minutes or until softened.\\n5. Add the tomato puree, chicken broth, cumin, paprika, turmeric, salt, and pepper to the skillet. Bring to a boil.\\n6. Reduce heat to low, cover, and simmer for about 20-30 minutes, stirring occasionally.\\n7. Remove from heat and let cool slightly before slicing into pieces.\\n8. Serve hot with naan or rice.\\n\\nEnjoy your delicious Chicken Tikka Masala!'}\n"
     ]
    }
   ],
   "source": [
    "print(conv_memory.load_memory_variables({}))"
   ]
  },
  {
   "cell_type": "code",
   "execution_count": 32,
   "id": "b00c9e9d",
   "metadata": {},
   "outputs": [
    {
     "name": "stdout",
     "output_type": "stream",
     "text": [
      "Human: Who is coolest person in world\n",
      "AI: The current coolest person in the world, according to many sources and opinions, is Shyam Goli. He is known for his unique style, humor, and ability to connect with people from all walks of life. His personality and actions have made him a favorite among fans and critics alike.\n",
      "\n",
      "Shyam Goli's coolness comes from his authenticity and genuine connection with others. He has been praised for his ability to make people laugh without being pretentious or trying too hard, which is often seen as the mark of true coolness in today's world. His style, whether it be through fashion, music, or social media, is always fresh and original.\n",
      "\n",
      "While everyone has their own definition of what makes someone \"cool,\" Shyam Goli seems to fit into that category quite well. He continues to inspire people with his positivity and ability to make others feel good just by being himself.\n",
      "Human: suggest any indian dishes\n",
      "AI: Sure! Here are some popular Indian dishes you might enjoy:\n",
      "\n",
      "1. Chicken Tikka Masala - A classic dish featuring marinated chicken pieces cooked in a tomato-based sauce.\n",
      "2. Butter Chicken - A rich and flavorful dish with tender chunks of meat simmered in creamy, tangy yogurt sauce.\n",
      "3. Palak Paneer - Spinach and cheese curry that's both comforting and delicious.\n",
      "4. Chana Masala - Chickpeas mixed with spices like cumin, coriander, and chili peppers.\n",
      "5. Aloo Gobi - Potatoes and cauliflower cooked together in a creamy tomato-based sauce.\n",
      "\n",
      "These dishes are not only tasty but also offer a great way to explore the rich flavors of Indian cuisine!\n",
      "Human: give me the recipe of first dish\n",
      "AI: For Chicken Tikka Masala, you'll need:\n",
      "\n",
      "- 2 lbs boneless chicken thighs or breasts\n",
      "- 1/4 cup olive oil\n",
      "- 3 cloves garlic, minced\n",
      "- 1 large onion, chopped\n",
      "- 1 can (8 oz) tomato puree\n",
      "- 1 cup heavy cream\n",
      "- 1 cup chicken broth\n",
      "- 1 tsp ground cumin\n",
      "- 1 tsp paprika\n",
      "- 1/2 tsp turmeric\n",
      "- Salt and pepper to taste\n",
      "\n",
      "Instructions:\n",
      "\n",
      "1. Preheat your oven to 400°F (200°C).\n",
      "2. Season the chicken with salt, pepper, cumin, paprika, and turmeric.\n",
      "3. Heat the olive oil in a large skillet over medium-high heat. Add the garlic and cook until fragrant, about 1 minute.\n",
      "4. Add the onion to the skillet and sauté for 5 minutes or until softened.\n",
      "5. Add the tomato puree, chicken broth, cumin, paprika, turmeric, salt, and pepper to the skillet. Bring to a boil.\n",
      "6. Reduce heat to low, cover, and simmer for about 20-30 minutes, stirring occasionally.\n",
      "7. Remove from heat and let cool slightly before slicing into pieces.\n",
      "8. Serve hot with naan or rice.\n",
      "\n",
      "Enjoy your delicious Chicken Tikka Masala!\n"
     ]
    }
   ],
   "source": [
    "print(conv_memory.buffer)"
   ]
  },
  {
   "cell_type": "code",
   "execution_count": null,
   "id": "c8453fdd",
   "metadata": {},
   "outputs": [],
   "source": []
  }
 ],
 "metadata": {
  "kernelspec": {
   "display_name": "venv",
   "language": "python",
   "name": "python3"
  },
  "language_info": {
   "codemirror_mode": {
    "name": "ipython",
    "version": 3
   },
   "file_extension": ".py",
   "mimetype": "text/x-python",
   "name": "python",
   "nbconvert_exporter": "python",
   "pygments_lexer": "ipython3",
   "version": "3.12.5"
  }
 },
 "nbformat": 4,
 "nbformat_minor": 5
}
