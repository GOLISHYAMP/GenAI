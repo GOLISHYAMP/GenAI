{
 "cells": [
  {
   "cell_type": "code",
   "execution_count": 1,
   "id": "6cad9f65",
   "metadata": {},
   "outputs": [],
   "source": [
    "from langchain_community.tools.wikipedia.tool import WikipediaQueryRun\n",
    "from langchain_community.utilities.wikipedia import WikipediaAPIWrapper\n",
    "from langchain.agents.initialize import initialize_agent\n",
    "from langchain.agents.agent_types import AgentType\n",
    "from langchain_core.tools.simple import Tool\n",
    "from langchain_core.tools.convert import tool"
   ]
  },
  {
   "cell_type": "code",
   "execution_count": 2,
   "id": "e1fb9aa8",
   "metadata": {},
   "outputs": [],
   "source": [
    "from langchain_ollama.chat_models import ChatOllama\n",
    "chat = ChatOllama(model = \"qwen2.5:1.5b\", temperature = 0.2)"
   ]
  },
  {
   "cell_type": "code",
   "execution_count": 5,
   "id": "c9cdd966",
   "metadata": {},
   "outputs": [],
   "source": [
    "# @tool\n",
    "def simple_calculator(query: str) -> str:\n",
    "    '''Useful for when you need to calculate math expressions\n",
    "     like 2+2 or 7**2.'''\n",
    "    try:\n",
    "        return str(eval(query))\n",
    "    except Exception as e:\n",
    "        return f\"Error: {e}\"\n",
    "\n",
    "calculator_tool = Tool(\n",
    "    name=\"Calculator\",\n",
    "    func=simple_calculator,\n",
    "    description=\"Useful for when you need to calculate math expressions like 2+2 or 7**2.\"\n",
    ")\n"
   ]
  },
  {
   "cell_type": "code",
   "execution_count": 6,
   "id": "bf072ca9",
   "metadata": {},
   "outputs": [],
   "source": [
    "# Set up Wikipedia tool\n",
    "wiki = WikipediaQueryRun(api_wrapper=WikipediaAPIWrapper())"
   ]
  },
  {
   "cell_type": "code",
   "execution_count": 7,
   "id": "a7672b5e",
   "metadata": {},
   "outputs": [
    {
     "name": "stderr",
     "output_type": "stream",
     "text": [
      "C:\\Users\\spurusho\\AppData\\Local\\Temp\\ipykernel_5780\\3809874105.py:1: LangChainDeprecationWarning: LangChain agents will continue to be supported, but it is recommended for new use cases to be built with LangGraph. LangGraph offers a more flexible and full-featured framework for building agents, including support for tool-calling, persistence of state, and human-in-the-loop workflows. For details, refer to the `LangGraph documentation <https://langchain-ai.github.io/langgraph/>`_ as well as guides for `Migrating from AgentExecutor <https://python.langchain.com/docs/how_to/migrate_agent/>`_ and LangGraph's `Pre-built ReAct agent <https://langchain-ai.github.io/langgraph/how-tos/create-react-agent/>`_.\n",
      "  agent = initialize_agent(\n"
     ]
    }
   ],
   "source": [
    "agent = initialize_agent(\n",
    "    tools=[ wiki, calculator_tool],\n",
    "    llm=chat,\n",
    "    agent=AgentType.ZERO_SHOT_REACT_DESCRIPTION,\n",
    "    verbose=True\n",
    ")"
   ]
  },
  {
   "cell_type": "code",
   "execution_count": 8,
   "id": "ec18609e",
   "metadata": {},
   "outputs": [
    {
     "name": "stderr",
     "output_type": "stream",
     "text": [
      "C:\\Users\\spurusho\\AppData\\Local\\Temp\\ipykernel_5780\\217136305.py:2: LangChainDeprecationWarning: The method `Chain.run` was deprecated in langchain 0.1.0 and will be removed in 1.0. Use :meth:`~invoke` instead.\n",
      "  response = agent.run(\"Give me the summary of Mumbai history?\")\n"
     ]
    },
    {
     "name": "stdout",
     "output_type": "stream",
     "text": [
      "\n",
      "\n",
      "\u001b[1m> Entering new AgentExecutor chain...\u001b[0m\n",
      "\u001b[32;1m\u001b[1;3mI need to find information about the history of Mumbai.\n",
      "Action: wikipedia\n",
      "Action Input: Mumbai history\u001b[0m\n",
      "Observation: \u001b[36;1m\u001b[1;3mPage: History of Mumbai\n",
      "Summary: Indigenous tribals have inhabited Mumbai (Bombay) since the Stone Age. The Kolis and Aagri (a Marathi-Konkani people) were the earliest known settlers of the islands. Between the 2nd century BCE and 10th century CE, the islands came under the control of successive indigenous dynasties: the Satavahanas, Abhiras, Vakatakas, Kalachuris, Konkan Mauryas, Chalukyas, Rashtrakutas, Silharas & Cholas.\n",
      "Bhima of Mahikavati established a small kingdom in the area during the late 13th century, and brought settlers. The Delhi Sultanate captured the islands in 1348, and they were later passed to the Sultanate of Guzerat from 1391. The Treaty of Bassein (1534) between the Portuguese viceroy Nuno da Cunha and Bahadur Shah of Gujarat, placed the islands into Portuguese possession in 1534.\n",
      "The islands suffered the Maratha Invasion of Goa and Bombay, and the Mughal invasions of Konkan (1685) towards the end of 17th century. During the English East India Company's rule in mid-18th century, it emerged as an important port city, having maritime trade contacts with Mecca, Basra etc. Economic development characterised British Bombay in the 19th century, the first-ever Indian railway line commenced operations between Bombay harbour and Taana city in 1853. Since the early 1900s, the city has also the home base of the Bollywood film industry. The city became a strong base for the Indian independence movement during the early 20th century, it was the centre of the Rowlatt Satyagraha of 1919 and Royal Indian Navy Mutiny of 1946. After India's independence in 1947, the territory of Bombay Presidency retained by India was restructured into Bombay State. The area of Bombay State increased, after several erstwhile princely states that joined the Indian union were integrated into Bombay State.\n",
      "In 1960, following protests from the Samyukta Maharashtra movement, the city was incorporated into the newly created Maharashtra state from Bombay state. The Bombay metro area faced some unfortunate events like the inter-communal riots of 1992–93, while the 1993 Mumbai bombings caused extensive loss of life and property. Bombay was renamed Mumbai on 6 March 1996.\n",
      "\n",
      "\n",
      "\n",
      "Page: List of tourist attractions in Mumbai\n",
      "Summary: Mumbai, India has centuries of history and many sites of tourist interest.\n",
      "\n",
      "Page: Mumbai\n",
      "Summary: Mumbai (Marathi: Mumbaī , pronounced [ˈmumbəi],  muum-BY), also known as Bombay ( BOMB-BAY; its official name until 1995), is the capital city of the Indian state of Maharashtra. Mumbai is the financial capital and the most populous city proper of India with an estimated population of 12.5 million (1.25 crore). Mumbai is the centre of the Mumbai Metropolitan Region, the sixth-most populous metropolitan area in the world with a population of over 23 million (2.3 crore). Mumbai lies on the Konkan coast on the west coast of India and has a deep natural harbour. In 2008, Mumbai was named an alpha world city. Mumbai has the highest number of billionaires out of any city in Asia.\n",
      "The seven islands that constitute Mumbai were earlier home to communities of Marathi language-speaking Koli people. For centuries, the seven islands of Bombay were under the control of successive indigenous rulers before being ceded to the Portuguese Empire, and subsequently to the East India Company in 1661, as part of the dowry of Catherine of Braganza in her marriage to Charles II of England. Beginning in 1782, Mumbai was reshaped by the Hornby Vellard project, which undertook reclamation of the area between the seven islands from the Arabian Sea. Along with the construction of major roads and railways, the reclamation project, completed in 1845, transformed Mumbai into a major seaport on the Arabian Sea. Mumbai in the 19th century was characterised by economic and educational development. During the early 20th century it became a strong base for the Indian independence movement. Upon India's independence in 1947 the city was incorporated into Bombay State.\u001b[0m\n",
      "Thought:\u001b[32;1m\u001b[1;3mFinal Answer: The history of Mumbai, also known as Bombay, dates back to the Stone Age when indigenous tribals inhabited the islands. It was later under control of various dynasties and rulers such as the Satavahanas, Abhiras, Vakatakas, Kalachuris, Konkan Mauryas, Chalukyas, Rashtrakutas, Silharas, and Cholas. The Delhi Sultanate captured the islands in 1348, and they were later passed to the Sultanate of Guzerat from 1391.\n",
      "\n",
      "The Portuguese Empire took control of Mumbai in 1534 through a treaty with Bahadur Shah of Gujarat. In 1661, the East India Company acquired the territory as part of its dowry for Catherine of Braganza's marriage to Charles II of England. The Hornby Vellard project began in 1782 and completed reclamation of the area between the seven islands from the Arabian Sea by 1845.\n",
      "\n",
      "Mumbai became an important port city during the English East India Company's rule in the mid-19th century, with maritime trade contacts to Mecca, Basra, etc. It was also a center for the Indian independence movement and home base of Bollywood film industry. The area increased after several princely states joined the Indian union in 1960, when Mumbai became part of Maharashtra state from Bombay state.\n",
      "\n",
      "In 2008, Mumbai was named an alpha world city. The seven islands that constitute Mumbai were earlier home to communities of Marathi language-speaking Koli people. The area was reshaped by the Hornby Vellard project in the early 19th century and transformed into a major seaport on the Arabian Sea.\n",
      "\n",
      "Mumbai has been renamed from Bombay to Mumbai since March 6, 1996.\u001b[0m\n",
      "\n",
      "\u001b[1m> Finished chain.\u001b[0m\n",
      "The history of Mumbai, also known as Bombay, dates back to the Stone Age when indigenous tribals inhabited the islands. It was later under control of various dynasties and rulers such as the Satavahanas, Abhiras, Vakatakas, Kalachuris, Konkan Mauryas, Chalukyas, Rashtrakutas, Silharas, and Cholas. The Delhi Sultanate captured the islands in 1348, and they were later passed to the Sultanate of Guzerat from 1391.\n",
      "\n",
      "The Portuguese Empire took control of Mumbai in 1534 through a treaty with Bahadur Shah of Gujarat. In 1661, the East India Company acquired the territory as part of its dowry for Catherine of Braganza's marriage to Charles II of England. The Hornby Vellard project began in 1782 and completed reclamation of the area between the seven islands from the Arabian Sea by 1845.\n",
      "\n",
      "Mumbai became an important port city during the English East India Company's rule in the mid-19th century, with maritime trade contacts to Mecca, Basra, etc. It was also a center for the Indian independence movement and home base of Bollywood film industry. The area increased after several princely states joined the Indian union in 1960, when Mumbai became part of Maharashtra state from Bombay state.\n",
      "\n",
      "In 2008, Mumbai was named an alpha world city. The seven islands that constitute Mumbai were earlier home to communities of Marathi language-speaking Koli people. The area was reshaped by the Hornby Vellard project in the early 19th century and transformed into a major seaport on the Arabian Sea.\n",
      "\n",
      "Mumbai has been renamed from Bombay to Mumbai since March 6, 1996.\n"
     ]
    }
   ],
   "source": [
    "# Query the agent\n",
    "response = agent.run(\"Give me the summary of Mumbai history?\")\n",
    "# response = agent.run(\"What is 7 raised to the power of 11?\")\n",
    "print(response)"
   ]
  },
  {
   "cell_type": "code",
   "execution_count": 24,
   "id": "5e570227",
   "metadata": {},
   "outputs": [
    {
     "data": {
      "text/plain": [
       "1977326743"
      ]
     },
     "execution_count": 24,
     "metadata": {},
     "output_type": "execute_result"
    }
   ],
   "source": [
    "7**11"
   ]
  },
  {
   "cell_type": "code",
   "execution_count": 51,
   "id": "b951a849",
   "metadata": {},
   "outputs": [
    {
     "data": {
      "text/plain": [
       "1977326743"
      ]
     },
     "execution_count": 51,
     "metadata": {},
     "output_type": "execute_result"
    }
   ],
   "source": [
    "7**11"
   ]
  },
  {
   "cell_type": "code",
   "execution_count": null,
   "id": "52c4680b",
   "metadata": {},
   "outputs": [],
   "source": []
  }
 ],
 "metadata": {
  "kernelspec": {
   "display_name": "venv",
   "language": "python",
   "name": "python3"
  },
  "language_info": {
   "codemirror_mode": {
    "name": "ipython",
    "version": 3
   },
   "file_extension": ".py",
   "mimetype": "text/x-python",
   "name": "python",
   "nbconvert_exporter": "python",
   "pygments_lexer": "ipython3",
   "version": "3.12.5"
  }
 },
 "nbformat": 4,
 "nbformat_minor": 5
}
