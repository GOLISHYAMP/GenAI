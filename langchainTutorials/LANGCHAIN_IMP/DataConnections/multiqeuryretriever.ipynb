{
 "cells": [
  {
   "cell_type": "code",
   "execution_count": 1,
   "metadata": {},
   "outputs": [
    {
     "name": "stderr",
     "output_type": "stream",
     "text": [
      "c:\\Users\\spurusho\\Downloads\\GenAI\\Personal\\langchainTutorials\\venv\\Lib\\site-packages\\wikipedia\\wikipedia.py:389: GuessedAtParserWarning: No parser was explicitly specified, so I'm using the best available HTML parser for this system (\"lxml\"). This usually isn't a problem, but if you run this code on another system, or in a different virtual environment, it may use a different parser and behave differently.\n",
      "\n",
      "The code that caused this warning is on line 389 of the file c:\\Users\\spurusho\\Downloads\\GenAI\\Personal\\langchainTutorials\\venv\\Lib\\site-packages\\wikipedia\\wikipedia.py. To get rid of this warning, pass the additional argument 'features=\"lxml\"' to the BeautifulSoup constructor.\n",
      "\n",
      "  lis = BeautifulSoup(html).find_all('li')\n"
     ]
    }
   ],
   "source": [
    "from langchain_community.document_loaders.wikipedia import WikipediaLoader\n",
    "loader = WikipediaLoader(query=\"MKUltra\")\n",
    "documents = loader.load()"
   ]
  },
  {
   "cell_type": "code",
   "execution_count": 2,
   "metadata": {},
   "outputs": [
    {
     "data": {
      "text/plain": [
       "24"
      ]
     },
     "execution_count": 2,
     "metadata": {},
     "output_type": "execute_result"
    }
   ],
   "source": [
    "len(documents)"
   ]
  },
  {
   "cell_type": "code",
   "execution_count": 3,
   "metadata": {},
   "outputs": [
    {
     "data": {
      "text/plain": [
       "4000"
      ]
     },
     "execution_count": 3,
     "metadata": {},
     "output_type": "execute_result"
    }
   ],
   "source": [
    "len(documents[0].page_content)"
   ]
  },
  {
   "cell_type": "code",
   "execution_count": 4,
   "metadata": {},
   "outputs": [
    {
     "name": "stderr",
     "output_type": "stream",
     "text": [
      "Created a chunk of size 542, which is longer than the specified 500\n",
      "Created a chunk of size 525, which is longer than the specified 500\n"
     ]
    }
   ],
   "source": [
    "from langchain_text_splitters.character import CharacterTextSplitter\n",
    "splitter = CharacterTextSplitter.from_tiktoken_encoder(chunk_size=500)\n",
    "docs = splitter.split_documents(documents)"
   ]
  },
  {
   "cell_type": "code",
   "execution_count": 5,
   "metadata": {},
   "outputs": [
    {
     "data": {
      "text/plain": [
       "53"
      ]
     },
     "execution_count": 5,
     "metadata": {},
     "output_type": "execute_result"
    }
   ],
   "source": [
    "len(docs)"
   ]
  },
  {
   "cell_type": "code",
   "execution_count": 6,
   "metadata": {},
   "outputs": [],
   "source": [
    "from langchain_ollama.embeddings import OllamaEmbeddings\n",
    "embedding = OllamaEmbeddings(model = \"llama3.2:1b\")"
   ]
  },
  {
   "cell_type": "code",
   "execution_count": 9,
   "metadata": {},
   "outputs": [],
   "source": [
    "from langchain_chroma.vectorstores import Chroma\n",
    "db = Chroma.from_documents(docs, embedding=embedding, persist_directory='./vectorsMKUltra')"
   ]
  },
  {
   "cell_type": "code",
   "execution_count": 11,
   "metadata": {},
   "outputs": [
    {
     "data": {
      "text/plain": [
       "'./vectorsMKUltra'"
      ]
     },
     "execution_count": 11,
     "metadata": {},
     "output_type": "execute_result"
    }
   ],
   "source": [
    "db._persist_directory"
   ]
  },
  {
   "cell_type": "code",
   "execution_count": 16,
   "metadata": {},
   "outputs": [],
   "source": [
    "from langchain.retrievers.multi_query import MultiQueryRetriever\n",
    "from langchain_ollama.chat_models import ChatOllama\n",
    "chat = ChatOllama(model = \"llama3.2:1b\", temperature=0.2)\n",
    "question = \"When was this declassified?\"\n",
    "retriever_from_llm = MultiQueryRetriever.from_llm(retriever=db.as_retriever(), llm = chat)"
   ]
  },
  {
   "cell_type": "code",
   "execution_count": 17,
   "metadata": {},
   "outputs": [],
   "source": [
    "import logging\n",
    "logger = logging.basicConfig(filename = \"logs.txt\", level = logging.INFO, format = \"%(asctime)s %(level)s %(message)s\")"
   ]
  },
  {
   "cell_type": "code",
   "execution_count": 22,
   "metadata": {},
   "outputs": [],
   "source": [
    "unique_docs = retriever_from_llm.get_relevant_documents(question)"
   ]
  },
  {
   "cell_type": "code",
   "execution_count": 23,
   "metadata": {},
   "outputs": [
    {
     "data": {
      "text/plain": [
       "19"
      ]
     },
     "execution_count": 23,
     "metadata": {},
     "output_type": "execute_result"
    }
   ],
   "source": [
    "len(unique_docs)"
   ]
  },
  {
   "cell_type": "code",
   "execution_count": 25,
   "metadata": {},
   "outputs": [
    {
     "data": {
      "text/plain": [
       "Document(id='30983626-e472-4509-9bae-e638a4fec500', metadata={'source': 'https://en.wikipedia.org/wiki/Project_Artichoke', 'summary': \"Project Artichoke (also referred to as Operation Artichoke) was a project developed and enacted by the United States Central Intelligence Agency (CIA) for the purpose of researching methods of interrogation. Project Artichoke was succeeded by Project MKUltra, which began in 1953.\\nInitially known as Project Bluebird, Project Artichoke officially arose on August 20, 1951, and was operated by the CIA's Office of Scientific Intelligence. The primary goal of Project Artichoke was to determine whether a person could be involuntarily made to perform an act of attempted assassination. The project also studied the effects of mind control and hypnosis, forced addiction to (and subsequent withdrawal from) morphine, and other chemicals, including LSD, to produce amnesia and other vulnerable states in victims.\\n\\n\", 'title': 'Project Artichoke'}, page_content=\"Project Artichoke (also referred to as Operation Artichoke) was a project developed and enacted by the United States Central Intelligence Agency (CIA) for the purpose of researching methods of interrogation. Project Artichoke was succeeded by Project MKUltra, which began in 1953.\\nInitially known as Project Bluebird, Project Artichoke officially arose on August 20, 1951, and was operated by the CIA's Office of Scientific Intelligence. The primary goal of Project Artichoke was to determine whether a person could be involuntarily made to perform an act of attempted assassination. The project also studied the effects of mind control and hypnosis, forced addiction to (and subsequent withdrawal from) morphine, and other chemicals, including LSD, to produce amnesia and other vulnerable states in victims.\")"
      ]
     },
     "execution_count": 25,
     "metadata": {},
     "output_type": "execute_result"
    }
   ],
   "source": [
    "unique_docs[0]"
   ]
  },
  {
   "cell_type": "code",
   "execution_count": 26,
   "metadata": {},
   "outputs": [
    {
     "data": {
      "text/plain": [
       "[Document(id='e6034fc2-2d03-4305-a138-a8c122106aab', metadata={'source': 'https://en.wikipedia.org/wiki/United_States_President%27s_Commission_on_CIA_Activities_within_the_United_States', 'summary': 'The United States President\\'s Commission on CIA Activities within the United States was ordained by President Gerald Ford in 1975 to investigate the activities of the Central Intelligence Agency and other intelligence agencies within the United States. The Presidential Commission was led by Vice President Nelson Rockefeller, from whom it gained the nickname the Rockefeller Commission.\\nThe commission was created in response to a December 1974 report in The New York Times that the CIA had conducted illegal domestic activities, including experiments on US citizens, during the 1960s. The commission issued a single report in 1975, touching upon certain CIA abuses including mail opening and surveillance of domestic dissident groups. It also publicized Project MKUltra, a CIA mind control research program.\\nSeveral weeks later, committees were established in the House and Senate for a similar purpose. White House Personnel, including future Vice President Dick Cheney, edited the results, excluding many of the commission\\'s findings from the final report. Some of these findings were included in later reports by the Congressional Committees.\\nBefore it was even released, the report faced scrutiny from the media, and was deemed a \"whitewash\". The investigation was intended to be independent of Presidential interference, but the findings and recommendations included in the final report were highly altered from what was chosen by the commission itself. It was ultimately superseded in notability by the more substantial Church Committee in what became known as the \"Year of Intelligence\".', 'title': \"United States President's Commission on CIA Activities within the United States\"}, page_content='The United States President\\'s Commission on CIA Activities within the United States was ordained by President Gerald Ford in 1975 to investigate the activities of the Central Intelligence Agency and other intelligence agencies within the United States. The Presidential Commission was led by Vice President Nelson Rockefeller, from whom it gained the nickname the Rockefeller Commission.\\nThe commission was created in response to a December 1974 report in The New York Times that the CIA had conducted illegal domestic activities, including experiments on US citizens, during the 1960s. The commission issued a single report in 1975, touching upon certain CIA abuses including mail opening and surveillance of domestic dissident groups. It also publicized Project MKUltra, a CIA mind control research program.\\nSeveral weeks later, committees were established in the House and Senate for a similar purpose. White House Personnel, including future Vice President Dick Cheney, edited the results, excluding many of the commission\\'s findings from the final report. Some of these findings were included in later reports by the Congressional Committees.\\nBefore it was even released, the report faced scrutiny from the media, and was deemed a \"whitewash\". The investigation was intended to be independent of Presidential interference, but the findings and recommendations included in the final report were highly altered from what was chosen by the commission itself. It was ultimately superseded in notability by the more substantial Church Committee in what became known as the \"Year of Intelligence\".'),\n",
       " Document(id='441634a1-b87e-4540-bf4e-0a165c78dab9', metadata={'source': 'https://en.wikipedia.org/wiki/MKNAOMI', 'summary': \"MKNAOMI is the code name for a joint Department of Defense/CIA research program from the 1950s through to the 1970s. Unclassified information about the MKNAOMI program and the related Special Operations Division is scarce. It is generally reported to be a successor to the MKULTRA project focusing on biological projects including biological warfare agents—specifically, to store materials that could either incapacitate or kill a test subject and to develop devices for the diffusion of such materials.\\nDuring its first twenty years, the CIA engaged in projects designed to increase U.S. biological and chemical warfare capabilities. Project MKNAOMI was initiated to provide the CIA with a covert support base to meet its top-secret operational requirements. The goal was to have a robust arsenal of lethal and incapacitating materials within the CIA's Technical Services Division (TSD). This would enable the TSD to serve as a center for supplying biological and chemical materials.\\nSurveillance, testing, upgrading and the evaluation of special materials and items were provided by MKNAOMI to ensure that no defects or unwanted contingencies emerged during operational conditions. The U.S. Army's Special Operations Command (SOC) was assigned to assist the CIA with development, testing and maintenance procedures for the biological agents and delivery systems (1952). Both the CIA and SOC modified guns to fire special darts coated with biological agents and poisonous pills. The darts could incapacitate guard dogs, allowing agents to infiltrate the area that the dogs were guarding, and would then be used to awaken the dogs upon exiting the facility. In addition, the SOC was designated to research the potential to use biological agents against other animals and crops.\\nA 1967 CIA memo which was uncovered by the Church Committee contained evidence of at least three covert techniques for attacking and poisoning crops that had been tested under field conditions. On November 25, 1969, President Richard Nixon banned any military use of biological weapons and Project MKNAOMI was dissolved. On February 14, 1970, a presidential order outlawed all stockpiles of bacteriological weapons and nonliving toxins. However, despite the presidential order, a CIA scientist was able to acquire an estimated 11 grams of deadly shellfish toxin from SOC personnel at Fort Detrick. The toxin was stored in a CIA laboratory where it remained undetected for over five years.\\n\\n\", 'title': 'MKNAOMI'}, page_content=\"MKNAOMI is the code name for a joint Department of Defense/CIA research program from the 1950s through to the 1970s. Unclassified information about the MKNAOMI program and the related Special Operations Division is scarce. It is generally reported to be a successor to the MKULTRA project focusing on biological projects including biological warfare agents—specifically, to store materials that could either incapacitate or kill a test subject and to develop devices for the diffusion of such materials.\\nDuring its first twenty years, the CIA engaged in projects designed to increase U.S. biological and chemical warfare capabilities. Project MKNAOMI was initiated to provide the CIA with a covert support base to meet its top-secret operational requirements. The goal was to have a robust arsenal of lethal and incapacitating materials within the CIA's Technical Services Division (TSD). This would enable the TSD to serve as a center for supplying biological and chemical materials.\\nSurveillance, testing, upgrading and the evaluation of special materials and items were provided by MKNAOMI to ensure that no defects or unwanted contingencies emerged during operational conditions. The U.S. Army's Special Operations Command (SOC) was assigned to assist the CIA with development, testing and maintenance procedures for the biological agents and delivery systems (1952). Both the CIA and SOC modified guns to fire special darts coated with biological agents and poisonous pills. The darts could incapacitate guard dogs, allowing agents to infiltrate the area that the dogs were guarding, and would then be used to awaken the dogs upon exiting the facility. In addition, the SOC was designated to research the potential to use biological agents against other animals and crops.\\nA 1967 CIA memo which was uncovered by the Church Committee contained evidence of at least three covert techniques for attacking and poisoning crops that had been tested under field conditions. On November 25, 1969, President Richard Nixon banned any military use of biological weapons and Project MKNAOMI was dissolved. On February 14, 1970, a presidential order outlawed all stockpiles of bacteriological weapons and nonliving toxins. However, despite the presidential order, a CIA scientist was able to acquire an estimated 11 grams of deadly shellfish toxin from SOC personnel at Fort Detrick. The toxin was stored in a CIA laboratory where it remained undetected for over five years.\"),\n",
       " Document(id='af0e3d78-14f4-4d9c-82ad-fc9422c9e657', metadata={'source': 'https://en.wikipedia.org/wiki/MKNAOMI', 'summary': \"MKNAOMI is the code name for a joint Department of Defense/CIA research program from the 1950s through to the 1970s. Unclassified information about the MKNAOMI program and the related Special Operations Division is scarce. It is generally reported to be a successor to the MKULTRA project focusing on biological projects including biological warfare agents—specifically, to store materials that could either incapacitate or kill a test subject and to develop devices for the diffusion of such materials.\\nDuring its first twenty years, the CIA engaged in projects designed to increase U.S. biological and chemical warfare capabilities. Project MKNAOMI was initiated to provide the CIA with a covert support base to meet its top-secret operational requirements. The goal was to have a robust arsenal of lethal and incapacitating materials within the CIA's Technical Services Division (TSD). This would enable the TSD to serve as a center for supplying biological and chemical materials.\\nSurveillance, testing, upgrading and the evaluation of special materials and items were provided by MKNAOMI to ensure that no defects or unwanted contingencies emerged during operational conditions. The U.S. Army's Special Operations Command (SOC) was assigned to assist the CIA with development, testing and maintenance procedures for the biological agents and delivery systems (1952). Both the CIA and SOC modified guns to fire special darts coated with biological agents and poisonous pills. The darts could incapacitate guard dogs, allowing agents to infiltrate the area that the dogs were guarding, and would then be used to awaken the dogs upon exiting the facility. In addition, the SOC was designated to research the potential to use biological agents against other animals and crops.\\nA 1967 CIA memo which was uncovered by the Church Committee contained evidence of at least three covert techniques for attacking and poisoning crops that had been tested under field conditions. On November 25, 1969, President Richard Nixon banned any military use of biological weapons and Project MKNAOMI was dissolved. On February 14, 1970, a presidential order outlawed all stockpiles of bacteriological weapons and nonliving toxins. However, despite the presidential order, a CIA scientist was able to acquire an estimated 11 grams of deadly shellfish toxin from SOC personnel at Fort Detrick. The toxin was stored in a CIA laboratory where it remained undetected for over five years.\\n\\n\", 'title': 'MKNAOMI'}, page_content=\"== See also ==\\nHuman experimentation in the United States\\nProject MKULTRA\\nProject ARTICHOKE\\nProject CHATTER\\nCIA cryptonym\\nKurt Blome\\nErich Traub\\n\\n\\n== References ==\\n\\nBibliography\\nGoliszek, Andrew, In the name of science : a history of secret programs, medical research, and human experimentation St. Martin's Press, 2003\\nSummary Report of CIA Investigation of MKNAOMI (US National Archives, released under the JFK Assassination Records Act, December 2017)\"),\n",
       " Document(id='5c4f51ff-670e-4b95-8169-2ca9b7959528', metadata={'source': 'https://en.wikipedia.org/wiki/Donald_Ewen_Cameron', 'summary': 'Donald Ewen Cameron ((1901-12-24)24 December 1901 – (1967-09-08)8 September 1967) was a Scottish-born psychiatrist. He is largely known today for his central role in unethical medical experiments, and development of psychological and medical torture techniques for the Central Intelligence Agency. He served as president of the American Psychiatric Association (1952–1953), Canadian Psychiatric Association (1958–1959), American Psychopathological Association (1963), Society of Biological Psychiatry (1965) and the World Psychiatric Association (1961–1966).\\nIn spite of his high professional reputation, he has been criticized for, among other things, his experimentation on adults and children, administering electroconvulsive therapy and experimental drugs, including poisons such as curare and hallucinogens such as lysergic acid diethylamide, to patients and prisoners without their knowledge or informed consent. Some of this work took place in the context of the Project MKUltra program for the developing of mind control and torture techniques, psychoactive poisons, and behavior modification systems. Decades after his own death, the psychic driving technique he developed continued to see extensive use in the torture of prisoners around the world.\\n\\n', 'title': 'Donald Ewen Cameron'}, page_content='Donald Ewen Cameron ((1901-12-24)24 December 1901 – (1967-09-08)8 September 1967) was a Scottish-born psychiatrist. He is largely known today for his central role in unethical medical experiments, and development of psychological and medical torture techniques for the Central Intelligence Agency. He served as president of the American Psychiatric Association (1952–1953), Canadian Psychiatric Association (1958–1959), American Psychopathological Association (1963), Society of Biological Psychiatry (1965) and the World Psychiatric Association (1961–1966).\\nIn spite of his high professional reputation, he has been criticized for, among other things, his experimentation on adults and children, administering electroconvulsive therapy and experimental drugs, including poisons such as curare and hallucinogens such as lysergic acid diethylamide, to patients and prisoners without their knowledge or informed consent. Some of this work took place in the context of the Project MKUltra program for the developing of mind control and torture techniques, psychoactive poisons, and behavior modification systems. Decades after his own death, the psychic driving technique he developed continued to see extensive use in the torture of prisoners around the world.')]"
      ]
     },
     "execution_count": 26,
     "metadata": {},
     "output_type": "execute_result"
    }
   ],
   "source": [
    "db.as_retriever().get_relevant_documents(query = \"When was this declassified?\")"
   ]
  },
  {
   "cell_type": "markdown",
   "metadata": {},
   "source": [
    "### From the above it is clear that retriever is giving 4 and multiqueryretriever gives the more docs because of more questions"
   ]
  },
  {
   "cell_type": "markdown",
   "metadata": {},
   "source": [
    "User Query: \"How does a transformer model work?\"\n",
    "\n",
    "🔹 Normal Retriever might just look for “transformer model” and miss related documents.\n",
    "\n",
    "🔹 MultiQueryRetriever will also look for:\n",
    "\n",
    "“Explain transformer architecture”\n",
    "\n",
    "“Components of a transformer in NLP”\n",
    "\n",
    "“Working of self-attention in transformers”\n",
    "\n",
    "Result: More diverse and rich results."
   ]
  },
  {
   "cell_type": "markdown",
   "metadata": {},
   "source": [
    "✨ Rule of Thumb:<br>\n",
    "Start with a normal retriever.<br>\n",
    "If you're not getting good enough results (especially in RAG pipelines), switch to or add a MultiQueryRetriever.\n",
    "\n"
   ]
  },
  {
   "cell_type": "code",
   "execution_count": null,
   "metadata": {},
   "outputs": [],
   "source": []
  }
 ],
 "metadata": {
  "kernelspec": {
   "display_name": "venv",
   "language": "python",
   "name": "python3"
  },
  "language_info": {
   "codemirror_mode": {
    "name": "ipython",
    "version": 3
   },
   "file_extension": ".py",
   "mimetype": "text/x-python",
   "name": "python",
   "nbconvert_exporter": "python",
   "pygments_lexer": "ipython3",
   "version": "3.12.5"
  }
 },
 "nbformat": 4,
 "nbformat_minor": 2
}
