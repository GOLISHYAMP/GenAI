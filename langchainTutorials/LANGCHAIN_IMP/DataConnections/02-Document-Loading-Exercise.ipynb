{
 "cells": [
  {
   "cell_type": "markdown",
   "id": "bcded1a6-2430-4707-a78c-c82f4c5ee6fc",
   "metadata": {},
   "source": [
    "<a href = \"https://www.pieriantraining.com\"><img src=\"../PT Centered Purple.png\"> </a>\n",
    "\n",
    "<em style=\"text-align:center\">Copyrighted by Pierian Training</em>"
   ]
  },
  {
   "cell_type": "markdown",
   "id": "728f1747-b8fc-4d31-96c2-047fc83c079d",
   "metadata": {},
   "source": [
    "#  Document Loading Exercise \n",
    "\n",
    "## Answering a Single Question\n",
    "\n",
    "Using the Wikipedia Document Loader Integration,can you make a function that accepts a famous historical figure name and a question about them, and then uses a ChatModel to answer questions with the additional context? Notice how in our example, the query doesn't mention the famous person. Keep in mind there are many potential ways to solve this problem!"
   ]
  },
  {
   "cell_type": "code",
   "execution_count": 1,
   "id": "244f42d8-2349-446e-a1c2-ae4b8d3ee38f",
   "metadata": {},
   "outputs": [],
   "source": [
    "# !pip install wikipedia"
   ]
  },
  {
   "cell_type": "code",
   "execution_count": 3,
   "id": "c81f2abf",
   "metadata": {},
   "outputs": [],
   "source": [
    "from langchain_core.prompts.chat import HumanMessagePromptTemplate\n",
    "from langchain_core.prompts.chat import SystemMessagePromptTemplate\n",
    "from langchain_core.prompts.chat import AIMessagePromptTemplate\n",
    "from langchain_core.prompts.chat import ChatPromptTemplate\n",
    "from langchain_ollama.chat_models import ChatOllama\n",
    "from langchain_community.document_loaders.wikipedia import WikipediaLoader"
   ]
  },
  {
   "cell_type": "code",
   "execution_count": 4,
   "id": "2a539244-89c6-4019-8608-1cdf51ba1983",
   "metadata": {},
   "outputs": [],
   "source": [
    "def answer_question_about(person_name,question):\n",
    "    \n",
    "    '''\n",
    "    Use the Wikipedia Document Loader to help answer questions about someone, insert it as additional helpful context.\n",
    "    '''\n",
    "    humanMessage = HumanMessagePromptTemplate.from_template(template=\"With reference to this data\\n {data} \\n Answer to this question {question}\" )\n",
    "    loader = WikipediaLoader(query=person_name)\n",
    "    data = loader.load()\n",
    "    template = ChatPromptTemplate.from_messages([humanMessage])\n",
    "    chat = ChatOllama(\n",
    "        model = \"llama3.2:1b\",\n",
    "        temperature = 0.8,\n",
    "        num_predict = 200,\n",
    "    )\n",
    "    answer = chat.invoke(template.format(data = data[0].page_content, question = question))\n",
    "    return answer"
   ]
  },
  {
   "cell_type": "code",
   "execution_count": 5,
   "id": "e3a43963-57d4-44c5-8d28-b6164b2c0b83",
   "metadata": {},
   "outputs": [
    {
     "data": {
      "text/plain": [
       "AIMessage(content='April 30, 1916', additional_kwargs={}, response_metadata={'model': 'llama3.2:1b', 'created_at': '2025-04-03T17:22:50.4107371Z', 'done': True, 'done_reason': 'stop', 'total_duration': 20661750800, 'load_duration': 3700073600, 'prompt_eval_count': 823, 'prompt_eval_duration': 16415336300, 'eval_count': 8, 'eval_duration': 540932300, 'message': Message(role='assistant', content='', images=None, tool_calls=None)}, id='run-bc9a3572-a5e4-464f-a4bf-dac5480b44ea-0', usage_metadata={'input_tokens': 823, 'output_tokens': 8, 'total_tokens': 831})"
      ]
     },
     "execution_count": 5,
     "metadata": {},
     "output_type": "execute_result"
    }
   ],
   "source": [
    "answer_question_about(\"Claude Shannon\",\"When was he born?\")\n",
    "# Claude Elwood Shannon was born on April 30, 1916."
   ]
  },
  {
   "cell_type": "code",
   "execution_count": null,
   "id": "b9074e58-b4af-4a21-a503-a0c58621a7a3",
   "metadata": {},
   "outputs": [],
   "source": [
    "\n"
   ]
  }
 ],
 "metadata": {
  "kernelspec": {
   "display_name": "venv",
   "language": "python",
   "name": "python3"
  },
  "language_info": {
   "codemirror_mode": {
    "name": "ipython",
    "version": 3
   },
   "file_extension": ".py",
   "mimetype": "text/x-python",
   "name": "python",
   "nbconvert_exporter": "python",
   "pygments_lexer": "ipython3",
   "version": "3.12.5"
  }
 },
 "nbformat": 4,
 "nbformat_minor": 5
}
