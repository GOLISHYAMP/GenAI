{
 "cells": [
  {
   "cell_type": "markdown",
   "metadata": {},
   "source": [
    "🧠 What is Context Compression?<br>\n",
    "In Retrieval-Augmented Generation (RAG), context compression means reducing the size of retrieved documents before passing them to the LLM, while keeping only the most relevant parts.<br>\n",
    "<br>\n",
    "✅ Why use it?<br>\n",
    "LLMs have context limits (e.g., 4k, 8k, 32k tokens). If you retrieve a lot of documents, you might hit this limit.<br>\n",
    "<br>\n",
    "So, context compression:<br>\n",
    "🗜️ Shrinks the retrieved docs<br>\n",
    "🎯 Keeps only the important sections<br>\n",
    "🚀 Improves efficiency and relevance<br>\n",
    "💰 Saves tokens = money if you're using paid APIs<br>\n",
    "<br>\n",
    "🔧 How it works:<br>\n",
    "Usually involves a second LLM pass to:<br>\n",
    "Summarize the documents<br>\n",
    "Or extract only relevant chunks for the query<br>\n",
    "Or score and drop unimportant text<br>\n",
    "<br>\n",
    "🧪 Example:<br>\n",
    "User query: \"Explain the attention mechanism in transformers\"<br>\n",
    "🔹 Normal retriever fetches 10 full pages of transformer papers.<br>\n",
    "🔹 With context compression, only the few paragraphs about attention are kept and passed to the LLM."
   ]
  },
  {
   "cell_type": "code",
   "execution_count": 3,
   "metadata": {},
   "outputs": [],
   "source": [
    "from langchain_chroma.vectorstores import Chroma\n",
    "from langchain_ollama.embeddings import OllamaEmbeddings\n",
    "from langchain_ollama.chat_models import ChatOllama\n",
    "from langchain.retrievers.contextual_compression import ContextualCompressionRetriever\n",
    "from langchain.retrievers.document_compressors.chain_extract import LLMChainExtractor"
   ]
  },
  {
   "cell_type": "code",
   "execution_count": 2,
   "metadata": {},
   "outputs": [],
   "source": [
    "embeddings = OllamaEmbeddings(model = \"llama3.2:1b\")\n",
    "db = Chroma(persist_directory=\"./vectorsMKUltra\", embedding_function=embeddings)\n",
    "chat = ChatOllama(model = \"llama3.2:1b\", temperature=0.2)"
   ]
  },
  {
   "cell_type": "code",
   "execution_count": 5,
   "metadata": {},
   "outputs": [],
   "source": [
    "compressor = LLMChainExtractor.from_llm(chat)\n",
    "compression_retriever = ContextualCompressionRetriever(base_compressor=compressor, base_retriever=db.as_retriever())"
   ]
  },
  {
   "cell_type": "code",
   "execution_count": 6,
   "metadata": {},
   "outputs": [],
   "source": [
    "docs= db.similarity_search(\"What was this declassified?\")"
   ]
  },
  {
   "cell_type": "code",
   "execution_count": 9,
   "metadata": {},
   "outputs": [
    {
     "data": {
      "text/plain": [
       "4"
      ]
     },
     "execution_count": 9,
     "metadata": {},
     "output_type": "execute_result"
    }
   ],
   "source": [
    "len(docs)"
   ]
  },
  {
   "cell_type": "code",
   "execution_count": 13,
   "metadata": {},
   "outputs": [
    {
     "name": "stdout",
     "output_type": "stream",
     "text": [
      "MKNAOMI is the code name for a joint Department of Defense/CIA research program from the 1950s through to the 1970s. Unclassified information about the MKNAOMI program and the related Special Operations Division is scarce. It is generally reported to be a successor to the MKULTRA project focusing on biological projects including biological warfare agents—specifically, to store materials that could either incapacitate or kill a test subject and to develop devices for the diffusion of such materials.\n",
      "During its first twenty years, the CIA engaged in projects designed to increase U.S. biological and chemical warfare capabilities. Project MKNAOMI was initiated to provide the CIA with a covert support base to meet its top-secret operational requirements. The goal was to have a robust arsenal of lethal and incapacitating materials within the CIA's Technical Services Division (TSD). This would enable the TSD to serve as a center for supplying biological and chemical materials.\n",
      "Surveillance, testing, upgrading and the evaluation of special materials and items were provided by MKNAOMI to ensure that no defects or unwanted contingencies emerged during operational conditions. The U.S. Army's Special Operations Command (SOC) was assigned to assist the CIA with development, testing and maintenance procedures for the biological agents and delivery systems (1952). Both the CIA and SOC modified guns to fire special darts coated with biological agents and poisonous pills. The darts could incapacitate guard dogs, allowing agents to infiltrate the area that the dogs were guarding, and would then be used to awaken the dogs upon exiting the facility. In addition, the SOC was designated to research the potential to use biological agents against other animals and crops.\n",
      "A 1967 CIA memo which was uncovered by the Church Committee contained evidence of at least three covert techniques for attacking and poisoning crops that had been tested under field conditions. On November 25, 1969, President Richard Nixon banned any military use of biological weapons and Project MKNAOMI was dissolved. On February 14, 1970, a presidential order outlawed all stockpiles of bacteriological weapons and nonliving toxins. However, despite the presidential order, a CIA scientist was able to acquire an estimated 11 grams of deadly shellfish toxin from SOC personnel at Fort Detrick. The toxin was stored in a CIA laboratory where it remained undetected for over five years.\n",
      "\n",
      "\n"
     ]
    }
   ],
   "source": [
    "print(docs[0].metadata[\"summary\"])"
   ]
  },
  {
   "cell_type": "code",
   "execution_count": 14,
   "metadata": {},
   "outputs": [
    {
     "name": "stderr",
     "output_type": "stream",
     "text": [
      "C:\\Users\\spurusho\\AppData\\Local\\Temp\\ipykernel_27576\\4130966369.py:1: LangChainDeprecationWarning: The method `BaseRetriever.get_relevant_documents` was deprecated in langchain-core 0.1.46 and will be removed in 1.0. Use :meth:`~invoke` instead.\n",
      "  compressedDocs = compression_retriever.get_relevant_documents(\"What was this declassified?\")\n"
     ]
    }
   ],
   "source": [
    "compressedDocs = compression_retriever.get_relevant_documents(\"What was this declassified?\")"
   ]
  },
  {
   "cell_type": "code",
   "execution_count": 15,
   "metadata": {},
   "outputs": [
    {
     "data": {
      "text/plain": [
       "3"
      ]
     },
     "execution_count": 15,
     "metadata": {},
     "output_type": "execute_result"
    }
   ],
   "source": [
    "len(compressedDocs)"
   ]
  },
  {
   "cell_type": "code",
   "execution_count": 24,
   "metadata": {},
   "outputs": [
    {
     "name": "stdout",
     "output_type": "stream",
     "text": [
      "The Central Intelligence Agency (CIA ) is a civilian foreign intelligence service of the federal government of the United States tasked with advancing national security through collecting and analyzing intelligence from around the world and conducting covert operations. The agency is headquartered in the George Bush Center for Intelligence in Langley, Virginia, and is sometimes metonymously called \"Langley\". A major member of the United States Intelligence Community (IC), the CIA has reported to the director of national intelligence since 2004, and is focused on providing intelligence for the president and the Cabinet.\n",
      "The CIA is headed by a director and is divided into various directorates, including a Directorate of Analysis and Directorate of Operations. Unlike the Federal Bureau of Investigation (FBI), the CIA has no law enforcement function and focuses on intelligence gathering overseas, with only limited domestic intelligence collection. The CIA is responsible for coordinating all human intelligence (HUMINT) activities in the IC. It has been instrumental in establishing intelligence services in many countries, and has provided support to many foreign organizations. The CIA exerts foreign political influence through its paramilitary operations units, including its Special Activities Center. It has also provided support to several foreign political groups and governments, including planning, coordinating, training and carrying out torture, and technical support. It was involved in many regime changes and carrying out terrorist attacks and planned assassinations of foreign leaders.\n",
      "During World War II, U.S. intelligence and covert operations had been undertaken by the Office of Strategic Services (OSS). The office was abolished in 1945 by President Harry S. Truman, who created the Central Intelligence Group in 1946. Amid the intensifying Cold War, the National Security Act of 1947 established the CIA, headed by a director of central intelligence (DCI). The Central Intelligence Agency Act of 1949 exempted the agency from most Congressional oversight, and during the 1950s, it became a major instrument of U.S. foreign policy. The CIA employed psychological operations against communist regimes, and backed coups to advance American interests. Major CIA-backed operations include the 1953 coup in Iran, the 1954 coup in Guatemala, the Bay of Pigs invasion of Cuba in 1961, and the 1973 coup in Chile. In 1975, the Church Committee of the U.S. Senate revealed illegal operations such as MKUltra and CHAOS, after which greater oversight was imposed. In the 1980s, the CIA supported the Afghan mujahideen and Nicaraguan Contras, and since the September 11 attacks in 2001 has played a role in the Global War on Terrorism.\n",
      "The agency has been the subject of numerous controversies, including its use of political assassinations, torture, domestic wiretapping, propaganda, mind control techniques, and drug trafficking, among others.\n"
     ]
    }
   ],
   "source": [
    "print(compressedDocs[2].metadata[\"summary\"])"
   ]
  },
  {
   "cell_type": "code",
   "execution_count": 25,
   "metadata": {},
   "outputs": [
    {
     "name": "stdout",
     "output_type": "stream",
     "text": [
      "* CIA\n",
      "* Langley\n",
      "* George Bush Center for Intelligence\n",
      "* United States Intelligence Community (IC)\n",
      "* Directorate of Analysis\n",
      "* Directorate of Operations\n",
      "* Human intelligence (HUMINT) activities\n",
      "* Paramilitary operations units\n",
      "* Special Activities Center\n",
      "* World War II\n",
      "* Office of Strategic Services (OSS)\n",
      "* National Security Act of 1947\n",
      "* Central Intelligence Agency Act of 1949\n"
     ]
    }
   ],
   "source": [
    "print(compressedDocs[2].page_content)"
   ]
  },
  {
   "cell_type": "markdown",
   "metadata": {},
   "source": [
    "# Well thats all this is very clear, so instead sending the whole context just to reduce the token cost and the context size this context compression is used. Faster, cheaper and relevant."
   ]
  },
  {
   "cell_type": "code",
   "execution_count": null,
   "metadata": {},
   "outputs": [],
   "source": []
  }
 ],
 "metadata": {
  "kernelspec": {
   "display_name": "venv",
   "language": "python",
   "name": "python3"
  },
  "language_info": {
   "codemirror_mode": {
    "name": "ipython",
    "version": 3
   },
   "file_extension": ".py",
   "mimetype": "text/x-python",
   "name": "python",
   "nbconvert_exporter": "python",
   "pygments_lexer": "ipython3",
   "version": "3.12.5"
  }
 },
 "nbformat": 4,
 "nbformat_minor": 2
}
