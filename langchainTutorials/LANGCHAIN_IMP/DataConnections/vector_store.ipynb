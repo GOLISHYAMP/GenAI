{
 "cells": [
  {
   "cell_type": "code",
   "execution_count": 4,
   "metadata": {},
   "outputs": [],
   "source": [
    "# !pip install langchain_chroma"
   ]
  },
  {
   "cell_type": "code",
   "execution_count": 5,
   "metadata": {},
   "outputs": [],
   "source": [
    "# !pip install chromadb"
   ]
  },
  {
   "cell_type": "markdown",
   "metadata": {},
   "source": [
    "LoadDocument -- > Splitting into chunks\\n\n",
    "embedding --> embed chunks\\n\n",
    "vector chunks --> save chromadb\\n\n",
    "query --> similarity search chromadb\\n"
   ]
  },
  {
   "cell_type": "code",
   "execution_count": 17,
   "metadata": {},
   "outputs": [],
   "source": [
    "from langchain_chroma import Chroma"
   ]
  },
  {
   "cell_type": "code",
   "execution_count": 16,
   "metadata": {},
   "outputs": [],
   "source": [
    "from langchain_text_splitters.character import CharacterTextSplitter\n",
    "from langchain_community.document_loaders.text import TextLoader\n",
    "from langchain_ollama.embeddings import OllamaEmbeddings"
   ]
  },
  {
   "cell_type": "code",
   "execution_count": 10,
   "metadata": {},
   "outputs": [
    {
     "name": "stdout",
     "output_type": "stream",
     "text": [
      "1\n"
     ]
    }
   ],
   "source": [
    "loader = TextLoader(\"some_data//FDR_State_of_Union_1944.txt\")\n",
    "data = loader.load()\n",
    "print(len(data))"
   ]
  },
  {
   "cell_type": "code",
   "execution_count": 13,
   "metadata": {},
   "outputs": [],
   "source": [
    "splitter = CharacterTextSplitter.from_tiktoken_encoder(chunk_size = 500)\n",
    "docs = splitter.split_documents(data)"
   ]
  },
  {
   "cell_type": "code",
   "execution_count": 14,
   "metadata": {},
   "outputs": [
    {
     "name": "stdout",
     "output_type": "stream",
     "text": [
      "15\n"
     ]
    }
   ],
   "source": [
    "print(len(docs))"
   ]
  },
  {
   "cell_type": "code",
   "execution_count": 19,
   "metadata": {},
   "outputs": [],
   "source": [
    "from langchain_ollama.embeddings import OllamaEmbeddings\n",
    "embeddings = OllamaEmbeddings(model = \"llama3.2:1b\")"
   ]
  },
  {
   "cell_type": "code",
   "execution_count": 21,
   "metadata": {},
   "outputs": [],
   "source": [
    "db = Chroma.from_documents(documents = docs, embedding=embeddings, persist_directory=\"./chromadb\")"
   ]
  },
  {
   "cell_type": "code",
   "execution_count": 23,
   "metadata": {},
   "outputs": [
    {
     "data": {
      "text/plain": [
       "'./chromadb'"
      ]
     },
     "execution_count": 23,
     "metadata": {},
     "output_type": "execute_result"
    }
   ],
   "source": [
    "db._persist_directory"
   ]
  },
  {
   "cell_type": "code",
   "execution_count": 24,
   "metadata": {},
   "outputs": [],
   "source": [
    "db_new = Chroma(embedding_function=embeddings, persist_directory='./chromadb')"
   ]
  },
  {
   "cell_type": "code",
   "execution_count": 25,
   "metadata": {},
   "outputs": [],
   "source": [
    "new_text = \"What did FDR says about the cost of food law?\"\n",
    "similar_docs = db_new.similarity_search(new_text)"
   ]
  },
  {
   "cell_type": "code",
   "execution_count": 33,
   "metadata": {},
   "outputs": [],
   "source": [
    "loader = TextLoader(\"some_data//Lincoln_State_of_Union_1862.txt\")\n",
    "data = loader.load()"
   ]
  },
  {
   "cell_type": "code",
   "execution_count": 34,
   "metadata": {},
   "outputs": [
    {
     "name": "stderr",
     "output_type": "stream",
     "text": [
      "Created a chunk of size 611, which is longer than the specified 500\n",
      "Created a chunk of size 539, which is longer than the specified 500\n",
      "Created a chunk of size 686, which is longer than the specified 500\n"
     ]
    }
   ],
   "source": [
    "docs = splitter.split_documents(data)\n",
    "new_db = Chroma.from_documents(docs, embedding=embeddings, persist_directory='./chromadb')"
   ]
  },
  {
   "cell_type": "code",
   "execution_count": 40,
   "metadata": {},
   "outputs": [
    {
     "name": "stdout",
     "output_type": "stream",
     "text": [
      "I believe the country will agree that those statements are the solemn truth.\n",
      "\n",
      "National service is the most democratic way to wage a war. Like selective service for the armed forces, it rests on the obligation of each citizen to serve his Nation to his utmost where he is best qualified.\n",
      "\n",
      "It does not mean reduction in wages. It does not mean loss of retirement and seniority rights and benefits. It does not mean that any substantial numbers of war workers will be disturbed in their present jobs. Let these facts be wholly clear.\n",
      "\n",
      "Experience in other democratic Nations at warâ€”Britain, Canada, Australia, and New Zealand- has shown that the very existence of national service makes unnecessary the widespread use of compulsory power. National service has proven to be a unifying moral force based on an equal and comprehensive legal obligation of all people in a Nation at war.\n",
      "\n",
      "There are millions of American men and women who are not in this war at all. It is not because they do not want to be in it. But they want to know where they can best do their share. National service provides that direction. It will be a means by which every man and woman can find that inner satisfaction which comes from making the fullest possible contribution to victory.\n",
      "\n",
      "I know that all civilian war workers will be glad to be able to say many years hence to their grandchildren: \"Yes, I, too, was in service in the great war. I was on duty in an airplane factory, and I helped make hundreds of fighting planes. The Government told me that in doing that I was performing my most useful work in the service of my country.\"\n",
      "\n",
      "It is argued that we have passed the stage in the war where national service is necessary. But our soldiers and sailors know that this is not true. We are going forward on a long, rough road- and, in all journeys, the last miles are the hardest. And it is for that final effortâ€”for the total defeat of our enemies-that we must mobilize our total resources. The national war program calls for the employment of more people in 1944 than in 1943.\n",
      "\n",
      "It is my conviction that the American people will welcome this win-the-war measure which is based on the eternally just principle of \"fair for one, fair for all.\"\n",
      "{'source': 'some_data//FDR_State_of_Union_1944.txt'}\n"
     ]
    }
   ],
   "source": [
    "docs = new_db.similarity_search(\"What did FDR says about the cost of food law?\")\n",
    "print(docs[0].page_content)\n",
    "print(docs[0].metadata)"
   ]
  },
  {
   "cell_type": "markdown",
   "metadata": {},
   "source": [
    "### Here i can see that i can see the data is added to the existing database successfully and be able to fetch the data from both the documents"
   ]
  },
  {
   "cell_type": "code",
   "execution_count": 41,
   "metadata": {},
   "outputs": [
    {
     "data": {
      "text/plain": [
       "langchain_chroma.vectorstores.Chroma"
      ]
     },
     "execution_count": 41,
     "metadata": {},
     "output_type": "execute_result"
    }
   ],
   "source": [
    "type(new_db)"
   ]
  },
  {
   "cell_type": "code",
   "execution_count": 42,
   "metadata": {},
   "outputs": [],
   "source": [
    "retriever = new_db.as_retriever()"
   ]
  },
  {
   "cell_type": "code",
   "execution_count": 43,
   "metadata": {},
   "outputs": [
    {
     "name": "stderr",
     "output_type": "stream",
     "text": [
      "C:\\Users\\spurusho\\AppData\\Local\\Temp\\ipykernel_11736\\3407284085.py:1: LangChainDeprecationWarning: The method `BaseRetriever.get_relevant_documents` was deprecated in langchain-core 0.1.46 and will be removed in 1.0. Use :meth:`~invoke` instead.\n",
      "  results = retriever.get_relevant_documents(\"Cost food of law\")\n"
     ]
    }
   ],
   "source": [
    "results = retriever.get_relevant_documents(\"Cost food of law\")"
   ]
  },
  {
   "cell_type": "code",
   "execution_count": 44,
   "metadata": {},
   "outputs": [
    {
     "data": {
      "text/plain": [
       "[Document(id='275d6835-31fb-47b4-8894-cfb1aaee3622', metadata={'source': 'some_data//FDR_State_of_Union_1944.txt'}, page_content='(2) A continuation of the law for the renegotiation of war contractsâ€”which will prevent exorbitant profits and assure fair prices to the Government. For two long years I have pleaded with the Congress to take undue profits out of war.\\n\\n(3) A cost of food lawâ€”which will enable the Government (a) to place a reasonable floor under the prices the farmer may expect for his production; and (b) to place a ceiling on the prices a consumer will have to pay for the food he buys. This should apply to necessities only; and will require public funds to carry out. It will cost in appropriations about one percent of the present annual cost of the war.\\n\\n(4) Early reenactment of. the stabilization statute of October, 1942. This expires June 30, 1944, and if it is not extended well in advance, the country might just as well expect price chaos by summer.\\n\\n(5) A national service law- which, for the duration of the war, will prevent strikes, and, with certain appropriate exceptions, will make available for war production or for any other essential services every able-bodied adult in this Nation.\\n\\nThese five measures together form a just and equitable whole. I would not recommend a national service law unless the other laws were passed to keep down the cost of living, to share equitably the burdens of taxation, to hold the stabilization line, and to prevent undue profits.\\n\\nThe Federal Government already has the basic power to draft capital and property of all kinds for war purposes on a basis of just compensation.\\n\\nAs you know, I have for three years hesitated to recommend a national service act. Today, however, I am convinced of its necessity. Although I believe that we and our allies can win the war without such a measure, I am certain that nothing less than total mobilization of all our resources of manpower and capital will guarantee an earlier victory, and reduce the toll of suffering and sorrow and blood.\\n\\nI have received a joint recommendation for this law from the heads of the War Department, the Navy Department, and the Maritime Commission. These are the men who bear responsibility for the procurement of the necessary arms and equipment, and for the successful prosecution of the war in the field. They say:'),\n",
       " Document(id='c4a2257c-afb4-45ad-b1c1-f2d46a70e3ce', metadata={'source': 'some_data//FDR_State_of_Union_1944.txt'}, page_content='(2) A continuation of the law for the renegotiation of war contractsâ€”which will prevent exorbitant profits and assure fair prices to the Government. For two long years I have pleaded with the Congress to take undue profits out of war.\\n\\n(3) A cost of food lawâ€”which will enable the Government (a) to place a reasonable floor under the prices the farmer may expect for his production; and (b) to place a ceiling on the prices a consumer will have to pay for the food he buys. This should apply to necessities only; and will require public funds to carry out. It will cost in appropriations about one percent of the present annual cost of the war.\\n\\n(4) Early reenactment of. the stabilization statute of October, 1942. This expires June 30, 1944, and if it is not extended well in advance, the country might just as well expect price chaos by summer.\\n\\n(5) A national service law- which, for the duration of the war, will prevent strikes, and, with certain appropriate exceptions, will make available for war production or for any other essential services every able-bodied adult in this Nation.\\n\\nThese five measures together form a just and equitable whole. I would not recommend a national service law unless the other laws were passed to keep down the cost of living, to share equitably the burdens of taxation, to hold the stabilization line, and to prevent undue profits.\\n\\nThe Federal Government already has the basic power to draft capital and property of all kinds for war purposes on a basis of just compensation.\\n\\nAs you know, I have for three years hesitated to recommend a national service act. Today, however, I am convinced of its necessity. Although I believe that we and our allies can win the war without such a measure, I am certain that nothing less than total mobilization of all our resources of manpower and capital will guarantee an earlier victory, and reduce the toll of suffering and sorrow and blood.\\n\\nI have received a joint recommendation for this law from the heads of the War Department, the Navy Department, and the Maritime Commission. These are the men who bear responsibility for the procurement of the necessary arms and equipment, and for the successful prosecution of the war in the field. They say:'),\n",
       " Document(id='59ae8958-c1d7-4141-83c2-075ce696554b', metadata={'source': 'some_data//Lincoln_State_of_Union_1862.txt'}, page_content='Also, that it will soon be prepared to distribute largely seeds, cereals, plants, and cuttings, and has already published and liberally diffused much valuable information in anticipation of a more elaborate report, which will in due time be furnished, embracing some valuable tests in chemical science now in progress in the laboratory.\\n\\nThe creation of this Department was for the more immediate benefit of a large class of our most valuable citizens, and I trust that the liberal basis upon which it has been organized will not only meet your approbation, but that it will realize at no distant day all the fondest anticipations of its most sanguine friends and become the fruitful source of advantage to all our people.\\n\\nOn the 22d day of September last a proclamation was issued by the Executive, a copy of which is herewith submitted. In accordance with the purpose expressed in the second paragraph of that paper, I now respectfully recall your attention to what may be called \"compensated emancipation.\"\\n\\nA nation may be said to consist of its territory, its people, and its laws. The territory is the only part which is of certain durability. \"One generation passeth away and another generation cometh, but the earth abideth forever.\" It is of the first importance to duly consider and estimate this ever-enduring part. That portion of the earth\\'s surface which is owned and inhabited by the people of the United States is well adapted to be the home of one national family, and it is not well adapted for two or more. Its vast extent and its variety of climate and productions are of advantage in this age for one people, whatever they might have been in former ages. Steam, telegraphs, and intelligence have brought these to be an advantageous combination for one united people.\\n\\nIn the inaugural address I briefly pointed out the total inadequacy of disunion as a remedy for the differences between the people of the two sections. I did so in language which I can not improve, and which, therefore, I beg to repeat:'),\n",
       " Document(id='65730801-f0f9-480b-be24-50f032b9a774', metadata={'source': 'some_data//Lincoln_State_of_Union_1862.txt'}, page_content='I submit a statement of the proceedings of commissioners, which shows the progress that has been made in the enterprise of constructing the Pacific Railroad. And this suggests the earliest completion of this road, and also the favorable action of Congress upon the projects now pending before them for enlarging the capacities of the great canals in New York and Illinois, as being of vital and rapidly increasing importance to the whole nation, and especially to the vast interior region hereinafter to be noticed at some greater length. I purpose having prepared and laid before you at an early day some interesting and valuable statistical information upon this subject. The military and commercial importance of enlarging the Illinois and Michigan Canal and improving the Illinois River is presented in the report of Colonel Webster to the Secretary of War, and now transmitted to Congress. I respectfully ask attention to it.\\n\\nTo carry out the provisions of the act of Congress of the 15th of May last, I have caused the Department of Agriculture of the United States to be organized.\\n\\nThe Commissioner informs me that within the period of a few months this Department has established an extensive system of correspondence and exchanges, both at home and abroad, which promises to effect highly beneficial results in the development of a correct knowledge of recent improvements in agriculture, in the introduction of new products, and in the collection of the agricultural statistics of the different States.\\n\\nAlso, that it will soon be prepared to distribute largely seeds, cereals, plants, and cuttings, and has already published and liberally diffused much valuable information in anticipation of a more elaborate report, which will in due time be furnished, embracing some valuable tests in chemical science now in progress in the laboratory.\\n\\nThe creation of this Department was for the more immediate benefit of a large class of our most valuable citizens, and I trust that the liberal basis upon which it has been organized will not only meet your approbation, but that it will realize at no distant day all the fondest anticipations of its most sanguine friends and become the fruitful source of advantage to all our people.\\n\\nOn the 22d day of September last a proclamation was issued by the Executive, a copy of which is herewith submitted. In accordance with the purpose expressed in the second paragraph of that paper, I now respectfully recall your attention to what may be called \"compensated emancipation.\"')]"
      ]
     },
     "execution_count": 44,
     "metadata": {},
     "output_type": "execute_result"
    }
   ],
   "source": [
    "results"
   ]
  },
  {
   "cell_type": "code",
   "execution_count": null,
   "metadata": {},
   "outputs": [],
   "source": []
  }
 ],
 "metadata": {
  "kernelspec": {
   "display_name": "venv",
   "language": "python",
   "name": "python3"
  },
  "language_info": {
   "codemirror_mode": {
    "name": "ipython",
    "version": 3
   },
   "file_extension": ".py",
   "mimetype": "text/x-python",
   "name": "python",
   "nbconvert_exporter": "python",
   "pygments_lexer": "ipython3",
   "version": "3.12.5"
  }
 },
 "nbformat": 4,
 "nbformat_minor": 2
}
