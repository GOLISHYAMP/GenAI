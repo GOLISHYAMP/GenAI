{
 "cells": [
  {
   "cell_type": "markdown",
   "id": "bcded1a6-2430-4707-a78c-c82f4c5ee6fc",
   "metadata": {},
   "source": [
    "<a href = \"https://www.pieriantraining.com\"><img src=\"../PT Centered Purple.png\"> </a>\n",
    "\n",
    "<em style=\"text-align:center\">Copyrighted by Pierian Training</em>"
   ]
  },
  {
   "cell_type": "markdown",
   "id": "728f1747-b8fc-4d31-96c2-047fc83c079d",
   "metadata": {},
   "source": [
    "#  Data Connections Exercise\n",
    "\n",
    "## Ask a Legal Research Assistant Bot about the US Constitution\n",
    "\n",
    "Your function should do the following:\n",
    "\n",
    "* Read the US_Constitution.txt file inside the some_data folder\n",
    "* Split this into chunks (you choose the size)\n",
    "* Write this to a ChromaDB Vector Store\n",
    "* Use Context Compression to return the relevant portion of the document to the question"
   ]
  },
  {
   "cell_type": "code",
   "execution_count": 2,
   "id": "3a17f111-e290-4ffc-b614-4d10e5673087",
   "metadata": {},
   "outputs": [],
   "source": [
    "# Build a sample vectorDB\n",
    "\n",
    "from langchain_community.document_loaders.text import TextLoader\n",
    "from langchain_text_splitters.character import CharacterTextSplitter\n",
    "from langchain_ollama.embeddings import OllamaEmbeddings\n",
    "from langchain_chroma.vectorstores import Chroma\n",
    "from langchain_ollama.chat_models import ChatOllama\n",
    "from langchain.retrievers.contextual_compression import ContextualCompressionRetriever\n",
    "from langchain.retrievers.document_compressors.chain_extract import LLMChainExtractor\n",
    "from langchain_core.prompts.chat import HumanMessagePromptTemplate\n",
    "from langchain_core.prompts.chat import ChatPromptTemplate"
   ]
  },
  {
   "cell_type": "code",
   "execution_count": 5,
   "id": "dc7dafe9-7e3b-4bb5-abeb-4c99b66f623b",
   "metadata": {},
   "outputs": [],
   "source": [
    "def us_constitution_helper(question):\n",
    "    '''\n",
    "    Takes in a question about the US Constitution and returns the most relevant\n",
    "    part of the constitution. Notice it may not directly answer the actual question!\n",
    "    \n",
    "    Follow the steps below to fill out this function:\n",
    "    '''\n",
    "    # # PART ONE:\n",
    "    # # LOAD \"some_data/US_Constitution in a Document object\n",
    "    # loader = TextLoader(\"some_data\\\\US_Constitution.txt\")\n",
    "    # docs = loader.load()\n",
    "\n",
    "    # # PART TWO\n",
    "    # # Split the document into chunks (you choose how and what size)\n",
    "    # splitter = CharacterTextSplitter.from_tiktoken_encoder(chunk_size = 500)\n",
    "    # docs = splitter.split_documents(docs)\n",
    "\n",
    "    # # PART THREE\n",
    "    # # EMBED THE Documents (now in chunks) to a persisted ChromaDB\n",
    "    embeddings = OllamaEmbeddings(model = \"llama3.2:1b\")\n",
    "    # db = Chroma.from_documents(docs, embedding=embeddings, persist_directory=\"./USConstitutionVectors\")\n",
    "    # db._persist_directory\n",
    "    db = Chroma(persist_directory='./USConstitutionVectors', embedding_function=embeddings)\n",
    "\n",
    "    # PART FOUR\n",
    "    # Use ChatOpenAI and ContextualCompressionRetriever to return the most\n",
    "    # relevant part of the documents.\n",
    "    chat = ChatOllama(model = \"llama3.2:1b\", temperature = 0)\n",
    "    compressor = LLMChainExtractor.from_llm(chat)\n",
    "    compressorRetriever = ContextualCompressionRetriever(base_compressor=compressor, base_retriever=db.as_retriever())\n",
    "    results = compressorRetriever.invoke(question)\n",
    "    humanTemplate = HumanMessagePromptTemplate.from_template(template = \"Answer the question\\n {question} \\n\\nfrom the retrieved data\\n {result}\")\n",
    "    template = ChatPromptTemplate.from_messages([humanTemplate])\n",
    "    result = chat.invoke(template.format(question = question, result = results)).content\n",
    "    return result\n",
    "    "
   ]
  },
  {
   "cell_type": "markdown",
   "id": "e36c9e44-c166-4724-a1a9-98dfde0721d7",
   "metadata": {},
   "source": [
    "## Example Usage:\n",
    "\n",
    "Notice how it doesn't return an entire Document of a large chunk size, but instead the \"compressed\" version!"
   ]
  },
  {
   "cell_type": "code",
   "execution_count": 6,
   "id": "b6ca1a37-bc2f-49de-af25-22bc7437bff0",
   "metadata": {},
   "outputs": [
    {
     "name": "stdout",
     "output_type": "stream",
     "text": [
      "The 13th Amendment to the US Constitution is:\n",
      "\n",
      "\"The right of citizens of the United States, who are eighteen years of age or older, to vote shall not be denied or abridged by the United States or by any State on account of age, sex, color, or previous condition of servitude.\"\n"
     ]
    }
   ],
   "source": [
    "print(us_constitution_helper(\"What is the 13th Amendment?\"))"
   ]
  },
  {
   "cell_type": "code",
   "execution_count": null,
   "id": "225643e3-32ca-4cfe-ac96-e79c799c9cf5",
   "metadata": {},
   "outputs": [],
   "source": []
  }
 ],
 "metadata": {
  "kernelspec": {
   "display_name": "venv",
   "language": "python",
   "name": "python3"
  },
  "language_info": {
   "codemirror_mode": {
    "name": "ipython",
    "version": 3
   },
   "file_extension": ".py",
   "mimetype": "text/x-python",
   "name": "python",
   "nbconvert_exporter": "python",
   "pygments_lexer": "ipython3",
   "version": "3.12.5"
  }
 },
 "nbformat": 4,
 "nbformat_minor": 5
}
