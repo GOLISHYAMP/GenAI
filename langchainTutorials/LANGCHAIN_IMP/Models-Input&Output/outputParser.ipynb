{
 "cells": [
  {
   "cell_type": "code",
   "execution_count": 4,
   "metadata": {},
   "outputs": [],
   "source": [
    "from langchain_core.output_parsers.list import CommaSeparatedListOutputParser\n",
    "output_parser = CommaSeparatedListOutputParser()"
   ]
  },
  {
   "cell_type": "code",
   "execution_count": 5,
   "metadata": {},
   "outputs": [
    {
     "data": {
      "text/plain": [
       "'Your response should be a list of comma separated values, eg: `foo, bar, baz` or `foo,bar,baz`'"
      ]
     },
     "execution_count": 5,
     "metadata": {},
     "output_type": "execute_result"
    }
   ],
   "source": [
    "output_parser.get_format_instructions()"
   ]
  },
  {
   "cell_type": "code",
   "execution_count": 6,
   "metadata": {},
   "outputs": [
    {
     "name": "stdout",
     "output_type": "stream",
     "text": [
      "['red', ' yellow', ' blue']\n"
     ]
    }
   ],
   "source": [
    "reply = \"red, yellow, blue\"\n",
    "print(reply.split(','))"
   ]
  },
  {
   "cell_type": "code",
   "execution_count": 7,
   "metadata": {},
   "outputs": [
    {
     "data": {
      "text/plain": [
       "['red', 'yellow', 'blue']"
      ]
     },
     "execution_count": 7,
     "metadata": {},
     "output_type": "execute_result"
    }
   ],
   "source": [
    "output_parser.parse(reply)"
   ]
  },
  {
   "cell_type": "code",
   "execution_count": 14,
   "metadata": {},
   "outputs": [
    {
     "name": "stdout",
     "output_type": "stream",
     "text": [
      "content='friendly, loyal, intelligent, energetic, trainable' additional_kwargs={} response_metadata={'token_usage': ChatCompletionOutputUsage(completion_tokens=14, prompt_tokens=38, total_tokens=52), 'model': '', 'finish_reason': 'stop'} id='run-82748124-3285-4d70-b9fe-485497e58c3a-0'\n",
      "['friendly', 'loyal', 'intelligent', 'energetic', 'trainable']\n"
     ]
    }
   ],
   "source": [
    "from langchain_core.prompts import ChatPromptTemplate\n",
    "from langchain_huggingface import HuggingFaceEndpoint,  ChatHuggingFace\n",
    "\n",
    "\n",
    "# Define Few-Shot Prompt Template\n",
    "template = ChatPromptTemplate.from_messages([\n",
    "    (\"human\", \"{question} {format}\")\n",
    "])\n",
    "\n",
    "# Define Hugging Face Model\n",
    "llm = HuggingFaceEndpoint(\n",
    "    repo_id=\"microsoft/Phi-3-mini-4k-instruct\",  # Example Model\n",
    "    task=\"text-generation\",\n",
    "    max_new_tokens=30,\n",
    "    do_sample=True,\n",
    "    repetition_penalty=1.02\n",
    ")\n",
    "\n",
    "chat =  ChatHuggingFace(llm = llm , verbose = True)\n",
    "\n",
    "# Generate Response\n",
    "response = chat.invoke(template.format_prompt(question = \"give me 5 characteristics of dogs\", format = output_parser.get_format_instructions()))\n",
    "\n",
    "# Print Response\n",
    "print(response)\n",
    "print(output_parser.parse(response.content))\n"
   ]
  },
  {
   "cell_type": "code",
   "execution_count": null,
   "metadata": {},
   "outputs": [],
   "source": []
  }
 ],
 "metadata": {
  "kernelspec": {
   "display_name": "venv",
   "language": "python",
   "name": "python3"
  },
  "language_info": {
   "codemirror_mode": {
    "name": "ipython",
    "version": 3
   },
   "file_extension": ".py",
   "mimetype": "text/x-python",
   "name": "python",
   "nbconvert_exporter": "python",
   "pygments_lexer": "ipython3",
   "version": "3.12.5"
  }
 },
 "nbformat": 4,
 "nbformat_minor": 2
}
