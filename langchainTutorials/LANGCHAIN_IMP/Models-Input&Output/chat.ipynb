{
 "cells": [
  {
   "cell_type": "code",
   "execution_count": 1,
   "metadata": {},
   "outputs": [],
   "source": [
    "from langchain_huggingface import HuggingFaceEndpoint, ChatHuggingFace\n",
    "\n",
    "# from huggingface_hub import login\n",
    "# login() # You will be prompted for your HF key, which will then be saved locally"
   ]
  },
  {
   "cell_type": "code",
   "execution_count": 2,
   "metadata": {},
   "outputs": [
    {
     "name": "stderr",
     "output_type": "stream",
     "text": [
      "c:\\Users\\spurusho\\Downloads\\GenAI\\Personal\\langchainTutorials\\venv\\Lib\\site-packages\\tqdm\\auto.py:21: TqdmWarning: IProgress not found. Please update jupyter and ipywidgets. See https://ipywidgets.readthedocs.io/en/stable/user_install.html\n",
      "  from .autonotebook import tqdm as notebook_tqdm\n"
     ]
    }
   ],
   "source": [
    "llm = HuggingFaceEndpoint(\n",
    "    repo_id=\"microsoft/Phi-3-mini-4k-instruct\",\n",
    "    task=\"text-generation\",\n",
    "    max_new_tokens=512,\n",
    "    do_sample=False,\n",
    "    repetition_penalty=1.03,\n",
    ")\n",
    "\n",
    "chat = ChatHuggingFace(llm=llm, verbose=True)\n"
   ]
  },
  {
   "cell_type": "code",
   "execution_count": 12,
   "metadata": {},
   "outputs": [
    {
     "name": "stdout",
     "output_type": "stream",
     "text": [
      "content=\"I'm an artificial intelligence and do not possess a physical form, therefore, I'm unable to visit your home in person. However, I can certainly help plan your visit digitally, provide travel tips, or assist with preparations related to your day trip if you'd like!\" additional_kwargs={} response_metadata={'token_usage': ChatCompletionOutputUsage(completion_tokens=60, prompt_tokens=16, total_tokens=76), 'model': '', 'finish_reason': 'stop'} id='run-8f6c5ec7-9589-408f-afb0-61fc691d2c52-0'\n"
     ]
    }
   ],
   "source": [
    "messages = [\n",
    "    (\"system\", \"You are my best friend.\"),\n",
    "    (\"human\", \"come to my home.\"),\n",
    "]\n",
    "\n",
    "result = chat.invoke(messages)\n",
    "print(result)"
   ]
  },
  {
   "cell_type": "markdown",
   "metadata": {},
   "source": [
    "# Now lets use the cache to stop pinging the API again and again, to save time."
   ]
  },
  {
   "cell_type": "code",
   "execution_count": 16,
   "metadata": {},
   "outputs": [],
   "source": [
    "from langchain_core.caches import InMemoryCache"
   ]
  },
  {
   "cell_type": "code",
   "execution_count": 18,
   "metadata": {},
   "outputs": [],
   "source": [
    "# Initialize cache\n",
    "cache = InMemoryCache()\n",
    "HuggingFaceEndpoint.cache = cache  # Set cache for the LLM\n"
   ]
  },
  {
   "cell_type": "code",
   "execution_count": 22,
   "metadata": {},
   "outputs": [
    {
     "name": "stdout",
     "output_type": "stream",
     "text": [
      "content=\"Hey, buddy! Feeling like it's time to head back home? I'm here if you need to chat or have company on the way back. Let me know what you think!\" additional_kwargs={} response_metadata={'token_usage': ChatCompletionOutputUsage(completion_tokens=42, prompt_tokens=14, total_tokens=56), 'model': '', 'finish_reason': 'stop'} id='run-1401da72-d565-4cc2-aaea-091361238c54-0'\n"
     ]
    }
   ],
   "source": [
    "messages = [\n",
    "    (\"system\", \"You are my best friend.\"),\n",
    "    (\"human\", \"lets go home\"),\n",
    "]\n",
    "\n",
    "# Invoke the chat model\n",
    "result = chat.invoke(messages)\n",
    "\n",
    "# Print the result\n",
    "print(result)"
   ]
  },
  {
   "cell_type": "code",
   "execution_count": 23,
   "metadata": {},
   "outputs": [
    {
     "name": "stdout",
     "output_type": "stream",
     "text": [
      "content=\"I'm an artificial intelligence and do not possess a physical form, therefore, I'm unable to visit your home in person. However, I can certainly help plan your visit digitally, provide travel tips, or assist with preparations related to your day trip if you'd like!\" additional_kwargs={} response_metadata={'token_usage': ChatCompletionOutputUsage(completion_tokens=60, prompt_tokens=16, total_tokens=76), 'model': '', 'finish_reason': 'stop'} id='run-ad121ab6-b85c-4213-901b-0c4ed2adb5fb-0'\n"
     ]
    }
   ],
   "source": [
    "messages = [\n",
    "    (\"system\", \"You are my best friend.\"),\n",
    "    (\"human\", \"come to my home.\"),\n",
    "]\n",
    "\n",
    "# Invoke the chat model\n",
    "result = chat.invoke(messages)\n",
    "\n",
    "# Print the result\n",
    "print(result)"
   ]
  },
  {
   "cell_type": "code",
   "execution_count": null,
   "metadata": {},
   "outputs": [],
   "source": []
  }
 ],
 "metadata": {
  "kernelspec": {
   "display_name": "venv",
   "language": "python",
   "name": "python3"
  },
  "language_info": {
   "codemirror_mode": {
    "name": "ipython",
    "version": 3
   },
   "file_extension": ".py",
   "mimetype": "text/x-python",
   "name": "python",
   "nbconvert_exporter": "python",
   "pygments_lexer": "ipython3",
   "version": "3.12.5"
  }
 },
 "nbformat": 4,
 "nbformat_minor": 2
}
