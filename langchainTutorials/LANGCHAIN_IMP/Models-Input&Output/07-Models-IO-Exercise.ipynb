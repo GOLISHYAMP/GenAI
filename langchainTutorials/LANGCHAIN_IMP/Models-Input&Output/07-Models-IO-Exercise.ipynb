{
 "cells": [
  {
   "cell_type": "markdown",
   "id": "378f3df7-19b9-49a1-b695-5d578138b4ae",
   "metadata": {},
   "source": [
    "<a href = \"https://www.pieriantraining.com\"><img src=\"../PT Centered Purple.png\"> </a>\n",
    "\n",
    "<em style=\"text-align:center\">Copyrighted by Pierian Training</em>"
   ]
  },
  {
   "cell_type": "markdown",
   "id": "cf5ff2a8-fcc1-4ef6-a91b-a56f29a0fc2c",
   "metadata": {},
   "source": [
    "# Model IO Exercise \n",
    "\n",
    "The purpose of this exercise is to test your understanding of building out Model IO systems. You will also hopefully notice the need to chain responses together, which we will cover later in this course!\n",
    "\n",
    "Watch the video for a full overview on minimum outputs this class should be capable of, but feel free to expand on this project, or to just treat it as a code-along!"
   ]
  },
  {
   "cell_type": "markdown",
   "id": "6f36f621-d2cb-43e7-89ad-41691ab266c1",
   "metadata": {},
   "source": [
    "## History Quiz\n",
    "\n",
    "Our main goal is to use LangChain and Python to create a very simple class with a few methods for:\n",
    "* Writing a historical question that has a date as the correct answer\n",
    "* Getting the correct answer from LLM\n",
    "* Getting a Human user's best guess at at correct answer\n",
    "* Checking/reporting the difference between the correct answer and the user answer"
   ]
  },
  {
   "cell_type": "markdown",
   "id": "6421bf0c-6aca-4291-9aaf-473b78b9be77",
   "metadata": {},
   "source": [
    "### Suggested Imports\n",
    "\n",
    "Feel free to accomplish this task however you prefer!"
   ]
  },
  {
   "cell_type": "code",
   "execution_count": 109,
   "id": "3cde30a6-5b0b-475f-9460-809e174cac97",
   "metadata": {},
   "outputs": [],
   "source": [
    "from langchain_core.prompts.chat import (\n",
    "    ChatPromptTemplate,\n",
    "    PromptTemplate,\n",
    "    SystemMessagePromptTemplate,\n",
    "    AIMessagePromptTemplate,\n",
    "    HumanMessagePromptTemplate,\n",
    ")\n",
    "from datetime import date\n",
    "from langchain_ollama.chat_models import ChatOllama\n",
    "from langchain.output_parsers.datetime import DatetimeOutputParser\n",
    "from langchain_core.caches import InMemoryCache"
   ]
  },
  {
   "cell_type": "code",
   "execution_count": 128,
   "id": "c1e1fce6-7f28-4d74-a92b-0424c6abcd30",
   "metadata": {},
   "outputs": [],
   "source": [
    "class HistoryQuiz():\n",
    "    \n",
    "    def create_history_question(self,topic):\n",
    "        '''\n",
    "        This method should output a historical question about the topic that has a date as the correct answer.\n",
    "        For example:\n",
    "        \n",
    "            \"On what date did World War 2 end?\"\n",
    "            \n",
    "        '''\n",
    "        systemMessage = SystemMessagePromptTemplate.from_template(template=\"Your are History teacher who want to check the knowledge of the students using the questions, Only ask question about historical dates. just ask a question directly,\")\n",
    "        HumanMessage = HumanMessagePromptTemplate.from_template(template=\"Ask me the history question on the {topic}\")\n",
    "\n",
    "        template = ChatPromptTemplate.from_messages([systemMessage, HumanMessage])\n",
    "        cache = InMemoryCache()\n",
    "        chat = ChatOllama(\n",
    "            model = \"llama3.2:1b\",\n",
    "            temperature = 0.8,\n",
    "            num_predict = 200,\n",
    "            cache = cache\n",
    "        )\n",
    "        question = chat.invoke(template.format(topic = topic)).content\n",
    "        return question\n",
    "    \n",
    "    def get_AI_answer(self,question):\n",
    "        '''\n",
    "        This method should get the answer to the historical question from the method above.\n",
    "        Note: This answer must be in datetime format! Use DateTimeOutputParser to confirm!\n",
    "        \n",
    "        September 2, 1945 --> datetime.datetime(1945, 9, 2, 0, 0)\n",
    "        '''\n",
    "        dateParser = DatetimeOutputParser()\n",
    "        systemMessage = SystemMessagePromptTemplate.from_template(template = \"Give straight forward answer in date to the given question\")\n",
    "        humanMessage = HumanMessagePromptTemplate.from_template(template= 'What year did World War II begin?')\n",
    "        AIMessage = AIMessagePromptTemplate.from_template(template = '01-07-1939')\n",
    "        humanMessage1 = HumanMessagePromptTemplate.from_template(template=\"{question}\")\n",
    "        template = ChatPromptTemplate.from_messages([systemMessage, humanMessage, AIMessage, humanMessage1])\n",
    "        cache = InMemoryCache()\n",
    "\n",
    "        chat = ChatOllama(\n",
    "            model = \"llama3.2:1b\",\n",
    "            temperature = 0.2,\n",
    "            num_predict = 200,\n",
    "            cache = cache\n",
    "\n",
    "        )\n",
    "        correct_datetime = chat.invoke(template.format(question = question)).content\n",
    "        \n",
    "        return correct_datetime\n",
    "    \n",
    "    def get_user_answer(self,question):\n",
    "        '''\n",
    "        This method should grab a user answer and convert it to datetime. It should collect a Year, Month, and Day.\n",
    "        You can just use input() for this.\n",
    "        '''\n",
    "        print(question)\n",
    "        year = int(input(\"Year : \"))\n",
    "        month = int(input(\"Month : \"))\n",
    "        day = int(input(\"Day : \"))\n",
    "        user_datetime = date(year, month, day)\n",
    "        return user_datetime\n",
    "        \n",
    "        \n",
    "    def check_user_answer(self,user_answer,ai_answer):\n",
    "        '''\n",
    "        Should check the user answer against the AI answer and return the difference between them\n",
    "        '''\n",
    "        # print or return the difference between the answers here!\n",
    "        systemMessage = SystemMessagePromptTemplate.from_template(template = \"You will be provided with two dates, just say whether dates matches or not, and if not then the difference between those dates as output\")\n",
    "        humanMessage = HumanMessagePromptTemplate.from_template(template=\"What is the difference between these two dates?\\n{user_answer} and {ai_answer}\")\n",
    "        template = ChatPromptTemplate.from_messages([systemMessage, humanMessage])\n",
    "        cache = InMemoryCache()\n",
    "\n",
    "        chat = ChatOllama(\n",
    "            model = \"llama3.2:1b\",\n",
    "            temperature = 0.8,\n",
    "            num_predict = 200,\n",
    "            cache = cache\n",
    "\n",
    "        )\n",
    "        response = chat.invoke(template.format(user_answer = user_answer, ai_answer = ai_answer)).content\n",
    "        return response\n"
   ]
  },
  {
   "cell_type": "markdown",
   "id": "ff79a31c-3189-48d2-b1af-bf1a9eef9e1c",
   "metadata": {},
   "source": [
    "### Example Usage\n",
    "\n",
    "Feel free to expand or edit this project. To keep things simple we have every method return an object that will then feed into a new method!"
   ]
  },
  {
   "cell_type": "code",
   "execution_count": 129,
   "id": "937e4900-1148-4836-835b-dd2936b8e30e",
   "metadata": {},
   "outputs": [],
   "source": [
    "quiz_bot = HistoryQuiz()"
   ]
  },
  {
   "cell_type": "code",
   "execution_count": 130,
   "id": "5dd56ef3-819d-4996-b9a5-1cfad88e5eed",
   "metadata": {},
   "outputs": [],
   "source": [
    "question = quiz_bot.create_history_question(topic='World War 2')"
   ]
  },
  {
   "cell_type": "code",
   "execution_count": 131,
   "id": "9eecb542-6018-4526-9f89-24f031468829",
   "metadata": {},
   "outputs": [
    {
     "data": {
      "text/plain": [
       "\"Let's start with a basic question. Which year is commonly considered the end of World War II?\""
      ]
     },
     "execution_count": 131,
     "metadata": {},
     "output_type": "execute_result"
    }
   ],
   "source": [
    "question"
   ]
  },
  {
   "cell_type": "code",
   "execution_count": 132,
   "id": "c86320ce-4497-4eb0-80f5-871736cb51e7",
   "metadata": {},
   "outputs": [],
   "source": [
    "ai_answer = quiz_bot.get_AI_answer(question)"
   ]
  },
  {
   "cell_type": "code",
   "execution_count": 133,
   "id": "4be20b47-8287-4656-8253-1ec1c52fad43",
   "metadata": {},
   "outputs": [
    {
     "data": {
      "text/plain": [
       "'1945'"
      ]
     },
     "execution_count": 133,
     "metadata": {},
     "output_type": "execute_result"
    }
   ],
   "source": [
    "# Day After Pearl Harbor\n",
    "ai_answer"
   ]
  },
  {
   "cell_type": "code",
   "execution_count": 134,
   "id": "d8537e7e-b955-4ffd-84ba-a26d072b4a05",
   "metadata": {},
   "outputs": [
    {
     "name": "stdout",
     "output_type": "stream",
     "text": [
      "Let's start with a basic question. Which year is commonly considered the end of World War II?\n"
     ]
    }
   ],
   "source": [
    "user_answer = quiz_bot.get_user_answer(question)"
   ]
  },
  {
   "cell_type": "code",
   "execution_count": 135,
   "id": "e8eb40a9-789e-4666-81a6-a6a783dedaf6",
   "metadata": {},
   "outputs": [
    {
     "data": {
      "text/plain": [
       "datetime.date(1945, 8, 1)"
      ]
     },
     "execution_count": 135,
     "metadata": {},
     "output_type": "execute_result"
    }
   ],
   "source": [
    "user_answer"
   ]
  },
  {
   "cell_type": "code",
   "execution_count": 136,
   "id": "e22a7cf0-f199-4ace-a909-c73492e86e47",
   "metadata": {},
   "outputs": [
    {
     "data": {
      "text/plain": [
       "'1945-08-01 does not match 1945. \\n1945 - 1945 = 0 days'"
      ]
     },
     "execution_count": 136,
     "metadata": {},
     "output_type": "execute_result"
    }
   ],
   "source": [
    "quiz_bot.check_user_answer(user_answer,ai_answer)"
   ]
  },
  {
   "cell_type": "code",
   "execution_count": null,
   "id": "0cdd1772",
   "metadata": {},
   "outputs": [],
   "source": []
  }
 ],
 "metadata": {
  "kernelspec": {
   "display_name": "venv",
   "language": "python",
   "name": "python3"
  },
  "language_info": {
   "codemirror_mode": {
    "name": "ipython",
    "version": 3
   },
   "file_extension": ".py",
   "mimetype": "text/x-python",
   "name": "python",
   "nbconvert_exporter": "python",
   "pygments_lexer": "ipython3",
   "version": "3.12.5"
  }
 },
 "nbformat": 4,
 "nbformat_minor": 5
}
