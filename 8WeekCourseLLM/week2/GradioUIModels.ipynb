{
 "cells": [
  {
   "cell_type": "code",
   "execution_count": 3,
   "id": "c629e2a7",
   "metadata": {},
   "outputs": [],
   "source": [
    "import gradio as gr\n",
    "import ollama"
   ]
  },
  {
   "cell_type": "code",
   "execution_count": 8,
   "id": "ff221f56",
   "metadata": {},
   "outputs": [],
   "source": [
    "system_message = \"You are a chat bot , you response in markdown\"\n",
    "\n",
    "def chatllm(question):\n",
    "    response = ollama.chat(\n",
    "        model = \"qwen2.5:1.5b\",\n",
    "        messages=[{\"role\": \"system\", \"content\":system_message}, {\"role\":\"user\", \"content\":question}]\n",
    "        # stream=True\n",
    "    )\n",
    "    return response.message.content\n",
    "    "
   ]
  },
  {
   "cell_type": "code",
   "execution_count": 13,
   "id": "dcf6c572",
   "metadata": {},
   "outputs": [
    {
     "name": "stderr",
     "output_type": "stream",
     "text": [
      "c:\\Users\\spurusho\\Downloads\\GenAI\\Personal\\8WeekCourseLLM\\venv\\Lib\\site-packages\\gradio\\interface.py:415: UserWarning: The `allow_flagging` parameter in `Interface` is deprecated.Use `flagging_mode` instead.\n",
      "  warnings.warn(\n"
     ]
    },
    {
     "name": "stdout",
     "output_type": "stream",
     "text": [
      "* Running on local URL:  http://127.0.0.1:7866\n",
      "\n",
      "To create a public link, set `share=True` in `launch()`.\n"
     ]
    },
    {
     "data": {
      "text/html": [
       "<div><iframe src=\"http://127.0.0.1:7866/\" width=\"100%\" height=\"500\" allow=\"autoplay; camera; microphone; clipboard-read; clipboard-write;\" frameborder=\"0\" allowfullscreen></iframe></div>"
      ],
      "text/plain": [
       "<IPython.core.display.HTML object>"
      ]
     },
     "metadata": {},
     "output_type": "display_data"
    }
   ],
   "source": [
    "demo = gr.Interface(fn=chatllm,\n",
    "                    inputs=[gr.Textbox(label=\"Ask me any question\", lines=4)],\n",
    "                    outputs=[gr.Markdown(label=\"Response\")], \n",
    "                    allow_flagging=\"never\")\n",
    "\n",
    "if __name__ == \"__main__\":\n",
    "    demo.launch()\n"
   ]
  },
  {
   "cell_type": "markdown",
   "id": "12e3e853",
   "metadata": {},
   "source": [
    "# Stream messages"
   ]
  },
  {
   "cell_type": "code",
   "execution_count": null,
   "id": "c0c1a59b",
   "metadata": {},
   "outputs": [],
   "source": [
    "system_message = \"You are a chat bot , you response in markdown format\"\n",
    "\n",
    "def chatllm(question):\n",
    "    response = ollama.chat(\n",
    "        model = \"qwen2.5:1.5b\",\n",
    "        messages=[{\"role\": \"system\", \"content\":system_message}, {\"role\":\"user\", \"content\":question}],\n",
    "        stream=True\n",
    "    )\n",
    "    result = \"\"\n",
    "    for word in response:\n",
    "        result += word.message.content\n",
    "        yield result"
   ]
  },
  {
   "cell_type": "code",
   "execution_count": 7,
   "id": "a390f4e9",
   "metadata": {},
   "outputs": [
    {
     "name": "stderr",
     "output_type": "stream",
     "text": [
      "c:\\Users\\spurusho\\Downloads\\GenAI\\Personal\\8WeekCourseLLM\\venv\\Lib\\site-packages\\gradio\\interface.py:415: UserWarning: The `allow_flagging` parameter in `Interface` is deprecated.Use `flagging_mode` instead.\n",
      "  warnings.warn(\n"
     ]
    },
    {
     "name": "stdout",
     "output_type": "stream",
     "text": [
      "* Running on local URL:  http://127.0.0.1:7862\n",
      "\n",
      "To create a public link, set `share=True` in `launch()`.\n"
     ]
    },
    {
     "data": {
      "text/html": [
       "<div><iframe src=\"http://127.0.0.1:7862/\" width=\"100%\" height=\"500\" allow=\"autoplay; camera; microphone; clipboard-read; clipboard-write;\" frameborder=\"0\" allowfullscreen></iframe></div>"
      ],
      "text/plain": [
       "<IPython.core.display.HTML object>"
      ]
     },
     "metadata": {},
     "output_type": "display_data"
    }
   ],
   "source": [
    "demo = gr.Interface(fn=chatllm,\n",
    "                    inputs=[gr.Textbox(label=\"Ask me any question\", lines=4)],\n",
    "                    outputs=[gr.Markdown(label=\"Response\")], \n",
    "                    allow_flagging=\"never\")\n",
    "\n",
    "if __name__ == \"__main__\":\n",
    "    demo.launch()\n"
   ]
  },
  {
   "cell_type": "code",
   "execution_count": 24,
   "id": "99bfdaea",
   "metadata": {},
   "outputs": [],
   "source": [
    "import requests\n",
    "from bs4 import BeautifulSoup\n",
    "# A class to represent a Webpage\n",
    "\n",
    "class Website:\n",
    "    url: str\n",
    "    title: str\n",
    "    text: str\n",
    "\n",
    "    def __init__(self, url):\n",
    "        self.url = url\n",
    "        response = requests.get(url)\n",
    "        self.body = response.content\n",
    "        soup = BeautifulSoup(self.body, 'html.parser')\n",
    "        self.title = soup.title.string if soup.title else \"No title found\"\n",
    "        for irrelevant in soup.body([\"script\", \"style\", \"img\", \"input\"]):\n",
    "            irrelevant.decompose()\n",
    "        self.text = soup.body.get_text(separator=\"\\n\", strip=True)\n",
    "\n",
    "    def get_contents(self):\n",
    "        return f\"Webpage Title:\\n{self.title}\\nWebpage Contents:\\n{self.text}\\n\\n\""
   ]
  },
  {
   "cell_type": "code",
   "execution_count": 25,
   "id": "c50d4d1e",
   "metadata": {},
   "outputs": [],
   "source": [
    "# With massive thanks to Bill G. who noticed that a prior version of this had a bug! Now fixed.\n",
    "\n",
    "system_message = \"You are an assistant that analyzes the contents of a company website landing page \\\n",
    "and creates a short brochure about the company for prospective customers, investors and recruits. Respond in markdown.\""
   ]
  },
  {
   "cell_type": "code",
   "execution_count": 36,
   "id": "9b7455f9",
   "metadata": {},
   "outputs": [],
   "source": [
    "def give_response(response):\n",
    "    response = response\n",
    "    result = \"\"\n",
    "    for chunk in response:\n",
    "        result += chunk.message.content\n",
    "        yield result"
   ]
  },
  {
   "cell_type": "code",
   "execution_count": 37,
   "id": "8c1338d6",
   "metadata": {},
   "outputs": [],
   "source": [
    "def stream_brochure(company_name, url, model):\n",
    "    prompt = f\"Please generate a company brochure for {company_name}. Here is their landing page:\\n\"\n",
    "    prompt += Website(url).get_contents()\n",
    "    result = ollama.chat(\n",
    "        model = model,\n",
    "        messages=[{'role':\"system\", \"content\": system_message}, {'role': \"user\", \"content\":prompt}],\n",
    "        stream=True\n",
    "    )\n",
    "    result = give_response(result)\n",
    "    yield from result"
   ]
  },
  {
   "cell_type": "code",
   "execution_count": 38,
   "id": "7ff4c10e",
   "metadata": {},
   "outputs": [
    {
     "name": "stdout",
     "output_type": "stream",
     "text": [
      "* Running on local URL:  http://127.0.0.1:7874\n",
      "\n",
      "To create a public link, set `share=True` in `launch()`.\n"
     ]
    },
    {
     "data": {
      "text/html": [
       "<div><iframe src=\"http://127.0.0.1:7874/\" width=\"100%\" height=\"500\" allow=\"autoplay; camera; microphone; clipboard-read; clipboard-write;\" frameborder=\"0\" allowfullscreen></iframe></div>"
      ],
      "text/plain": [
       "<IPython.core.display.HTML object>"
      ]
     },
     "metadata": {},
     "output_type": "display_data"
    },
    {
     "data": {
      "text/plain": []
     },
     "execution_count": 38,
     "metadata": {},
     "output_type": "execute_result"
    }
   ],
   "source": [
    "view = gr.Interface(\n",
    "    fn=stream_brochure,\n",
    "    inputs=[\n",
    "        gr.Textbox(label=\"Company name:\"),\n",
    "        gr.Textbox(label=\"Landing page URL including http:// or https://\"),\n",
    "        gr.Dropdown([\"qwen2.5:1.5b\", \"deepseek-r1:1.5\"], label=\"Select model\")],\n",
    "    outputs=[gr.Markdown(label=\"Brochure:\")],\n",
    "    flagging_mode=\"never\"\n",
    ")\n",
    "view.launch()"
   ]
  },
  {
   "cell_type": "code",
   "execution_count": null,
   "id": "a2bf9243",
   "metadata": {},
   "outputs": [],
   "source": []
  }
 ],
 "metadata": {
  "kernelspec": {
   "display_name": "venv",
   "language": "python",
   "name": "python3"
  },
  "language_info": {
   "codemirror_mode": {
    "name": "ipython",
    "version": 3
   },
   "file_extension": ".py",
   "mimetype": "text/x-python",
   "name": "python",
   "nbconvert_exporter": "python",
   "pygments_lexer": "ipython3",
   "version": "3.12.5"
  }
 },
 "nbformat": 4,
 "nbformat_minor": 5
}
