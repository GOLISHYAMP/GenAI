{
 "cells": [
  {
   "cell_type": "code",
   "execution_count": 1,
   "id": "aaae8ced",
   "metadata": {},
   "outputs": [],
   "source": [
    "import gradio as gr\n",
    "import ollama"
   ]
  },
  {
   "cell_type": "code",
   "execution_count": 2,
   "id": "abdaf23c",
   "metadata": {},
   "outputs": [],
   "source": [
    "system_message = \"You are a helpful assistant for an Airline called FlightAI. \"\n",
    "system_message += \"Give short, courteous answers, no more than 1 sentence. \"\n",
    "system_message += \"Always be accurate. If you don't know the answer, say so.\""
   ]
  },
  {
   "cell_type": "code",
   "execution_count": 21,
   "id": "c99f3ccc",
   "metadata": {},
   "outputs": [
    {
     "name": "stdout",
     "output_type": "stream",
     "text": [
      "* Running on local URL:  http://127.0.0.1:7873\n",
      "\n",
      "To create a public link, set `share=True` in `launch()`.\n"
     ]
    },
    {
     "data": {
      "text/html": [
       "<div><iframe src=\"http://127.0.0.1:7873/\" width=\"100%\" height=\"500\" allow=\"autoplay; camera; microphone; clipboard-read; clipboard-write;\" frameborder=\"0\" allowfullscreen></iframe></div>"
      ],
      "text/plain": [
       "<IPython.core.display.HTML object>"
      ]
     },
     "metadata": {},
     "output_type": "display_data"
    }
   ],
   "source": [
    "import time\n",
    "import gradio as gr\n",
    "\n",
    "def slow_echo(message, history):\n",
    "    history.append({\"role\" : \"system\", \"content\" : system_message})\n",
    "    history.append({\"role\":\"user\", \"content\":message})\n",
    "    response = ollama.chat(\n",
    "        model = 'qwen2.5:1.5b',\n",
    "        messages= history,\n",
    "        stream=True\n",
    "    )\n",
    "    result = \"\"\n",
    "    for word in response:\n",
    "        result += word.message.content\n",
    "        yield result\n",
    "    \n",
    "demo = gr.ChatInterface(\n",
    "    slow_echo,\n",
    "    type=\"messages\",\n",
    "    flagging_mode=\"manual\",\n",
    "    flagging_options=[\"Like\", \"Spam\", \"Inappropriate\", \"Other\"],\n",
    "    save_history=True,\n",
    ")\n",
    "\n",
    "if __name__ == \"__main__\":\n",
    "    demo.launch()"
   ]
  },
  {
   "cell_type": "markdown",
   "id": "54a2cd51",
   "metadata": {},
   "source": [
    "## Tools\n",
    "\n",
    "Tools are an incredibly powerful feature provided by the frontier LLMs.<br>\n",
    "With tools, you can write a function, and have the LLM call that function as part of its response.<br>\n",
    "Sounds almost spooky.. we're giving it the power to run code on our machine?<br>\n",
    "Well, kinda."
   ]
  },
  {
   "cell_type": "code",
   "execution_count": 16,
   "id": "35d5cba7",
   "metadata": {},
   "outputs": [],
   "source": [
    "# Let's start by making a useful function\n",
    "\n",
    "\n",
    "\n",
    "def get_ticket_price(destination_city):\n",
    "    '''Get the price of a return ticket to the destination city. \n",
    "    Call this whenever you need to know the ticket price, \n",
    "    for example when a customer asks 'How much is a ticket to this city'\n",
    "    '''\n",
    "    ticket_prices = {\"london\": \"$799\", \"paris\": \"$899\", \"tokyo\": \"$1400\", \"berlin\": \"$499\"}\n",
    "    print(f\"Tool get_ticket_price called for {destination_city}\")\n",
    "    city = destination_city.lower()\n",
    "    return ticket_prices.get(city, \"Unknown\")"
   ]
  },
  {
   "cell_type": "code",
   "execution_count": 17,
   "id": "32b41147",
   "metadata": {},
   "outputs": [],
   "source": [
    "# There's a particular dictionary structure that's required to describe our function:\n",
    "\n",
    "price_function = {\n",
    "    \"name\": \"get_ticket_price\",\n",
    "    \"description\": \"Get the price of a return ticket to the destination city. Call this whenever you need to know the ticket price, for example when a customer asks 'How much is a ticket to this city'\",\n",
    "    \"parameters\": {\n",
    "        \"type\": \"object\",\n",
    "        \"properties\": {\n",
    "            \"destination_city\": {\n",
    "                \"type\": \"string\",\n",
    "                \"description\": \"The city that the customer wants to travel to\",\n",
    "            },\n",
    "        },\n",
    "        \"required\": [\"destination_city\"],\n",
    "        \"additionalProperties\": False\n",
    "    }\n",
    "}"
   ]
  },
  {
   "cell_type": "code",
   "execution_count": 18,
   "id": "97228d59",
   "metadata": {},
   "outputs": [],
   "source": [
    "# And this is included in a list of tools:\n",
    "\n",
    "tools = [{\"type\": \"function\", \"function\": price_function}]"
   ]
  },
  {
   "cell_type": "code",
   "execution_count": 22,
   "id": "d5ceb27e",
   "metadata": {},
   "outputs": [
    {
     "name": "stdout",
     "output_type": "stream",
     "text": [
      "* Running on local URL:  http://127.0.0.1:7874\n",
      "\n",
      "To create a public link, set `share=True` in `launch()`.\n"
     ]
    },
    {
     "data": {
      "text/html": [
       "<div><iframe src=\"http://127.0.0.1:7874/\" width=\"100%\" height=\"500\" allow=\"autoplay; camera; microphone; clipboard-read; clipboard-write;\" frameborder=\"0\" allowfullscreen></iframe></div>"
      ],
      "text/plain": [
       "<IPython.core.display.HTML object>"
      ]
     },
     "metadata": {},
     "output_type": "display_data"
    }
   ],
   "source": [
    "def slow_echo(message, history):\n",
    "    # print(history)\n",
    "    history.append({\"role\" : \"system\", \"content\" : system_message})\n",
    "    history.append({\"role\":\"user\", \"content\":message})\n",
    "    response = ollama.chat(\n",
    "        model = \"qwen2.5:1.5b\",\n",
    "        messages=history,\n",
    "        stream=True,\n",
    "        tools=tools\n",
    "    )\n",
    "    result = \"\"\n",
    "    for word in response:\n",
    "        result += word.message.content\n",
    "        yield result\n",
    "\n",
    "demo = gr.ChatInterface(\n",
    "    slow_echo,\n",
    "    type=\"messages\",\n",
    "    flagging_mode=\"manual\",\n",
    "    flagging_options=[\"Like\", \"Spam\", \"Inappropriate\", \"Other\"],\n",
    "    save_history=True,\n",
    ")\n",
    "\n",
    "if __name__ == \"__main__\":\n",
    "    demo.launch()"
   ]
  },
  {
   "cell_type": "code",
   "execution_count": null,
   "id": "fa2ceec9",
   "metadata": {},
   "outputs": [],
   "source": []
  }
 ],
 "metadata": {
  "kernelspec": {
   "display_name": "venv",
   "language": "python",
   "name": "python3"
  },
  "language_info": {
   "codemirror_mode": {
    "name": "ipython",
    "version": 3
   },
   "file_extension": ".py",
   "mimetype": "text/x-python",
   "name": "python",
   "nbconvert_exporter": "python",
   "pygments_lexer": "ipython3",
   "version": "3.12.5"
  }
 },
 "nbformat": 4,
 "nbformat_minor": 5
}
