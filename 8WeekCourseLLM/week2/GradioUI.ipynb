{
 "cells": [
  {
   "cell_type": "code",
   "execution_count": 6,
   "id": "77e4062a",
   "metadata": {},
   "outputs": [
    {
     "name": "stderr",
     "output_type": "stream",
     "text": [
      "c:\\Users\\spurusho\\Downloads\\GenAI\\Personal\\8WeekCourseLLM\\venv\\Lib\\site-packages\\gradio\\interface.py:415: UserWarning: The `allow_flagging` parameter in `Interface` is deprecated.Use `flagging_mode` instead.\n",
      "  warnings.warn(\n"
     ]
    },
    {
     "name": "stdout",
     "output_type": "stream",
     "text": [
      "* Running on local URL:  http://127.0.0.1:7864\n",
      "\n",
      "Could not create share link. Please check your internet connection or our status page: https://status.gradio.app.\n"
     ]
    },
    {
     "data": {
      "text/html": [
       "<div><iframe src=\"http://127.0.0.1:7864/\" width=\"100%\" height=\"500\" allow=\"autoplay; camera; microphone; clipboard-read; clipboard-write;\" frameborder=\"0\" allowfullscreen></iframe></div>"
      ],
      "text/plain": [
       "<IPython.core.display.HTML object>"
      ]
     },
     "metadata": {},
     "output_type": "display_data"
    },
    {
     "data": {
      "text/plain": []
     },
     "execution_count": 6,
     "metadata": {},
     "output_type": "execute_result"
    }
   ],
   "source": [
    "import gradio as gr\n",
    "\n",
    "def image_classifier(inp):\n",
    "    return inp.upper()\n",
    "\n",
    "demo = gr.Interface(fn=image_classifier, inputs=\"textbox\",examples=[\"hello, how are you\"], outputs=\"textbox\", allow_flagging=\"never\"\n",
    "                    )\n",
    "demo.launch(share=True)"
   ]
  },
  {
   "cell_type": "code",
   "execution_count": 8,
   "id": "6702902a",
   "metadata": {},
   "outputs": [
    {
     "name": "stdout",
     "output_type": "stream",
     "text": [
      "* Running on local URL:  http://127.0.0.1:7866\n",
      "\n",
      "To create a public link, set `share=True` in `launch()`.\n"
     ]
    },
    {
     "data": {
      "text/html": [
       "<div><iframe src=\"http://127.0.0.1:7866/\" width=\"100%\" height=\"500\" allow=\"autoplay; camera; microphone; clipboard-read; clipboard-write;\" frameborder=\"0\" allowfullscreen></iframe></div>"
      ],
      "text/plain": [
       "<IPython.core.display.HTML object>"
      ]
     },
     "metadata": {},
     "output_type": "display_data"
    },
    {
     "name": "stdout",
     "output_type": "stream",
     "text": [
      "[]\n",
      "[{'role': 'user', 'metadata': None, 'content': 'hello hii', 'options': None}, {'role': 'assistant', 'metadata': None, 'content': 'You typed: hello hii', 'options': None}]\n",
      "[{'role': 'user', 'metadata': None, 'content': 'hello hii', 'options': None}, {'role': 'assistant', 'metadata': None, 'content': 'You typed: hello hii', 'options': None}, {'role': 'user', 'metadata': None, 'content': 'how are you', 'options': None}, {'role': 'assistant', 'metadata': None, 'content': 'You typed: how are you', 'options': None}]\n",
      "[]\n",
      "[{'role': 'user', 'metadata': None, 'content': 'hey man', 'options': None}, {'role': 'assistant', 'metadata': None, 'content': 'You typed: hey man', 'options': None}]\n",
      "[{'role': 'user', 'metadata': None, 'content': 'hey man', 'options': None}, {'role': 'assistant', 'metadata': None, 'content': 'You typed: hey man', 'options': None}, {'role': 'user', 'metadata': None, 'content': 'let go goa', 'options': None}, {'role': 'assistant', 'metadata': None, 'content': 'You typed: let go goa', 'options': None}]\n"
     ]
    },
    {
     "name": "stderr",
     "output_type": "stream",
     "text": [
      "c:\\Users\\spurusho\\Downloads\\GenAI\\Personal\\8WeekCourseLLM\\venv\\Lib\\site-packages\\gradio\\chat_interface.py:500: UserWarning: You have not specified a value for the `type` parameter. Defaulting to the 'tuples' format for chatbot messages, but this is deprecated and will be removed in a future version of Gradio. Please set type='messages' instead, which uses openai-style dictionaries with 'role' and 'content' keys.\n",
      "  Chatbot(\n"
     ]
    },
    {
     "name": "stdout",
     "output_type": "stream",
     "text": [
      "[{'role': 'user', 'metadata': None, 'content': 'hello hii', 'options': None}, {'role': 'assistant', 'metadata': None, 'content': 'You typed: hello hii', 'options': None}, {'role': 'user', 'metadata': None, 'content': 'how are you', 'options': None}, {'role': 'assistant', 'metadata': None, 'content': 'You typed: how are you', 'options': None}, {'role': 'user', 'metadata': None, 'content': 'tell me', 'options': None}, {'role': 'assistant', 'metadata': None, 'content': 'You typed: tell me', 'options': None}]\n"
     ]
    }
   ],
   "source": [
    "import time\n",
    "import gradio as gr\n",
    "\n",
    "def slow_echo(message, history):\n",
    "    print(history)\n",
    "    for i in range(len(message)):\n",
    "        time.sleep(0.05)\n",
    "        yield \"You typed: \" + message[: i + 1]\n",
    "\n",
    "demo = gr.ChatInterface(\n",
    "    slow_echo,\n",
    "    type=\"messages\",\n",
    "    flagging_mode=\"manual\",\n",
    "    flagging_options=[\"Like\", \"Spam\", \"Inappropriate\", \"Other\"],\n",
    "    save_history=True,\n",
    ")\n",
    "\n",
    "if __name__ == \"__main__\":\n",
    "    demo.launch()"
   ]
  },
  {
   "cell_type": "code",
   "execution_count": 9,
   "id": "5f2030b8",
   "metadata": {},
   "outputs": [
    {
     "name": "stdout",
     "output_type": "stream",
     "text": [
      "* Running on local URL:  http://127.0.0.1:7867\n",
      "\n",
      "To create a public link, set `share=True` in `launch()`.\n"
     ]
    },
    {
     "data": {
      "text/html": [
       "<div><iframe src=\"http://127.0.0.1:7867/\" width=\"100%\" height=\"500\" allow=\"autoplay; camera; microphone; clipboard-read; clipboard-write;\" frameborder=\"0\" allowfullscreen></iframe></div>"
      ],
      "text/plain": [
       "<IPython.core.display.HTML object>"
      ]
     },
     "metadata": {},
     "output_type": "display_data"
    },
    {
     "data": {
      "text/plain": []
     },
     "execution_count": 9,
     "metadata": {},
     "output_type": "execute_result"
    }
   ],
   "source": [
    "import gradio as gr\n",
    "\n",
    "python_code = \"\"\"\n",
    "def fib(n):\n",
    "    if n <= 0:\n",
    "        return 0\n",
    "    elif n == 1:\n",
    "        return 1\n",
    "    else:\n",
    "        return fib(n-1) + fib(n-2)\n",
    "\"\"\"\n",
    "\n",
    "js_code = \"\"\"\n",
    "function fib(n) {\n",
    "    if (n <= 0) return 0;\n",
    "    if (n === 1) return 1;\n",
    "    return fib(n - 1) + fib(n - 2);\n",
    "}\n",
    "\"\"\"\n",
    "\n",
    "def chat(message, history):\n",
    "    if \"python\" in message.lower():\n",
    "        return \"Type Python or JavaScript to see the code.\", gr.Code(language=\"python\", value=python_code)\n",
    "    elif \"javascript\" in message.lower():\n",
    "        return \"Type Python or JavaScript to see the code.\", gr.Code(language=\"javascript\", value=js_code)\n",
    "    else:\n",
    "        return \"Please ask about Python or JavaScript.\", None\n",
    "\n",
    "with gr.Blocks() as demo:\n",
    "    code = gr.Code(render=False)\n",
    "    with gr.Row():\n",
    "        with gr.Column():\n",
    "            gr.Markdown(\"<center><h1>Write Python or JavaScript</h1></center>\")\n",
    "            gr.ChatInterface(\n",
    "                chat,\n",
    "                examples=[\"Python\", \"JavaScript\"],\n",
    "                additional_outputs=[code],\n",
    "                type=\"messages\"\n",
    "            )\n",
    "        with gr.Column():\n",
    "            gr.Markdown(\"<center><h1>Code Artifacts</h1></center>\")\n",
    "            code.render()\n",
    "\n",
    "demo.launch()"
   ]
  },
  {
   "cell_type": "code",
   "execution_count": 10,
   "id": "01af54a4",
   "metadata": {},
   "outputs": [
    {
     "name": "stderr",
     "output_type": "stream",
     "text": [
      "c:\\Users\\spurusho\\Downloads\\GenAI\\Personal\\8WeekCourseLLM\\venv\\Lib\\site-packages\\gradio\\chat_interface.py:334: UserWarning: The 'tuples' format for chatbot messages is deprecated and will be removed in a future version of Gradio. Please set type='messages' instead, which uses openai-style 'role' and 'content' keys.\n",
      "  self.chatbot = Chatbot(\n"
     ]
    },
    {
     "name": "stdout",
     "output_type": "stream",
     "text": [
      "* Running on local URL:  http://127.0.0.1:7868\n",
      "\n",
      "To create a public link, set `share=True` in `launch()`.\n"
     ]
    },
    {
     "data": {
      "text/html": [
       "<div><iframe src=\"http://127.0.0.1:7868/\" width=\"100%\" height=\"500\" allow=\"autoplay; camera; microphone; clipboard-read; clipboard-write;\" frameborder=\"0\" allowfullscreen></iframe></div>"
      ],
      "text/plain": [
       "<IPython.core.display.HTML object>"
      ]
     },
     "metadata": {},
     "output_type": "display_data"
    }
   ],
   "source": [
    "import gradio as gr\n",
    "\n",
    "hello_world = gr.Interface(lambda name: \"Hello \" + name, \"text\", \"text\")\n",
    "bye_world = gr.Interface(lambda name: \"Bye \" + name, \"text\", \"text\")\n",
    "chat = gr.ChatInterface(lambda *args: \"Hello \" + args[0])\n",
    "\n",
    "demo = gr.TabbedInterface([hello_world, bye_world, chat], [\"Hello World\", \"Bye World\", \"Chat\"])\n",
    "\n",
    "if __name__ == \"__main__\":\n",
    "    demo.launch()"
   ]
  },
  {
   "cell_type": "code",
   "execution_count": 11,
   "id": "1d819a51",
   "metadata": {},
   "outputs": [
    {
     "name": "stdout",
     "output_type": "stream",
     "text": [
      "* Running on local URL:  http://127.0.0.1:7869\n",
      "\n",
      "To create a public link, set `share=True` in `launch()`.\n"
     ]
    },
    {
     "data": {
      "text/html": [
       "<div><iframe src=\"http://127.0.0.1:7869/\" width=\"100%\" height=\"500\" allow=\"autoplay; camera; microphone; clipboard-read; clipboard-write;\" frameborder=\"0\" allowfullscreen></iframe></div>"
      ],
      "text/plain": [
       "<IPython.core.display.HTML object>"
      ]
     },
     "metadata": {},
     "output_type": "display_data"
    }
   ],
   "source": [
    "import numpy as np\n",
    "import gradio as gr\n",
    "\n",
    "def flip_text(x):\n",
    "    return x[::-1]\n",
    "\n",
    "def flip_image(x):\n",
    "    return np.fliplr(x)\n",
    "\n",
    "with gr.Blocks() as demo:\n",
    "    gr.Markdown(\"Flip text or image files using this demo.\")\n",
    "    with gr.Tab(\"Flip Text\"):\n",
    "        text_input = gr.Textbox()\n",
    "        text_output = gr.Textbox()\n",
    "        text_button = gr.Button(\"Flip\")\n",
    "    with gr.Tab(\"Flip Image\"):\n",
    "        with gr.Row():\n",
    "            image_input = gr.Image()\n",
    "            image_output = gr.Image()\n",
    "        image_button = gr.Button(\"Flip\")\n",
    "\n",
    "    with gr.Accordion(\"Open for More!\", open=False):\n",
    "        gr.Markdown(\"Look at me...\")\n",
    "        temp_slider = gr.Slider(\n",
    "            0, 1,\n",
    "            value=0.1,\n",
    "            step=0.1,\n",
    "            interactive=True,\n",
    "            label=\"Slide me\",\n",
    "        )\n",
    "\n",
    "    text_button.click(flip_text, inputs=text_input, outputs=text_output)\n",
    "    image_button.click(flip_image, inputs=image_input, outputs=image_output)\n",
    "\n",
    "if __name__ == \"__main__\":\n",
    "    demo.launch()"
   ]
  },
  {
   "cell_type": "code",
   "execution_count": null,
   "id": "e19d01f1",
   "metadata": {},
   "outputs": [],
   "source": []
  }
 ],
 "metadata": {
  "kernelspec": {
   "display_name": "venv",
   "language": "python",
   "name": "python3"
  },
  "language_info": {
   "codemirror_mode": {
    "name": "ipython",
    "version": 3
   },
   "file_extension": ".py",
   "mimetype": "text/x-python",
   "name": "python",
   "nbconvert_exporter": "python",
   "pygments_lexer": "ipython3",
   "version": "3.12.5"
  }
 },
 "nbformat": 4,
 "nbformat_minor": 5
}
