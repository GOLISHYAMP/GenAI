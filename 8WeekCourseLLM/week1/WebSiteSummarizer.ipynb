{
 "cells": [
  {
   "cell_type": "code",
   "execution_count": null,
   "id": "66db8f4e",
   "metadata": {},
   "outputs": [],
   "source": [
    "from bs4 import BeautifulSoup\n",
    "from langchain_ollama.chat_models import ChatOllama\n",
    "from langchain_core.messages import HumanMessage, SystemMessage\n",
    "import requests\n"
   ]
  },
  {
   "cell_type": "code",
   "execution_count": 23,
   "id": "7b1641fe",
   "metadata": {},
   "outputs": [],
   "source": [
    "from langchain_community.document_loaders import WebBaseLoader\n",
    "\n",
    "loader = WebBaseLoader(\n",
    "    web_paths=[\"https://edwarddonner.com\"],\n",
    "    header_template={\"User-Agent\": \"Mozilla/5.0 (Windows NT 10.0; Win64; x64)\"}\n",
    ")\n",
    "documents = loader.load()\n"
   ]
  },
  {
   "cell_type": "code",
   "execution_count": 25,
   "id": "86906ed3",
   "metadata": {},
   "outputs": [
    {
     "data": {
      "text/plain": [
       "'\\n\\n\\n\\n\\n\\n\\n\\n\\n\\n\\n\\n\\n\\n\\n\\n\\n\\n\\n\\n\\nHome - Edward Donner\\n\\n\\n\\n\\n\\n\\n\\n\\n\\n\\n\\n\\n\\n\\n\\n\\n\\n\\n\\n\\n\\n\\n\\n\\n\\n\\n\\n\\n\\n\\n\\n\\n\\n\\n\\n\\n\\n\\n\\n\\n\\n\\n\\n\\n\\n\\n\\n\\n \\n\\n\\n\\n\\n\\n\\n\\n\\n\\nHomeConnect FourOutsmartAn arena that pits LLMs against each other in a battle of diplomacy and deviousnessAboutPosts\\n\\n\\n\\n\\n\\n\\n\\nWell, hi there.\\nI’m Ed. I like writing code and experimenting with LLMs, and hopefully you’re here because you do too. I also enjoy DJing (but I’m badly out of practice), amateur electronic music production (very amateur) and losing myself in Hacker News, nodding my head sagely to things I only half understand.\\nI’m the co-founder and CTO of Nebula.io. We’re applying AI to a field where it can make a massive, positive impact: helping people discover their potential and pursue their reason for being. Recruiters use our product today to source, understand, engage and manage talent. I’m previously the founder and CEO of AI startup untapt, acquired in 2021.\\nWe work with groundbreaking, proprietary LLMs verticalized for talent, we’ve patented our matching model, and our award-winning platform has happy customers and tons of press coverage. Connect with me for more!\\n\\n\\n\\nJanuary 23, 2025\\nLLM Workshop – Hands-on with Agents – resources\\n\\n\\nDecember 21, 2024\\nWelcome, SuperDataScientists!\\n\\n\\nNovember 13, 2024\\nMastering AI and LLM Engineering – Resources\\n\\n\\nOctober 16, 2024\\nFrom Software Engineer to AI Data Scientist – resources\\n\\n\\n\\n\\n\\n\\n\\nNavigation\\nHomeConnect FourOutsmartAn arena that pits LLMs against each other in a battle of diplomacy and deviousnessAboutPosts\\n\\nGet in touch\\n\\ned [at] edwarddonner [dot] com\\nwww.edwarddonner.com\\n\\n\\n\\nFollow me\\nLinkedIn\\nTwitter\\nFacebook\\n\\n\\nSubscribe to newsletter\\n\\n\\n\\n\\n\\n\\n\\t\\t\\t\\t\\t\\t\\t\\tType your email…\\t\\t\\t\\t\\t\\t\\t\\n \\n\\n\\n\\n\\n\\n\\n\\n\\n \\n\\t\\t\\t\\t\\t\\t\\t\\tSubscribe\\t\\t\\t\\t\\t\\t\\t\\n\\n\\n\\n\\n\\n\\n\\n\\n\\n\\n\\n\\n\\n\\n\\n\\n\\n\\n'"
      ]
     },
     "execution_count": 25,
     "metadata": {},
     "output_type": "execute_result"
    }
   ],
   "source": [
    "documents[0].page_content"
   ]
  },
  {
   "cell_type": "code",
   "execution_count": 26,
   "id": "c05a051d",
   "metadata": {},
   "outputs": [],
   "source": [
    "\n",
    "messages = [\n",
    "    SystemMessage(\n",
    "        content=\"You are AI which will summarize the provided text\"\n",
    "    ),\n",
    "    HumanMessage(\n",
    "        content=f\"Here is the website text summarize it {documents[0].page_content}\"\n",
    "    )\n",
    "]\n",
    "\n",
    "# Instantiate a chat model and invoke it with the messages\n",
    "model = ChatOllama(model = 'qwen2.5:1.5b', temperature=0.2)\n",
    "result = model.invoke(messages)"
   ]
  },
  {
   "cell_type": "code",
   "execution_count": 29,
   "id": "9b13882a",
   "metadata": {},
   "outputs": [
    {
     "name": "stdout",
     "output_type": "stream",
     "text": [
      "Edward Donner is a software engineer and co-founder of Nebula.io, an AI startup that applies LLMs to help people discover their potential. He previously founded untapt, which was acquired in 2021. Donner has written about his experiences with LLMs on Hacker News and shares resources for learning more.\n"
     ]
    }
   ],
   "source": [
    "print(result.content)"
   ]
  },
  {
   "cell_type": "code",
   "execution_count": null,
   "id": "b5b5191e",
   "metadata": {},
   "outputs": [],
   "source": []
  }
 ],
 "metadata": {
  "kernelspec": {
   "display_name": "venv",
   "language": "python",
   "name": "python3"
  },
  "language_info": {
   "codemirror_mode": {
    "name": "ipython",
    "version": 3
   },
   "file_extension": ".py",
   "mimetype": "text/x-python",
   "name": "python",
   "nbconvert_exporter": "python",
   "pygments_lexer": "ipython3",
   "version": "3.12.5"
  }
 },
 "nbformat": 4,
 "nbformat_minor": 5
}
